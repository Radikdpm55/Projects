{
 "cells": [
  {
   "cell_type": "markdown",
   "id": "42691f29",
   "metadata": {
    "toc": true
   },
   "source": [
    "<h1>Содержание<span class=\"tocSkip\"></span></h1>\n",
    "<div class=\"toc\"><ul class=\"toc-item\"><li><span><a href=\"#Проект-&quot;Аналитика-интернет-магазина&quot;\" data-toc-modified-id=\"Проект-&quot;Аналитика-интернет-магазина&quot;-1\"><span class=\"toc-item-num\">1&nbsp;&nbsp;</span>Проект \"Аналитика интернет-магазина\"</a></span><ul class=\"toc-item\"><li><span><a href=\"#Описание-проекта\" data-toc-modified-id=\"Описание-проекта-1.1\"><span class=\"toc-item-num\">1.1&nbsp;&nbsp;</span>Описание проекта</a></span></li><li><span><a href=\"#Описание-данных\" data-toc-modified-id=\"Описание-данных-1.2\"><span class=\"toc-item-num\">1.2&nbsp;&nbsp;</span>Описание данных</a></span></li><li><span><a href=\"#Загрузка-данных\" data-toc-modified-id=\"Загрузка-данных-1.3\"><span class=\"toc-item-num\">1.3&nbsp;&nbsp;</span>Загрузка данных</a></span></li></ul></li><li><span><a href=\"#Предобработка-данных\" data-toc-modified-id=\"Предобработка-данных-2\"><span class=\"toc-item-num\">2&nbsp;&nbsp;</span>Предобработка данных</a></span></li><li><span><a href=\"#Приоритезация-гипотез\" data-toc-modified-id=\"Приоритезация-гипотез-3\"><span class=\"toc-item-num\">3&nbsp;&nbsp;</span>Приоритезация гипотез</a></span><ul class=\"toc-item\"><li><span><a href=\"#Задача-1\" data-toc-modified-id=\"Задача-1-3.1\"><span class=\"toc-item-num\">3.1&nbsp;&nbsp;</span>Задача 1</a></span></li><li><span><a href=\"#Задача-2\" data-toc-modified-id=\"Задача-2-3.2\"><span class=\"toc-item-num\">3.2&nbsp;&nbsp;</span>Задача 2</a></span></li><li><span><a href=\"#Задача-3\" data-toc-modified-id=\"Задача-3-3.3\"><span class=\"toc-item-num\">3.3&nbsp;&nbsp;</span>Задача 3</a></span></li></ul></li><li><span><a href=\"#Анализ-A/B-теста\" data-toc-modified-id=\"Анализ-A/B-теста-4\"><span class=\"toc-item-num\">4&nbsp;&nbsp;</span>Анализ A/B-теста</a></span><ul class=\"toc-item\"><li><span><a href=\"#Задача-1\" data-toc-modified-id=\"Задача-1-4.1\"><span class=\"toc-item-num\">4.1&nbsp;&nbsp;</span>Задача 1</a></span></li><li><span><a href=\"#Задача-2\" data-toc-modified-id=\"Задача-2-4.2\"><span class=\"toc-item-num\">4.2&nbsp;&nbsp;</span>Задача 2</a></span></li><li><span><a href=\"#Задача-3\" data-toc-modified-id=\"Задача-3-4.3\"><span class=\"toc-item-num\">4.3&nbsp;&nbsp;</span>Задача 3</a></span></li><li><span><a href=\"#Задача-4\" data-toc-modified-id=\"Задача-4-4.4\"><span class=\"toc-item-num\">4.4&nbsp;&nbsp;</span>Задача 4</a></span></li><li><span><a href=\"#Задача-5\" data-toc-modified-id=\"Задача-5-4.5\"><span class=\"toc-item-num\">4.5&nbsp;&nbsp;</span>Задача 5</a></span></li><li><span><a href=\"#Задача-6\" data-toc-modified-id=\"Задача-6-4.6\"><span class=\"toc-item-num\">4.6&nbsp;&nbsp;</span>Задача 6</a></span></li><li><span><a href=\"#Задача-7\" data-toc-modified-id=\"Задача-7-4.7\"><span class=\"toc-item-num\">4.7&nbsp;&nbsp;</span>Задача 7</a></span></li><li><span><a href=\"#Задача-8\" data-toc-modified-id=\"Задача-8-4.8\"><span class=\"toc-item-num\">4.8&nbsp;&nbsp;</span>Задача 8</a></span></li><li><span><a href=\"#Задача-9\" data-toc-modified-id=\"Задача-9-4.9\"><span class=\"toc-item-num\">4.9&nbsp;&nbsp;</span>Задача 9</a></span></li><li><span><a href=\"#Задача-10\" data-toc-modified-id=\"Задача-10-4.10\"><span class=\"toc-item-num\">4.10&nbsp;&nbsp;</span>Задача 10</a></span></li><li><span><a href=\"#Задача-11\" data-toc-modified-id=\"Задача-11-4.11\"><span class=\"toc-item-num\">4.11&nbsp;&nbsp;</span>Задача 11</a></span></li><li><span><a href=\"#Задача-12\" data-toc-modified-id=\"Задача-12-4.12\"><span class=\"toc-item-num\">4.12&nbsp;&nbsp;</span>Задача 12</a></span></li><li><span><a href=\"#Задача-13\" data-toc-modified-id=\"Задача-13-4.13\"><span class=\"toc-item-num\">4.13&nbsp;&nbsp;</span>Задача 13</a></span></li><li><span><a href=\"#Задача-14\" data-toc-modified-id=\"Задача-14-4.14\"><span class=\"toc-item-num\">4.14&nbsp;&nbsp;</span>Задача 14</a></span></li></ul></li><li><span><a href=\"#Выводы\" data-toc-modified-id=\"Выводы-5\"><span class=\"toc-item-num\">5&nbsp;&nbsp;</span>Выводы</a></span></li></ul></div>"
   ]
  },
  {
   "cell_type": "markdown",
   "id": "dbf2f075",
   "metadata": {},
   "source": [
    "## Проект \"Аналитика интернет-магазина\""
   ]
  },
  {
   "cell_type": "markdown",
   "id": "1468f3c4",
   "metadata": {},
   "source": [
    "### Описание проекта"
   ]
  },
  {
   "cell_type": "markdown",
   "id": "6f0b8104",
   "metadata": {},
   "source": [
    "<font size=3> Будучи аналитиком крупного интернет-магазина, нужно приоритезировать гипотезы по увеличению выручки, подготовленные вместе с отделом маркетинга. Так же проанализировать результаты проведенного A-B теста."
   ]
  },
  {
   "cell_type": "markdown",
   "id": "fc999577",
   "metadata": {},
   "source": [
    "### Описание данных"
   ]
  },
  {
   "cell_type": "markdown",
   "id": "7f1cf88c",
   "metadata": {},
   "source": [
    "Файл /datasets/hypothesis.csv: \n",
    "\n",
    "- Hypothesis — краткое описание гипотезы;\n",
    "- Reach — охват пользователей по 10-балльной шкале;\n",
    "- Impact — влияние на пользователей по 10-балльной шкале;\n",
    "- Confidence — уверенность в гипотезе по 10-балльной шкале;\n",
    "- Efforts — затраты ресурсов на проверку гипотезы по 10-балльной шкале. Чем больше значение Efforts, тем дороже проверка гипотезы\n",
    "\n",
    "Файл /datasets/orders.csv:\n",
    "\n",
    "- transactionId — идентификатор заказа;\n",
    "- visitorId — идентификатор пользователя, совершившего заказ;\n",
    "- date — дата, когда был совершён заказ;\n",
    "- revenue — выручка заказа;\n",
    "- group — группа A/B-теста, в которую попал заказ.\n",
    "\n",
    "Файл /datasets/visitors.csv:\n",
    "- date — дата;\n",
    "- group — группа A/B-теста;\n",
    "- visitors — количество пользователей в указанную дату в указанной группе A/B-теста"
   ]
  },
  {
   "cell_type": "markdown",
   "id": "e59e5c04",
   "metadata": {},
   "source": [
    "### Загрузка данных"
   ]
  },
  {
   "cell_type": "markdown",
   "id": "9ecfb6c8",
   "metadata": {},
   "source": [
    "Загрузим библиотеки для работы с данными"
   ]
  },
  {
   "cell_type": "code",
   "execution_count": 1,
   "id": "c53f5339",
   "metadata": {},
   "outputs": [],
   "source": [
    "import pandas as pd\n",
    "import numpy as np\n",
    "import matplotlib.pyplot as plt\n",
    "from scipy import stats as st"
   ]
  },
  {
   "cell_type": "markdown",
   "id": "52f69d25",
   "metadata": {},
   "source": [
    "Загрузим данные"
   ]
  },
  {
   "cell_type": "code",
   "execution_count": 2,
   "id": "a6b31a9c",
   "metadata": {},
   "outputs": [],
   "source": [
    "try :\n",
    "    hypothesis = pd.read_csv('C:\\\\Users\\\\Radik\\\\Downloads\\\\Проекты\\\\Данные для проектов\\\\hypothesis.csv')\n",
    "    orders = pd.read_csv('C:\\\\Users\\\\Radik\\\\Downloads\\\\Проекты\\\\Данные для проектов\\\\orders.csv', parse_dates=['date'])\n",
    "    visitors = pd.read_csv('C:\\\\Users\\\\Radik\\\\Downloads\\\\Проекты\\\\Данные для проектов\\\\visitors.csv', parse_dates=['date'])\n",
    "except:\n",
    "    hypothesis = pd.read_csv('/datasets/hypothesis.csv')\n",
    "    orders = pd.read_csv('/datasets/orders.csv', parse_dates=['date'])\n",
    "    visitors = pd.read_csv('/datasets/visitors.csv', parse_dates=['date'])"
   ]
  },
  {
   "cell_type": "markdown",
   "id": "b66e70e6",
   "metadata": {},
   "source": [
    "Изучим их"
   ]
  },
  {
   "cell_type": "code",
   "execution_count": 3,
   "id": "f990b74e",
   "metadata": {},
   "outputs": [
    {
     "name": "stdout",
     "output_type": "stream",
     "text": [
      "\u001b[1mНазвание таблицы: hypothesis\u001b[0m\n",
      "<class 'pandas.core.frame.DataFrame'>\n",
      "RangeIndex: 9 entries, 0 to 8\n",
      "Data columns (total 5 columns):\n",
      " #   Column      Non-Null Count  Dtype \n",
      "---  ------      --------------  ----- \n",
      " 0   Hypothesis  9 non-null      object\n",
      " 1   Reach       9 non-null      int64 \n",
      " 2   Impact      9 non-null      int64 \n",
      " 3   Confidence  9 non-null      int64 \n",
      " 4   Efforts     9 non-null      int64 \n",
      "dtypes: int64(4), object(1)\n",
      "memory usage: 488.0+ bytes\n",
      "None\n",
      "\u001b[1mНаличие дубликатов в таблице:\u001b[0m\n",
      "0\n",
      "\u001b[1mНаличие пропусков в таблице:\u001b[0m\n",
      "Hypothesis    0\n",
      "Reach         0\n",
      "Impact        0\n",
      "Confidence    0\n",
      "Efforts       0\n",
      "dtype: int64\n",
      "\n",
      "\u001b[1mНазвание таблицы: orders\u001b[0m\n",
      "<class 'pandas.core.frame.DataFrame'>\n",
      "RangeIndex: 1197 entries, 0 to 1196\n",
      "Data columns (total 5 columns):\n",
      " #   Column         Non-Null Count  Dtype         \n",
      "---  ------         --------------  -----         \n",
      " 0   transactionId  1197 non-null   int64         \n",
      " 1   visitorId      1197 non-null   int64         \n",
      " 2   date           1197 non-null   datetime64[ns]\n",
      " 3   revenue        1197 non-null   int64         \n",
      " 4   group          1197 non-null   object        \n",
      "dtypes: datetime64[ns](1), int64(3), object(1)\n",
      "memory usage: 46.9+ KB\n",
      "None\n",
      "\u001b[1mНаличие дубликатов в таблице:\u001b[0m\n",
      "0\n",
      "\u001b[1mНаличие пропусков в таблице:\u001b[0m\n",
      "transactionId    0\n",
      "visitorId        0\n",
      "date             0\n",
      "revenue          0\n",
      "group            0\n",
      "dtype: int64\n",
      "\n",
      "\u001b[1mНазвание таблицы: visitors\u001b[0m\n",
      "<class 'pandas.core.frame.DataFrame'>\n",
      "RangeIndex: 62 entries, 0 to 61\n",
      "Data columns (total 3 columns):\n",
      " #   Column    Non-Null Count  Dtype         \n",
      "---  ------    --------------  -----         \n",
      " 0   date      62 non-null     datetime64[ns]\n",
      " 1   group     62 non-null     object        \n",
      " 2   visitors  62 non-null     int64         \n",
      "dtypes: datetime64[ns](1), int64(1), object(1)\n",
      "memory usage: 1.6+ KB\n",
      "None\n",
      "\u001b[1mНаличие дубликатов в таблице:\u001b[0m\n",
      "0\n",
      "\u001b[1mНаличие пропусков в таблице:\u001b[0m\n",
      "date        0\n",
      "group       0\n",
      "visitors    0\n",
      "dtype: int64\n",
      "\n"
     ]
    }
   ],
   "source": [
    "tables = ['hypothesis', 'orders', 'visitors']\n",
    "cnt = 0\n",
    "for i in hypothesis, orders, visitors :\n",
    "        print('\\033[1m' + 'Название таблицы: ' + tables[cnt]  + '\\033[0m')\n",
    "        print(i.info())\n",
    "        print('\\033[1m' + 'Наличие дубликатов в таблице:' + '\\033[0m')\n",
    "        print(i.duplicated().sum())\n",
    "        print('\\033[1m' + 'Наличие пропусков в таблице:' + '\\033[0m')\n",
    "        print (i.isna().sum())\n",
    "        print()\n",
    "        cnt += 1 "
   ]
  },
  {
   "cell_type": "markdown",
   "id": "50f63d2a",
   "metadata": {},
   "source": [
    "Видим 9 гипотез, 1197 записей и 5 столбцов о заказах, а так же 62 записи о проведенном A-B тесте. Пропусков и явных дублей не видим"
   ]
  },
  {
   "cell_type": "code",
   "execution_count": 4,
   "id": "96097014",
   "metadata": {},
   "outputs": [
    {
     "name": "stdout",
     "output_type": "stream",
     "text": [
      "                                          Hypothesis  Reach  Impact  \\\n",
      "0  Добавить два новых канала привлечения трафика,...      3      10   \n",
      "1  Запустить собственную службу доставки, что сок...      2       5   \n",
      "2  Добавить блоки рекомендаций товаров на сайт ин...      8       3   \n",
      "\n",
      "   Confidence  Efforts  \n",
      "0           8        6  \n",
      "1           4       10  \n",
      "2           7        3  \n",
      "   transactionId   visitorId       date  revenue group\n",
      "0     3667963787  3312258926 2019-08-15     1650     B\n",
      "1     2804400009  3642806036 2019-08-15      730     B\n",
      "2     2961555356  4069496402 2019-08-15      400     A\n",
      "        date group  visitors\n",
      "0 2019-08-01     A       719\n",
      "1 2019-08-02     A       619\n",
      "2 2019-08-03     A       507\n"
     ]
    }
   ],
   "source": [
    "for i in hypothesis, orders, visitors :\n",
    "    print(i.head(3))"
   ]
  },
  {
   "cell_type": "markdown",
   "id": "4ed1c625",
   "metadata": {},
   "source": [
    "## Предобработка данных"
   ]
  },
  {
   "cell_type": "markdown",
   "id": "90695347",
   "metadata": {},
   "source": [
    "Приведём стобцы к нижнему регистру"
   ]
  },
  {
   "cell_type": "code",
   "execution_count": 5,
   "id": "6d0b7856",
   "metadata": {},
   "outputs": [],
   "source": [
    "for r in hypothesis, orders, visitors :\n",
    "    r.columns = [x.lower() for x in r.columns.values]"
   ]
  },
  {
   "cell_type": "markdown",
   "id": "30497090",
   "metadata": {},
   "source": [
    "Проверим результат"
   ]
  },
  {
   "cell_type": "code",
   "execution_count": 6,
   "id": "43c671ad",
   "metadata": {},
   "outputs": [
    {
     "name": "stdout",
     "output_type": "stream",
     "text": [
      "Index(['hypothesis', 'reach', 'impact', 'confidence', 'efforts'], dtype='object')\n",
      "Index(['transactionid', 'visitorid', 'date', 'revenue', 'group'], dtype='object')\n",
      "Index(['date', 'group', 'visitors'], dtype='object')\n"
     ]
    }
   ],
   "source": [
    "for i in hypothesis, orders, visitors :\n",
    "    print(i.columns)"
   ]
  },
  {
   "cell_type": "markdown",
   "id": "5347fd57",
   "metadata": {},
   "source": [
    "Поищем неявные дубликаты в данных, а так же проверим корректность категориальных и числовых значений"
   ]
  },
  {
   "cell_type": "code",
   "execution_count": 7,
   "id": "2296bb8c",
   "metadata": {},
   "outputs": [
    {
     "data": {
      "text/plain": [
       "array(['Добавить два новых канала привлечения трафика, что позволит привлекать на 30% больше пользователей',\n",
       "       'Запустить собственную службу доставки, что сократит срок доставки заказов',\n",
       "       'Добавить блоки рекомендаций товаров на сайт интернет магазина, чтобы повысить конверсию и средний чек заказа',\n",
       "       'Изменить структура категорий, что увеличит конверсию, т.к. пользователи быстрее найдут нужный товар',\n",
       "       'Изменить цвет фона главной страницы, чтобы увеличить вовлеченность пользователей',\n",
       "       'Добавить страницу отзывов клиентов о магазине, что позволит увеличить количество заказов',\n",
       "       'Показать на главной странице баннеры с актуальными акциями и распродажами, чтобы увеличить конверсию',\n",
       "       'Добавить форму подписки на все основные страницы, чтобы собрать базу клиентов для email-рассылок',\n",
       "       'Запустить акцию, дающую скидку на товар в день рождения'],\n",
       "      dtype=object)"
      ]
     },
     "execution_count": 7,
     "metadata": {},
     "output_type": "execute_result"
    }
   ],
   "source": [
    "hypothesis['hypothesis'].unique()"
   ]
  },
  {
   "cell_type": "markdown",
   "id": "3fb8f232",
   "metadata": {},
   "source": [
    "Видим грамотно составленные, четко сформулированные и обособленные друг от друга гипотезы. Изменим лишь небольшую опечатку"
   ]
  },
  {
   "cell_type": "code",
   "execution_count": 8,
   "id": "028ca365",
   "metadata": {},
   "outputs": [],
   "source": [
    "hypothesis['hypothesis'] = hypothesis['hypothesis'].str.replace('структура', 'структуру')"
   ]
  },
  {
   "cell_type": "code",
   "execution_count": 9,
   "id": "7d0383e0",
   "metadata": {},
   "outputs": [
    {
     "data": {
      "text/html": [
       "<style  type=\"text/css\" >\n",
       "</style><table id=\"T_3d1ba_\" ><thead>    <tr>        <th class=\"blank level0\" ></th>        <th class=\"col_heading level0 col0\" >reach</th>        <th class=\"col_heading level0 col1\" >impact</th>        <th class=\"col_heading level0 col2\" >confidence</th>        <th class=\"col_heading level0 col3\" >efforts</th>    </tr></thead><tbody>\n",
       "                <tr>\n",
       "                        <th id=\"T_3d1ba_level0_row0\" class=\"row_heading level0 row0\" >count</th>\n",
       "                        <td id=\"T_3d1ba_row0_col0\" class=\"data row0 col0\" >9</td>\n",
       "                        <td id=\"T_3d1ba_row0_col1\" class=\"data row0 col1\" >9</td>\n",
       "                        <td id=\"T_3d1ba_row0_col2\" class=\"data row0 col2\" >9</td>\n",
       "                        <td id=\"T_3d1ba_row0_col3\" class=\"data row0 col3\" >9</td>\n",
       "            </tr>\n",
       "            <tr>\n",
       "                        <th id=\"T_3d1ba_level0_row1\" class=\"row_heading level0 row1\" >mean</th>\n",
       "                        <td id=\"T_3d1ba_row1_col0\" class=\"data row1 col0\" >5</td>\n",
       "                        <td id=\"T_3d1ba_row1_col1\" class=\"data row1 col1\" >5</td>\n",
       "                        <td id=\"T_3d1ba_row1_col2\" class=\"data row1 col2\" >6</td>\n",
       "                        <td id=\"T_3d1ba_row1_col3\" class=\"data row1 col3\" >5</td>\n",
       "            </tr>\n",
       "            <tr>\n",
       "                        <th id=\"T_3d1ba_level0_row2\" class=\"row_heading level0 row2\" >std</th>\n",
       "                        <td id=\"T_3d1ba_row2_col0\" class=\"data row2 col0\" >3</td>\n",
       "                        <td id=\"T_3d1ba_row2_col1\" class=\"data row2 col1\" >3</td>\n",
       "                        <td id=\"T_3d1ba_row2_col2\" class=\"data row2 col2\" >3</td>\n",
       "                        <td id=\"T_3d1ba_row2_col3\" class=\"data row2 col3\" >3</td>\n",
       "            </tr>\n",
       "            <tr>\n",
       "                        <th id=\"T_3d1ba_level0_row3\" class=\"row_heading level0 row3\" >min</th>\n",
       "                        <td id=\"T_3d1ba_row3_col0\" class=\"data row3 col0\" >1</td>\n",
       "                        <td id=\"T_3d1ba_row3_col1\" class=\"data row3 col1\" >1</td>\n",
       "                        <td id=\"T_3d1ba_row3_col2\" class=\"data row3 col2\" >1</td>\n",
       "                        <td id=\"T_3d1ba_row3_col3\" class=\"data row3 col3\" >1</td>\n",
       "            </tr>\n",
       "            <tr>\n",
       "                        <th id=\"T_3d1ba_level0_row4\" class=\"row_heading level0 row4\" >25%</th>\n",
       "                        <td id=\"T_3d1ba_row4_col0\" class=\"data row4 col0\" >3</td>\n",
       "                        <td id=\"T_3d1ba_row4_col1\" class=\"data row4 col1\" >3</td>\n",
       "                        <td id=\"T_3d1ba_row4_col2\" class=\"data row4 col2\" >3</td>\n",
       "                        <td id=\"T_3d1ba_row4_col3\" class=\"data row4 col3\" >3</td>\n",
       "            </tr>\n",
       "            <tr>\n",
       "                        <th id=\"T_3d1ba_level0_row5\" class=\"row_heading level0 row5\" >50%</th>\n",
       "                        <td id=\"T_3d1ba_row5_col0\" class=\"data row5 col0\" >3</td>\n",
       "                        <td id=\"T_3d1ba_row5_col1\" class=\"data row5 col1\" >3</td>\n",
       "                        <td id=\"T_3d1ba_row5_col2\" class=\"data row5 col2\" >7</td>\n",
       "                        <td id=\"T_3d1ba_row5_col3\" class=\"data row5 col3\" >5</td>\n",
       "            </tr>\n",
       "            <tr>\n",
       "                        <th id=\"T_3d1ba_level0_row6\" class=\"row_heading level0 row6\" >75%</th>\n",
       "                        <td id=\"T_3d1ba_row6_col0\" class=\"data row6 col0\" >8</td>\n",
       "                        <td id=\"T_3d1ba_row6_col1\" class=\"data row6 col1\" >7</td>\n",
       "                        <td id=\"T_3d1ba_row6_col2\" class=\"data row6 col2\" >8</td>\n",
       "                        <td id=\"T_3d1ba_row6_col3\" class=\"data row6 col3\" >6</td>\n",
       "            </tr>\n",
       "            <tr>\n",
       "                        <th id=\"T_3d1ba_level0_row7\" class=\"row_heading level0 row7\" >max</th>\n",
       "                        <td id=\"T_3d1ba_row7_col0\" class=\"data row7 col0\" >10</td>\n",
       "                        <td id=\"T_3d1ba_row7_col1\" class=\"data row7 col1\" >10</td>\n",
       "                        <td id=\"T_3d1ba_row7_col2\" class=\"data row7 col2\" >9</td>\n",
       "                        <td id=\"T_3d1ba_row7_col3\" class=\"data row7 col3\" >10</td>\n",
       "            </tr>\n",
       "    </tbody></table>"
      ],
      "text/plain": [
       "<pandas.io.formats.style.Styler at 0x7f3cf09e4580>"
      ]
     },
     "execution_count": 9,
     "metadata": {},
     "output_type": "execute_result"
    }
   ],
   "source": [
    "hypothesis.describe().style.format('{:.0f}')"
   ]
  },
  {
   "cell_type": "markdown",
   "id": "3106181d",
   "metadata": {},
   "source": [
    "Так же видим корректные значения в остальных столбцах (от 1 до 10)"
   ]
  },
  {
   "cell_type": "code",
   "execution_count": 10,
   "id": "e7a58ff3",
   "metadata": {},
   "outputs": [
    {
     "data": {
      "text/plain": [
       "1197"
      ]
     },
     "execution_count": 10,
     "metadata": {},
     "output_type": "execute_result"
    }
   ],
   "source": [
    "orders['transactionid'].nunique()"
   ]
  },
  {
   "cell_type": "markdown",
   "id": "802cfe9b",
   "metadata": {},
   "source": [
    "Видим 1197 уникальных транзакций"
   ]
  },
  {
   "cell_type": "code",
   "execution_count": 11,
   "id": "d988bc1c",
   "metadata": {},
   "outputs": [
    {
     "data": {
      "text/plain": [
       "1031"
      ]
     },
     "execution_count": 11,
     "metadata": {},
     "output_type": "execute_result"
    }
   ],
   "source": [
    "orders['visitorid'].nunique()"
   ]
  },
  {
   "cell_type": "markdown",
   "id": "e0b611b7",
   "metadata": {},
   "source": [
    "У 1031 клиента"
   ]
  },
  {
   "cell_type": "code",
   "execution_count": 12,
   "id": "278b803e",
   "metadata": {},
   "outputs": [
    {
     "data": {
      "text/plain": [
       "(Timestamp('2019-08-01 00:00:00'), Timestamp('2019-08-31 00:00:00'))"
      ]
     },
     "execution_count": 12,
     "metadata": {},
     "output_type": "execute_result"
    }
   ],
   "source": [
    "orders['date'].min(), orders['date'].max()"
   ]
  },
  {
   "cell_type": "markdown",
   "id": "7dc57476",
   "metadata": {},
   "source": [
    "Данные о заказах предоставлены за Август 2019"
   ]
  },
  {
   "cell_type": "code",
   "execution_count": 13,
   "id": "3045e732",
   "metadata": {},
   "outputs": [
    {
     "data": {
      "text/plain": [
       "array(['B', 'A'], dtype=object)"
      ]
     },
     "execution_count": 13,
     "metadata": {},
     "output_type": "execute_result"
    }
   ],
   "source": [
    "orders['group'].unique()"
   ]
  },
  {
   "cell_type": "markdown",
   "id": "95651d26",
   "metadata": {},
   "source": [
    "Видим две группы тестирования"
   ]
  },
  {
   "cell_type": "code",
   "execution_count": 14,
   "id": "c90b3310",
   "metadata": {},
   "outputs": [
    {
     "data": {
      "image/png": "[encoded data removed]",
      "text/plain": [
       "<Figure size 432x288 with 1 Axes>"
      ]
     },
     "metadata": {
      "needs_background": "light"
     },
     "output_type": "display_data"
    }
   ],
   "source": [
    "plt.boxplot(orders['revenue'])\n",
    "\n",
    "plt.ticklabel_format(axis='y', useOffset=False, style='plain');"
   ]
  },
  {
   "cell_type": "markdown",
   "id": "508c3288",
   "metadata": {},
   "source": [
    "Видим аномальные заказы, будем работать с ними на этапе A-B тестирования"
   ]
  },
  {
   "cell_type": "code",
   "execution_count": 15,
   "id": "a826d1b8",
   "metadata": {},
   "outputs": [
    {
     "data": {
      "text/plain": [
       "count     62.000000\n",
       "mean     607.290323\n",
       "std      114.400560\n",
       "min      361.000000\n",
       "25%      534.000000\n",
       "50%      624.500000\n",
       "75%      710.500000\n",
       "max      770.000000\n",
       "Name: visitors, dtype: float64"
      ]
     },
     "execution_count": 15,
     "metadata": {},
     "output_type": "execute_result"
    }
   ],
   "source": [
    "visitors['visitors'].describe()"
   ]
  },
  {
   "cell_type": "markdown",
   "id": "e162db77",
   "metadata": {},
   "source": [
    "Видим корректные значения посещений в таблице посетителей (от 361 до 770)"
   ]
  },
  {
   "cell_type": "markdown",
   "id": "1a7df0eb",
   "metadata": {},
   "source": [
    "В ходе исследования нами были найдены пользователи, которые попали в обе группы теста. Удалим их, для сохранения честности результатов теста"
   ]
  },
  {
   "cell_type": "code",
   "execution_count": 16,
   "id": "692d8345",
   "metadata": {
    "scrolled": true
   },
   "outputs": [],
   "source": [
    "list_a = orders[orders['group'] == 'A']['visitorid'].to_list()\n",
    "list_b = orders[orders['group'] == 'B']['visitorid'].to_list()"
   ]
  },
  {
   "cell_type": "code",
   "execution_count": 17,
   "id": "d53e345f",
   "metadata": {},
   "outputs": [],
   "source": [
    "orders = orders[orders['visitorid'].isin(list(set(list_a).intersection(set(list_b)))) == False]"
   ]
  },
  {
   "cell_type": "code",
   "execution_count": 18,
   "id": "4797547f",
   "metadata": {},
   "outputs": [
    {
     "data": {
      "text/html": [
       "<div>\n",
       "<style scoped>\n",
       "    .dataframe tbody tr th:only-of-type {\n",
       "        vertical-align: middle;\n",
       "    }\n",
       "\n",
       "    .dataframe tbody tr th {\n",
       "        vertical-align: top;\n",
       "    }\n",
       "\n",
       "    .dataframe thead th {\n",
       "        text-align: right;\n",
       "    }\n",
       "</style>\n",
       "<table border=\"1\" class=\"dataframe\">\n",
       "  <thead>\n",
       "    <tr style=\"text-align: right;\">\n",
       "      <th></th>\n",
       "      <th>transactionid</th>\n",
       "      <th>visitorid</th>\n",
       "      <th>date</th>\n",
       "      <th>revenue</th>\n",
       "      <th>group</th>\n",
       "    </tr>\n",
       "  </thead>\n",
       "  <tbody>\n",
       "    <tr>\n",
       "      <th>0</th>\n",
       "      <td>3667963787</td>\n",
       "      <td>3312258926</td>\n",
       "      <td>2019-08-15</td>\n",
       "      <td>1650</td>\n",
       "      <td>B</td>\n",
       "    </tr>\n",
       "    <tr>\n",
       "      <th>1</th>\n",
       "      <td>2804400009</td>\n",
       "      <td>3642806036</td>\n",
       "      <td>2019-08-15</td>\n",
       "      <td>730</td>\n",
       "      <td>B</td>\n",
       "    </tr>\n",
       "    <tr>\n",
       "      <th>3</th>\n",
       "      <td>3797467345</td>\n",
       "      <td>1196621759</td>\n",
       "      <td>2019-08-15</td>\n",
       "      <td>9759</td>\n",
       "      <td>B</td>\n",
       "    </tr>\n",
       "    <tr>\n",
       "      <th>4</th>\n",
       "      <td>2282983706</td>\n",
       "      <td>2322279887</td>\n",
       "      <td>2019-08-15</td>\n",
       "      <td>2308</td>\n",
       "      <td>B</td>\n",
       "    </tr>\n",
       "    <tr>\n",
       "      <th>5</th>\n",
       "      <td>182168103</td>\n",
       "      <td>935554773</td>\n",
       "      <td>2019-08-15</td>\n",
       "      <td>2210</td>\n",
       "      <td>B</td>\n",
       "    </tr>\n",
       "    <tr>\n",
       "      <th>...</th>\n",
       "      <td>...</td>\n",
       "      <td>...</td>\n",
       "      <td>...</td>\n",
       "      <td>...</td>\n",
       "      <td>...</td>\n",
       "    </tr>\n",
       "    <tr>\n",
       "      <th>1191</th>\n",
       "      <td>3592955527</td>\n",
       "      <td>608641596</td>\n",
       "      <td>2019-08-14</td>\n",
       "      <td>16490</td>\n",
       "      <td>B</td>\n",
       "    </tr>\n",
       "    <tr>\n",
       "      <th>1192</th>\n",
       "      <td>2662137336</td>\n",
       "      <td>3733762160</td>\n",
       "      <td>2019-08-14</td>\n",
       "      <td>6490</td>\n",
       "      <td>B</td>\n",
       "    </tr>\n",
       "    <tr>\n",
       "      <th>1193</th>\n",
       "      <td>2203539145</td>\n",
       "      <td>370388673</td>\n",
       "      <td>2019-08-14</td>\n",
       "      <td>3190</td>\n",
       "      <td>A</td>\n",
       "    </tr>\n",
       "    <tr>\n",
       "      <th>1194</th>\n",
       "      <td>1807773912</td>\n",
       "      <td>573423106</td>\n",
       "      <td>2019-08-14</td>\n",
       "      <td>10550</td>\n",
       "      <td>A</td>\n",
       "    </tr>\n",
       "    <tr>\n",
       "      <th>1196</th>\n",
       "      <td>3936777065</td>\n",
       "      <td>2108080724</td>\n",
       "      <td>2019-08-15</td>\n",
       "      <td>202740</td>\n",
       "      <td>B</td>\n",
       "    </tr>\n",
       "  </tbody>\n",
       "</table>\n",
       "<p>1016 rows × 5 columns</p>\n",
       "</div>"
      ],
      "text/plain": [
       "      transactionid   visitorid       date  revenue group\n",
       "0        3667963787  3312258926 2019-08-15     1650     B\n",
       "1        2804400009  3642806036 2019-08-15      730     B\n",
       "3        3797467345  1196621759 2019-08-15     9759     B\n",
       "4        2282983706  2322279887 2019-08-15     2308     B\n",
       "5         182168103   935554773 2019-08-15     2210     B\n",
       "...             ...         ...        ...      ...   ...\n",
       "1191     3592955527   608641596 2019-08-14    16490     B\n",
       "1192     2662137336  3733762160 2019-08-14     6490     B\n",
       "1193     2203539145   370388673 2019-08-14     3190     A\n",
       "1194     1807773912   573423106 2019-08-14    10550     A\n",
       "1196     3936777065  2108080724 2019-08-15   202740     B\n",
       "\n",
       "[1016 rows x 5 columns]"
      ]
     },
     "execution_count": 18,
     "metadata": {},
     "output_type": "execute_result"
    }
   ],
   "source": [
    "orders"
   ]
  },
  {
   "cell_type": "markdown",
   "id": "474ba9a0",
   "metadata": {},
   "source": [
    "Проверим количество посетителей"
   ]
  },
  {
   "cell_type": "code",
   "execution_count": 19,
   "id": "80850c9a",
   "metadata": {},
   "outputs": [
    {
     "data": {
      "text/html": [
       "<div>\n",
       "<style scoped>\n",
       "    .dataframe tbody tr th:only-of-type {\n",
       "        vertical-align: middle;\n",
       "    }\n",
       "\n",
       "    .dataframe tbody tr th {\n",
       "        vertical-align: top;\n",
       "    }\n",
       "\n",
       "    .dataframe thead th {\n",
       "        text-align: right;\n",
       "    }\n",
       "</style>\n",
       "<table border=\"1\" class=\"dataframe\">\n",
       "  <thead>\n",
       "    <tr style=\"text-align: right;\">\n",
       "      <th></th>\n",
       "      <th>visitors</th>\n",
       "    </tr>\n",
       "    <tr>\n",
       "      <th>group</th>\n",
       "      <th></th>\n",
       "    </tr>\n",
       "  </thead>\n",
       "  <tbody>\n",
       "    <tr>\n",
       "      <th>A</th>\n",
       "      <td>18736</td>\n",
       "    </tr>\n",
       "    <tr>\n",
       "      <th>B</th>\n",
       "      <td>18916</td>\n",
       "    </tr>\n",
       "  </tbody>\n",
       "</table>\n",
       "</div>"
      ],
      "text/plain": [
       "       visitors\n",
       "group          \n",
       "A         18736\n",
       "B         18916"
      ]
     },
     "execution_count": 19,
     "metadata": {},
     "output_type": "execute_result"
    }
   ],
   "source": [
    "visitors.groupby('group')[['visitors']].sum()"
   ]
  },
  {
   "cell_type": "code",
   "execution_count": 20,
   "id": "77bcd5be",
   "metadata": {},
   "outputs": [
    {
     "name": "stdout",
     "output_type": "stream",
     "text": [
      "Разница между количеством посетителей в группах A-B теста: -0.48 %\n"
     ]
    }
   ],
   "source": [
    "print(f'Разница между количеством посетителей в группах A-B теста:', \n",
    "round(((18736/(18736 + 18916))*100) - ((18916/(18736 + 18916))*100), 2), '%')"
   ]
  },
  {
   "cell_type": "markdown",
   "id": "ddfcd33e",
   "metadata": {},
   "source": [
    "Так же отметим корректные данные посещений по группам для проведения A-B теста."
   ]
  },
  {
   "cell_type": "markdown",
   "id": "a8530713",
   "metadata": {},
   "source": [
    "## Приоритезация гипотез"
   ]
  },
  {
   "cell_type": "markdown",
   "id": "88d56118",
   "metadata": {},
   "source": [
    "### Задача 1\n",
    "Примените фреймворк ICE для приоритизации гипотез. Отсортируйте их по убыванию приоритета."
   ]
  },
  {
   "cell_type": "code",
   "execution_count": 21,
   "id": "19851d41",
   "metadata": {},
   "outputs": [],
   "source": [
    "hypothesis['ICE'] = (hypothesis['impact'] * hypothesis['confidence']) / hypothesis['efforts']"
   ]
  },
  {
   "cell_type": "code",
   "execution_count": 22,
   "id": "9bbf1bd7",
   "metadata": {},
   "outputs": [],
   "source": [
    "pd.set_option('display.max_colwidth', None)"
   ]
  },
  {
   "cell_type": "code",
   "execution_count": 23,
   "id": "47fa7aa1",
   "metadata": {},
   "outputs": [
    {
     "data": {
      "text/html": [
       "<style  type=\"text/css\" >\n",
       "#T_163d1_row0_col5{\n",
       "            background-color:  #08306b;\n",
       "            color:  #f1f1f1;\n",
       "        }#T_163d1_row1_col5{\n",
       "            background-color:  #1561a9;\n",
       "            color:  #f1f1f1;\n",
       "        }#T_163d1_row2_col5{\n",
       "            background-color:  #3686c0;\n",
       "            color:  #000000;\n",
       "        }#T_163d1_row3_col5{\n",
       "            background-color:  #7cb7da;\n",
       "            color:  #000000;\n",
       "        }#T_163d1_row4_col5{\n",
       "            background-color:  #95c5df;\n",
       "            color:  #000000;\n",
       "        }#T_163d1_row5_col5{\n",
       "            background-color:  #eaf3fb;\n",
       "            color:  #000000;\n",
       "        }#T_163d1_row6_col5{\n",
       "            background-color:  #f3f8fe;\n",
       "            color:  #000000;\n",
       "        }#T_163d1_row7_col5{\n",
       "            background-color:  #f5fafe;\n",
       "            color:  #000000;\n",
       "        }#T_163d1_row8_col5{\n",
       "            background-color:  #f7fbff;\n",
       "            color:  #000000;\n",
       "        }</style><table id=\"T_163d1_\" ><thead>    <tr>        <th class=\"blank level0\" ></th>        <th class=\"col_heading level0 col0\" >hypothesis</th>        <th class=\"col_heading level0 col1\" >reach</th>        <th class=\"col_heading level0 col2\" >impact</th>        <th class=\"col_heading level0 col3\" >confidence</th>        <th class=\"col_heading level0 col4\" >efforts</th>        <th class=\"col_heading level0 col5\" >ICE</th>    </tr></thead><tbody>\n",
       "                <tr>\n",
       "                        <th id=\"T_163d1_level0_row0\" class=\"row_heading level0 row0\" >8</th>\n",
       "                        <td id=\"T_163d1_row0_col0\" class=\"data row0 col0\" >Запустить акцию, дающую скидку на товар в день рождения</td>\n",
       "                        <td id=\"T_163d1_row0_col1\" class=\"data row0 col1\" >1</td>\n",
       "                        <td id=\"T_163d1_row0_col2\" class=\"data row0 col2\" >9</td>\n",
       "                        <td id=\"T_163d1_row0_col3\" class=\"data row0 col3\" >9</td>\n",
       "                        <td id=\"T_163d1_row0_col4\" class=\"data row0 col4\" >5</td>\n",
       "                        <td id=\"T_163d1_row0_col5\" class=\"data row0 col5\" >16.2</td>\n",
       "            </tr>\n",
       "            <tr>\n",
       "                        <th id=\"T_163d1_level0_row1\" class=\"row_heading level0 row1\" >0</th>\n",
       "                        <td id=\"T_163d1_row1_col0\" class=\"data row1 col0\" >Добавить два новых канала привлечения трафика, что позволит привлекать на 30% больше пользователей</td>\n",
       "                        <td id=\"T_163d1_row1_col1\" class=\"data row1 col1\" >3</td>\n",
       "                        <td id=\"T_163d1_row1_col2\" class=\"data row1 col2\" >10</td>\n",
       "                        <td id=\"T_163d1_row1_col3\" class=\"data row1 col3\" >8</td>\n",
       "                        <td id=\"T_163d1_row1_col4\" class=\"data row1 col4\" >6</td>\n",
       "                        <td id=\"T_163d1_row1_col5\" class=\"data row1 col5\" >13.3</td>\n",
       "            </tr>\n",
       "            <tr>\n",
       "                        <th id=\"T_163d1_level0_row2\" class=\"row_heading level0 row2\" >7</th>\n",
       "                        <td id=\"T_163d1_row2_col0\" class=\"data row2 col0\" >Добавить форму подписки на все основные страницы, чтобы собрать базу клиентов для email-рассылок</td>\n",
       "                        <td id=\"T_163d1_row2_col1\" class=\"data row2 col1\" >10</td>\n",
       "                        <td id=\"T_163d1_row2_col2\" class=\"data row2 col2\" >7</td>\n",
       "                        <td id=\"T_163d1_row2_col3\" class=\"data row2 col3\" >8</td>\n",
       "                        <td id=\"T_163d1_row2_col4\" class=\"data row2 col4\" >5</td>\n",
       "                        <td id=\"T_163d1_row2_col5\" class=\"data row2 col5\" >11.2</td>\n",
       "            </tr>\n",
       "            <tr>\n",
       "                        <th id=\"T_163d1_level0_row3\" class=\"row_heading level0 row3\" >6</th>\n",
       "                        <td id=\"T_163d1_row3_col0\" class=\"data row3 col0\" >Показать на главной странице баннеры с актуальными акциями и распродажами, чтобы увеличить конверсию</td>\n",
       "                        <td id=\"T_163d1_row3_col1\" class=\"data row3 col1\" >5</td>\n",
       "                        <td id=\"T_163d1_row3_col2\" class=\"data row3 col2\" >3</td>\n",
       "                        <td id=\"T_163d1_row3_col3\" class=\"data row3 col3\" >8</td>\n",
       "                        <td id=\"T_163d1_row3_col4\" class=\"data row3 col4\" >3</td>\n",
       "                        <td id=\"T_163d1_row3_col5\" class=\"data row3 col5\" >8.0</td>\n",
       "            </tr>\n",
       "            <tr>\n",
       "                        <th id=\"T_163d1_level0_row4\" class=\"row_heading level0 row4\" >2</th>\n",
       "                        <td id=\"T_163d1_row4_col0\" class=\"data row4 col0\" >Добавить блоки рекомендаций товаров на сайт интернет магазина, чтобы повысить конверсию и средний чек заказа</td>\n",
       "                        <td id=\"T_163d1_row4_col1\" class=\"data row4 col1\" >8</td>\n",
       "                        <td id=\"T_163d1_row4_col2\" class=\"data row4 col2\" >3</td>\n",
       "                        <td id=\"T_163d1_row4_col3\" class=\"data row4 col3\" >7</td>\n",
       "                        <td id=\"T_163d1_row4_col4\" class=\"data row4 col4\" >3</td>\n",
       "                        <td id=\"T_163d1_row4_col5\" class=\"data row4 col5\" >7.0</td>\n",
       "            </tr>\n",
       "            <tr>\n",
       "                        <th id=\"T_163d1_level0_row5\" class=\"row_heading level0 row5\" >1</th>\n",
       "                        <td id=\"T_163d1_row5_col0\" class=\"data row5 col0\" >Запустить собственную службу доставки, что сократит срок доставки заказов</td>\n",
       "                        <td id=\"T_163d1_row5_col1\" class=\"data row5 col1\" >2</td>\n",
       "                        <td id=\"T_163d1_row5_col2\" class=\"data row5 col2\" >5</td>\n",
       "                        <td id=\"T_163d1_row5_col3\" class=\"data row5 col3\" >4</td>\n",
       "                        <td id=\"T_163d1_row5_col4\" class=\"data row5 col4\" >10</td>\n",
       "                        <td id=\"T_163d1_row5_col5\" class=\"data row5 col5\" >2.0</td>\n",
       "            </tr>\n",
       "            <tr>\n",
       "                        <th id=\"T_163d1_level0_row6\" class=\"row_heading level0 row6\" >5</th>\n",
       "                        <td id=\"T_163d1_row6_col0\" class=\"data row6 col0\" >Добавить страницу отзывов клиентов о магазине, что позволит увеличить количество заказов</td>\n",
       "                        <td id=\"T_163d1_row6_col1\" class=\"data row6 col1\" >3</td>\n",
       "                        <td id=\"T_163d1_row6_col2\" class=\"data row6 col2\" >2</td>\n",
       "                        <td id=\"T_163d1_row6_col3\" class=\"data row6 col3\" >2</td>\n",
       "                        <td id=\"T_163d1_row6_col4\" class=\"data row6 col4\" >3</td>\n",
       "                        <td id=\"T_163d1_row6_col5\" class=\"data row6 col5\" >1.3</td>\n",
       "            </tr>\n",
       "            <tr>\n",
       "                        <th id=\"T_163d1_level0_row7\" class=\"row_heading level0 row7\" >3</th>\n",
       "                        <td id=\"T_163d1_row7_col0\" class=\"data row7 col0\" >Изменить структуру категорий, что увеличит конверсию, т.к. пользователи быстрее найдут нужный товар</td>\n",
       "                        <td id=\"T_163d1_row7_col1\" class=\"data row7 col1\" >8</td>\n",
       "                        <td id=\"T_163d1_row7_col2\" class=\"data row7 col2\" >3</td>\n",
       "                        <td id=\"T_163d1_row7_col3\" class=\"data row7 col3\" >3</td>\n",
       "                        <td id=\"T_163d1_row7_col4\" class=\"data row7 col4\" >8</td>\n",
       "                        <td id=\"T_163d1_row7_col5\" class=\"data row7 col5\" >1.1</td>\n",
       "            </tr>\n",
       "            <tr>\n",
       "                        <th id=\"T_163d1_level0_row8\" class=\"row_heading level0 row8\" >4</th>\n",
       "                        <td id=\"T_163d1_row8_col0\" class=\"data row8 col0\" >Изменить цвет фона главной страницы, чтобы увеличить вовлеченность пользователей</td>\n",
       "                        <td id=\"T_163d1_row8_col1\" class=\"data row8 col1\" >3</td>\n",
       "                        <td id=\"T_163d1_row8_col2\" class=\"data row8 col2\" >1</td>\n",
       "                        <td id=\"T_163d1_row8_col3\" class=\"data row8 col3\" >1</td>\n",
       "                        <td id=\"T_163d1_row8_col4\" class=\"data row8 col4\" >1</td>\n",
       "                        <td id=\"T_163d1_row8_col5\" class=\"data row8 col5\" >1.0</td>\n",
       "            </tr>\n",
       "    </tbody></table>"
      ],
      "text/plain": [
       "<pandas.io.formats.style.Styler at 0x7f3cf06ec9d0>"
      ]
     },
     "execution_count": 23,
     "metadata": {},
     "output_type": "execute_result"
    }
   ],
   "source": [
    "hypothesis.sort_values(by='ICE', ascending=False).style.format('{:.1f}', 'ICE').background_gradient(cmap='Blues', subset='ICE')"
   ]
  },
  {
   "cell_type": "markdown",
   "id": "0ff116d9",
   "metadata": {},
   "source": [
    "Согласно показателю ICE Score, приоритетной гипотезой является : _\"Запустить акцию, дающую скидку на товар в день рождения\"_"
   ]
  },
  {
   "cell_type": "markdown",
   "id": "eb1e3267",
   "metadata": {},
   "source": [
    "### Задача 2 \n",
    "Примените фреймворк RICE для приоритизации гипотез. Отсортируйте их по убыванию приоритета."
   ]
  },
  {
   "cell_type": "code",
   "execution_count": 24,
   "id": "7e37aa42",
   "metadata": {},
   "outputs": [],
   "source": [
    "hypothesis['RICE'] = (hypothesis['reach'] * hypothesis['impact'] * hypothesis['confidence']) / hypothesis['efforts']"
   ]
  },
  {
   "cell_type": "code",
   "execution_count": 25,
   "id": "5a2db6ed",
   "metadata": {},
   "outputs": [
    {
     "data": {
      "text/html": [
       "<style  type=\"text/css\" >\n",
       "#T_860bc_row0_col6{\n",
       "            background-color:  #08306b;\n",
       "            color:  #f1f1f1;\n",
       "        }#T_860bc_row1_col6{\n",
       "            background-color:  #71b1d7;\n",
       "            color:  #000000;\n",
       "        }#T_860bc_row2_col6,#T_860bc_row3_col6{\n",
       "            background-color:  #aacfe5;\n",
       "            color:  #000000;\n",
       "        }#T_860bc_row4_col6{\n",
       "            background-color:  #dfebf7;\n",
       "            color:  #000000;\n",
       "        }#T_860bc_row5_col6{\n",
       "            background-color:  #ecf4fb;\n",
       "            color:  #000000;\n",
       "        }#T_860bc_row6_col6,#T_860bc_row7_col6{\n",
       "            background-color:  #f5fafe;\n",
       "            color:  #000000;\n",
       "        }#T_860bc_row8_col6{\n",
       "            background-color:  #f7fbff;\n",
       "            color:  #000000;\n",
       "        }</style><table id=\"T_860bc_\" ><thead>    <tr>        <th class=\"blank level0\" ></th>        <th class=\"col_heading level0 col0\" >hypothesis</th>        <th class=\"col_heading level0 col1\" >reach</th>        <th class=\"col_heading level0 col2\" >impact</th>        <th class=\"col_heading level0 col3\" >confidence</th>        <th class=\"col_heading level0 col4\" >efforts</th>        <th class=\"col_heading level0 col5\" >ICE</th>        <th class=\"col_heading level0 col6\" >RICE</th>    </tr></thead><tbody>\n",
       "                <tr>\n",
       "                        <th id=\"T_860bc_level0_row0\" class=\"row_heading level0 row0\" >7</th>\n",
       "                        <td id=\"T_860bc_row0_col0\" class=\"data row0 col0\" >Добавить форму подписки на все основные страницы, чтобы собрать базу клиентов для email-рассылок</td>\n",
       "                        <td id=\"T_860bc_row0_col1\" class=\"data row0 col1\" >10</td>\n",
       "                        <td id=\"T_860bc_row0_col2\" class=\"data row0 col2\" >7</td>\n",
       "                        <td id=\"T_860bc_row0_col3\" class=\"data row0 col3\" >8</td>\n",
       "                        <td id=\"T_860bc_row0_col4\" class=\"data row0 col4\" >5</td>\n",
       "                        <td id=\"T_860bc_row0_col5\" class=\"data row0 col5\" >11.200000</td>\n",
       "                        <td id=\"T_860bc_row0_col6\" class=\"data row0 col6\" >112.0</td>\n",
       "            </tr>\n",
       "            <tr>\n",
       "                        <th id=\"T_860bc_level0_row1\" class=\"row_heading level0 row1\" >2</th>\n",
       "                        <td id=\"T_860bc_row1_col0\" class=\"data row1 col0\" >Добавить блоки рекомендаций товаров на сайт интернет магазина, чтобы повысить конверсию и средний чек заказа</td>\n",
       "                        <td id=\"T_860bc_row1_col1\" class=\"data row1 col1\" >8</td>\n",
       "                        <td id=\"T_860bc_row1_col2\" class=\"data row1 col2\" >3</td>\n",
       "                        <td id=\"T_860bc_row1_col3\" class=\"data row1 col3\" >7</td>\n",
       "                        <td id=\"T_860bc_row1_col4\" class=\"data row1 col4\" >3</td>\n",
       "                        <td id=\"T_860bc_row1_col5\" class=\"data row1 col5\" >7.000000</td>\n",
       "                        <td id=\"T_860bc_row1_col6\" class=\"data row1 col6\" >56.0</td>\n",
       "            </tr>\n",
       "            <tr>\n",
       "                        <th id=\"T_860bc_level0_row2\" class=\"row_heading level0 row2\" >0</th>\n",
       "                        <td id=\"T_860bc_row2_col0\" class=\"data row2 col0\" >Добавить два новых канала привлечения трафика, что позволит привлекать на 30% больше пользователей</td>\n",
       "                        <td id=\"T_860bc_row2_col1\" class=\"data row2 col1\" >3</td>\n",
       "                        <td id=\"T_860bc_row2_col2\" class=\"data row2 col2\" >10</td>\n",
       "                        <td id=\"T_860bc_row2_col3\" class=\"data row2 col3\" >8</td>\n",
       "                        <td id=\"T_860bc_row2_col4\" class=\"data row2 col4\" >6</td>\n",
       "                        <td id=\"T_860bc_row2_col5\" class=\"data row2 col5\" >13.333333</td>\n",
       "                        <td id=\"T_860bc_row2_col6\" class=\"data row2 col6\" >40.0</td>\n",
       "            </tr>\n",
       "            <tr>\n",
       "                        <th id=\"T_860bc_level0_row3\" class=\"row_heading level0 row3\" >6</th>\n",
       "                        <td id=\"T_860bc_row3_col0\" class=\"data row3 col0\" >Показать на главной странице баннеры с актуальными акциями и распродажами, чтобы увеличить конверсию</td>\n",
       "                        <td id=\"T_860bc_row3_col1\" class=\"data row3 col1\" >5</td>\n",
       "                        <td id=\"T_860bc_row3_col2\" class=\"data row3 col2\" >3</td>\n",
       "                        <td id=\"T_860bc_row3_col3\" class=\"data row3 col3\" >8</td>\n",
       "                        <td id=\"T_860bc_row3_col4\" class=\"data row3 col4\" >3</td>\n",
       "                        <td id=\"T_860bc_row3_col5\" class=\"data row3 col5\" >8.000000</td>\n",
       "                        <td id=\"T_860bc_row3_col6\" class=\"data row3 col6\" >40.0</td>\n",
       "            </tr>\n",
       "            <tr>\n",
       "                        <th id=\"T_860bc_level0_row4\" class=\"row_heading level0 row4\" >8</th>\n",
       "                        <td id=\"T_860bc_row4_col0\" class=\"data row4 col0\" >Запустить акцию, дающую скидку на товар в день рождения</td>\n",
       "                        <td id=\"T_860bc_row4_col1\" class=\"data row4 col1\" >1</td>\n",
       "                        <td id=\"T_860bc_row4_col2\" class=\"data row4 col2\" >9</td>\n",
       "                        <td id=\"T_860bc_row4_col3\" class=\"data row4 col3\" >9</td>\n",
       "                        <td id=\"T_860bc_row4_col4\" class=\"data row4 col4\" >5</td>\n",
       "                        <td id=\"T_860bc_row4_col5\" class=\"data row4 col5\" >16.200000</td>\n",
       "                        <td id=\"T_860bc_row4_col6\" class=\"data row4 col6\" >16.2</td>\n",
       "            </tr>\n",
       "            <tr>\n",
       "                        <th id=\"T_860bc_level0_row5\" class=\"row_heading level0 row5\" >3</th>\n",
       "                        <td id=\"T_860bc_row5_col0\" class=\"data row5 col0\" >Изменить структуру категорий, что увеличит конверсию, т.к. пользователи быстрее найдут нужный товар</td>\n",
       "                        <td id=\"T_860bc_row5_col1\" class=\"data row5 col1\" >8</td>\n",
       "                        <td id=\"T_860bc_row5_col2\" class=\"data row5 col2\" >3</td>\n",
       "                        <td id=\"T_860bc_row5_col3\" class=\"data row5 col3\" >3</td>\n",
       "                        <td id=\"T_860bc_row5_col4\" class=\"data row5 col4\" >8</td>\n",
       "                        <td id=\"T_860bc_row5_col5\" class=\"data row5 col5\" >1.125000</td>\n",
       "                        <td id=\"T_860bc_row5_col6\" class=\"data row5 col6\" >9.0</td>\n",
       "            </tr>\n",
       "            <tr>\n",
       "                        <th id=\"T_860bc_level0_row6\" class=\"row_heading level0 row6\" >1</th>\n",
       "                        <td id=\"T_860bc_row6_col0\" class=\"data row6 col0\" >Запустить собственную службу доставки, что сократит срок доставки заказов</td>\n",
       "                        <td id=\"T_860bc_row6_col1\" class=\"data row6 col1\" >2</td>\n",
       "                        <td id=\"T_860bc_row6_col2\" class=\"data row6 col2\" >5</td>\n",
       "                        <td id=\"T_860bc_row6_col3\" class=\"data row6 col3\" >4</td>\n",
       "                        <td id=\"T_860bc_row6_col4\" class=\"data row6 col4\" >10</td>\n",
       "                        <td id=\"T_860bc_row6_col5\" class=\"data row6 col5\" >2.000000</td>\n",
       "                        <td id=\"T_860bc_row6_col6\" class=\"data row6 col6\" >4.0</td>\n",
       "            </tr>\n",
       "            <tr>\n",
       "                        <th id=\"T_860bc_level0_row7\" class=\"row_heading level0 row7\" >5</th>\n",
       "                        <td id=\"T_860bc_row7_col0\" class=\"data row7 col0\" >Добавить страницу отзывов клиентов о магазине, что позволит увеличить количество заказов</td>\n",
       "                        <td id=\"T_860bc_row7_col1\" class=\"data row7 col1\" >3</td>\n",
       "                        <td id=\"T_860bc_row7_col2\" class=\"data row7 col2\" >2</td>\n",
       "                        <td id=\"T_860bc_row7_col3\" class=\"data row7 col3\" >2</td>\n",
       "                        <td id=\"T_860bc_row7_col4\" class=\"data row7 col4\" >3</td>\n",
       "                        <td id=\"T_860bc_row7_col5\" class=\"data row7 col5\" >1.333333</td>\n",
       "                        <td id=\"T_860bc_row7_col6\" class=\"data row7 col6\" >4.0</td>\n",
       "            </tr>\n",
       "            <tr>\n",
       "                        <th id=\"T_860bc_level0_row8\" class=\"row_heading level0 row8\" >4</th>\n",
       "                        <td id=\"T_860bc_row8_col0\" class=\"data row8 col0\" >Изменить цвет фона главной страницы, чтобы увеличить вовлеченность пользователей</td>\n",
       "                        <td id=\"T_860bc_row8_col1\" class=\"data row8 col1\" >3</td>\n",
       "                        <td id=\"T_860bc_row8_col2\" class=\"data row8 col2\" >1</td>\n",
       "                        <td id=\"T_860bc_row8_col3\" class=\"data row8 col3\" >1</td>\n",
       "                        <td id=\"T_860bc_row8_col4\" class=\"data row8 col4\" >1</td>\n",
       "                        <td id=\"T_860bc_row8_col5\" class=\"data row8 col5\" >1.000000</td>\n",
       "                        <td id=\"T_860bc_row8_col6\" class=\"data row8 col6\" >3.0</td>\n",
       "            </tr>\n",
       "    </tbody></table>"
      ],
      "text/plain": [
       "<pandas.io.formats.style.Styler at 0x7f3cf070ce20>"
      ]
     },
     "execution_count": 25,
     "metadata": {},
     "output_type": "execute_result"
    }
   ],
   "source": [
    "hypothesis.sort_values(by='RICE', ascending=False).style.format('{:.1f}',\n",
    "                                                                'RICE').background_gradient(cmap='Blues', subset='RICE')"
   ]
  },
  {
   "cell_type": "markdown",
   "id": "43b2a3cb",
   "metadata": {},
   "source": [
    "Согласно показателю RICE Score, приоритетной гипотезой является : _\"Добавить форму подписки на все основные страницы, чтобы собрать базу клиентов для email-рассылок\"_"
   ]
  },
  {
   "cell_type": "markdown",
   "id": "b97f5dba",
   "metadata": {},
   "source": [
    "### Задача 3\n",
    "Укажите, как изменилась приоритизация гипотез при применении RICE вместо ICE. Объясните, почему так произошло."
   ]
  },
  {
   "cell_type": "markdown",
   "id": "f46950bc",
   "metadata": {},
   "source": [
    "__Ответ__ : при применении метода RICE на первом месте у нас оказалась гипотеза под номером 7, с показателем RICE score = 112 (вдвое выше 2 места); тогда как ICE score этой гипотезы равен 11.2, и согласно этому показателю она оказалась третьей в списке приоритетов. Произошло это потому, что фреймворк RICE учитывает значение охвата (R - Reach), а этот показатель у гипотезы номер 7 масимальный - 10. \n",
    "\n",
    "Если в общем сравнивать эти методы, мы видим, что в первой тройке гипотез две совпадают. Так же первая шестёрка выглядит одинаково при применении обоих методов, что говорит о их схожести (это нетрудно заметить из формулы). Ключевое отличие RICE от ICE состоит в том, что первый метод учитывает охват аудитории. Так что если нам важно применить гипотезу для максимального числа лидов, метод RICE будет более эффективным"
   ]
  },
  {
   "cell_type": "markdown",
   "id": "45914c71",
   "metadata": {},
   "source": [
    "## Анализ A/B-теста"
   ]
  },
  {
   "cell_type": "markdown",
   "id": "5813c5c6",
   "metadata": {},
   "source": [
    "### Задача 1 \n",
    "\n",
    "\"Постройте график кумулятивной выручки по группам. Сделайте выводы и предположения.\""
   ]
  },
  {
   "cell_type": "markdown",
   "id": "e3ab030c",
   "metadata": {},
   "source": [
    "Создадим таблицу кумулятивной выручки по группам"
   ]
  },
  {
   "cell_type": "code",
   "execution_count": 26,
   "id": "712b5220",
   "metadata": {},
   "outputs": [],
   "source": [
    "aggtable = orders.groupby(['date', 'group'], as_index=False).agg({'transactionid':'nunique',\n",
    "                                                                 'visitorid':'nunique', 'revenue':'sum'})"
   ]
  },
  {
   "cell_type": "code",
   "execution_count": 27,
   "id": "af152c3a",
   "metadata": {},
   "outputs": [],
   "source": [
    "aggtable = aggtable.merge(visitors, how='left', on=['date', 'group'])"
   ]
  },
  {
   "cell_type": "code",
   "execution_count": 28,
   "id": "b2640b45",
   "metadata": {},
   "outputs": [],
   "source": [
    "group_a = aggtable[aggtable['group'] == 'A']\n",
    "group_b = aggtable[aggtable['group'] == 'B']\n",
    "\n",
    "group_a = group_a[['transactionid', 'visitorid', 'revenue', 'visitors']].cumsum()\n",
    "group_b = group_b[['transactionid', 'visitorid', 'revenue', 'visitors']].cumsum()\n",
    "\n",
    "group_a = group_a.merge(aggtable[['date', 'group']], left_index=True, right_index=True)\n",
    "group_b = group_b.merge(aggtable[['date', 'group']], left_index=True, right_index=True)"
   ]
  },
  {
   "cell_type": "code",
   "execution_count": 29,
   "id": "fec9b409",
   "metadata": {},
   "outputs": [],
   "source": [
    "cumdata = group_a.merge(group_b, how='outer')\n",
    "\n",
    "cumdata.columns = ['cnt_orders', 'cnt_clients', 'sum_revenue', 'visitors', 'date', 'group']"
   ]
  },
  {
   "cell_type": "code",
   "execution_count": 30,
   "id": "f49ba175",
   "metadata": {},
   "outputs": [
    {
     "data": {
      "text/html": [
       "<div>\n",
       "<style scoped>\n",
       "    .dataframe tbody tr th:only-of-type {\n",
       "        vertical-align: middle;\n",
       "    }\n",
       "\n",
       "    .dataframe tbody tr th {\n",
       "        vertical-align: top;\n",
       "    }\n",
       "\n",
       "    .dataframe thead th {\n",
       "        text-align: right;\n",
       "    }\n",
       "</style>\n",
       "<table border=\"1\" class=\"dataframe\">\n",
       "  <thead>\n",
       "    <tr style=\"text-align: right;\">\n",
       "      <th></th>\n",
       "      <th>cnt_orders</th>\n",
       "      <th>cnt_clients</th>\n",
       "      <th>sum_revenue</th>\n",
       "      <th>visitors</th>\n",
       "      <th>date</th>\n",
       "      <th>group</th>\n",
       "    </tr>\n",
       "  </thead>\n",
       "  <tbody>\n",
       "    <tr>\n",
       "      <th>0</th>\n",
       "      <td>23</td>\n",
       "      <td>19</td>\n",
       "      <td>142779</td>\n",
       "      <td>719</td>\n",
       "      <td>2019-08-01</td>\n",
       "      <td>A</td>\n",
       "    </tr>\n",
       "    <tr>\n",
       "      <th>1</th>\n",
       "      <td>42</td>\n",
       "      <td>37</td>\n",
       "      <td>234381</td>\n",
       "      <td>1338</td>\n",
       "      <td>2019-08-02</td>\n",
       "      <td>A</td>\n",
       "    </tr>\n",
       "    <tr>\n",
       "      <th>2</th>\n",
       "      <td>66</td>\n",
       "      <td>61</td>\n",
       "      <td>346854</td>\n",
       "      <td>1845</td>\n",
       "      <td>2019-08-03</td>\n",
       "      <td>A</td>\n",
       "    </tr>\n",
       "    <tr>\n",
       "      <th>3</th>\n",
       "      <td>77</td>\n",
       "      <td>72</td>\n",
       "      <td>388030</td>\n",
       "      <td>2562</td>\n",
       "      <td>2019-08-04</td>\n",
       "      <td>A</td>\n",
       "    </tr>\n",
       "    <tr>\n",
       "      <th>4</th>\n",
       "      <td>99</td>\n",
       "      <td>94</td>\n",
       "      <td>474413</td>\n",
       "      <td>3318</td>\n",
       "      <td>2019-08-05</td>\n",
       "      <td>A</td>\n",
       "    </tr>\n",
       "    <tr>\n",
       "      <th>...</th>\n",
       "      <td>...</td>\n",
       "      <td>...</td>\n",
       "      <td>...</td>\n",
       "      <td>...</td>\n",
       "      <td>...</td>\n",
       "      <td>...</td>\n",
       "    </tr>\n",
       "    <tr>\n",
       "      <th>57</th>\n",
       "      <td>473</td>\n",
       "      <td>469</td>\n",
       "      <td>4579312</td>\n",
       "      <td>16523</td>\n",
       "      <td>2019-08-27</td>\n",
       "      <td>B</td>\n",
       "    </tr>\n",
       "    <tr>\n",
       "      <th>58</th>\n",
       "      <td>495</td>\n",
       "      <td>491</td>\n",
       "      <td>4640510</td>\n",
       "      <td>17177</td>\n",
       "      <td>2019-08-28</td>\n",
       "      <td>B</td>\n",
       "    </tr>\n",
       "    <tr>\n",
       "      <th>59</th>\n",
       "      <td>510</td>\n",
       "      <td>506</td>\n",
       "      <td>4746610</td>\n",
       "      <td>17708</td>\n",
       "      <td>2019-08-29</td>\n",
       "      <td>B</td>\n",
       "    </tr>\n",
       "    <tr>\n",
       "      <th>60</th>\n",
       "      <td>531</td>\n",
       "      <td>527</td>\n",
       "      <td>4955833</td>\n",
       "      <td>18198</td>\n",
       "      <td>2019-08-30</td>\n",
       "      <td>B</td>\n",
       "    </tr>\n",
       "    <tr>\n",
       "      <th>61</th>\n",
       "      <td>548</td>\n",
       "      <td>544</td>\n",
       "      <td>5068972</td>\n",
       "      <td>18916</td>\n",
       "      <td>2019-08-31</td>\n",
       "      <td>B</td>\n",
       "    </tr>\n",
       "  </tbody>\n",
       "</table>\n",
       "<p>62 rows × 6 columns</p>\n",
       "</div>"
      ],
      "text/plain": [
       "    cnt_orders  cnt_clients  sum_revenue  visitors       date group\n",
       "0           23           19       142779       719 2019-08-01     A\n",
       "1           42           37       234381      1338 2019-08-02     A\n",
       "2           66           61       346854      1845 2019-08-03     A\n",
       "3           77           72       388030      2562 2019-08-04     A\n",
       "4           99           94       474413      3318 2019-08-05     A\n",
       "..         ...          ...          ...       ...        ...   ...\n",
       "57         473          469      4579312     16523 2019-08-27     B\n",
       "58         495          491      4640510     17177 2019-08-28     B\n",
       "59         510          506      4746610     17708 2019-08-29     B\n",
       "60         531          527      4955833     18198 2019-08-30     B\n",
       "61         548          544      5068972     18916 2019-08-31     B\n",
       "\n",
       "[62 rows x 6 columns]"
      ]
     },
     "execution_count": 30,
     "metadata": {},
     "output_type": "execute_result"
    }
   ],
   "source": [
    "cumdata"
   ]
  },
  {
   "cell_type": "markdown",
   "id": "f986bd16",
   "metadata": {},
   "source": [
    "Построим график"
   ]
  },
  {
   "cell_type": "code",
   "execution_count": 31,
   "id": "777a05ed",
   "metadata": {},
   "outputs": [
    {
     "data": {
      "image/png": "[encoded data removed]",
      "text/plain": [
       "<Figure size 648x432 with 1 Axes>"
      ]
     },
     "metadata": {
      "needs_background": "light"
     },
     "output_type": "display_data"
    }
   ],
   "source": [
    "plt.rcParams['figure.figsize'] = [9, 6]\n",
    "\n",
    "plt.plot(group_a['date'], group_a['revenue'], label='A')\n",
    "plt.plot(group_b['date'], group_b['revenue'], label='B')\n",
    "\n",
    "plt.legend(title='Контрольная группа теста')\n",
    "plt.ticklabel_format(axis='y', useOffset=False, style='plain')\n",
    "plt.xticks(rotation=45)\n",
    "plt.title('График кумулятивной выручки по группам')\n",
    "plt.xlabel('Дата')\n",
    "plt.ylabel('Суммарная выручка');"
   ]
  },
  {
   "cell_type": "markdown",
   "id": "40078733",
   "metadata": {},
   "source": [
    "Видим примерно равную выручку первые 5 дней, затем группа B показывает чуть лучший результат, далее к 13 числу результаты выравниваются. Видим резкий скачок выручки группы B 19 Августа, после чего показатели динамики схожи. Скорее всего это связано с аномальными заказами в эти даты"
   ]
  },
  {
   "cell_type": "markdown",
   "id": "5d5218b2",
   "metadata": {},
   "source": [
    "### Задача 2\n",
    "\n",
    "Постройте график кумулятивного среднего чека по группам. Сделайте выводы и предположения."
   ]
  },
  {
   "cell_type": "code",
   "execution_count": 32,
   "id": "358a6a65",
   "metadata": {},
   "outputs": [
    {
     "data": {
      "image/png": "[encoded data removed]",
      "text/plain": [
       "<Figure size 648x432 with 1 Axes>"
      ]
     },
     "metadata": {
      "needs_background": "light"
     },
     "output_type": "display_data"
    }
   ],
   "source": [
    "plt.plot(group_a['date'], group_a['revenue']/group_a['transactionid'], label='A')\n",
    "plt.plot(group_b['date'], group_b['revenue']/group_b['transactionid'], label='B')\n",
    "\n",
    "plt.xticks(rotation=45)\n",
    "plt.title('График кумулятивного среднего чека по группам', pad=8)\n",
    "plt.xlabel('Дата')\n",
    "plt.ylabel('Средний чек')\n",
    "plt.legend(title='Контрольная группа теста');"
   ]
  },
  {
   "cell_type": "markdown",
   "id": "da7b87ac",
   "metadata": {},
   "source": [
    "Видим тот же скачок 19 числа у группы B. До этой даты средний чек был примерно на одном уровне со схожей динамикой у обеих групп."
   ]
  },
  {
   "cell_type": "markdown",
   "id": "8bf52d9f",
   "metadata": {},
   "source": [
    "### Задача 3\n",
    "Постройте график относительного изменения кумулятивного среднего чека группы B к группе A. Сделайте выводы и предположения."
   ]
  },
  {
   "cell_type": "markdown",
   "id": "ef7fb214",
   "metadata": {},
   "source": [
    "Агрегируем данные в сводной таблице"
   ]
  },
  {
   "cell_type": "code",
   "execution_count": 33,
   "id": "9d0a26b6",
   "metadata": {},
   "outputs": [],
   "source": [
    "cumdata['avg_check'] = cumdata['sum_revenue'] / cumdata['cnt_orders']\n",
    "\n",
    "cumdata['conversion'] = (cumdata['cnt_orders'] / cumdata['visitors'])"
   ]
  },
  {
   "cell_type": "code",
   "execution_count": 34,
   "id": "4deabb12",
   "metadata": {},
   "outputs": [],
   "source": [
    "ratio_table = cumdata.pivot_table(index='date', columns='group', values=['avg_check', 'conversion']).reset_index()\n",
    "\n",
    "ratio_table['check_ratio'] = (ratio_table['avg_check']['B'] / ratio_table['avg_check']['A'] - 1)\n",
    "ratio_table['conversion_ratio'] = ratio_table['conversion']['B'] / ratio_table['conversion']['A'] - 1"
   ]
  },
  {
   "cell_type": "code",
   "execution_count": 35,
   "id": "55ffe4b3",
   "metadata": {},
   "outputs": [
    {
     "data": {
      "text/html": [
       "<div>\n",
       "<style scoped>\n",
       "    .dataframe tbody tr th:only-of-type {\n",
       "        vertical-align: middle;\n",
       "    }\n",
       "\n",
       "    .dataframe tbody tr th {\n",
       "        vertical-align: top;\n",
       "    }\n",
       "\n",
       "    .dataframe thead tr th {\n",
       "        text-align: left;\n",
       "    }\n",
       "</style>\n",
       "<table border=\"1\" class=\"dataframe\">\n",
       "  <thead>\n",
       "    <tr>\n",
       "      <th></th>\n",
       "      <th>date</th>\n",
       "      <th colspan=\"2\" halign=\"left\">avg_check</th>\n",
       "      <th colspan=\"2\" halign=\"left\">conversion</th>\n",
       "      <th>check_ratio</th>\n",
       "      <th>conversion_ratio</th>\n",
       "    </tr>\n",
       "    <tr>\n",
       "      <th>group</th>\n",
       "      <th></th>\n",
       "      <th>A</th>\n",
       "      <th>B</th>\n",
       "      <th>A</th>\n",
       "      <th>B</th>\n",
       "      <th></th>\n",
       "      <th></th>\n",
       "    </tr>\n",
       "  </thead>\n",
       "  <tbody>\n",
       "    <tr>\n",
       "      <th>0</th>\n",
       "      <td>2019-08-01</td>\n",
       "      <td>6207.782609</td>\n",
       "      <td>3515.176471</td>\n",
       "      <td>0.031989</td>\n",
       "      <td>0.023843</td>\n",
       "      <td>-0.433747</td>\n",
       "      <td>-0.254650</td>\n",
       "    </tr>\n",
       "    <tr>\n",
       "      <th>1</th>\n",
       "      <td>2019-08-02</td>\n",
       "      <td>5580.500000</td>\n",
       "      <td>5545.025000</td>\n",
       "      <td>0.031390</td>\n",
       "      <td>0.030912</td>\n",
       "      <td>-0.006357</td>\n",
       "      <td>-0.015235</td>\n",
       "    </tr>\n",
       "    <tr>\n",
       "      <th>2</th>\n",
       "      <td>2019-08-03</td>\n",
       "      <td>5255.363636</td>\n",
       "      <td>5349.074074</td>\n",
       "      <td>0.035772</td>\n",
       "      <td>0.029950</td>\n",
       "      <td>0.017831</td>\n",
       "      <td>-0.162759</td>\n",
       "    </tr>\n",
       "    <tr>\n",
       "      <th>3</th>\n",
       "      <td>2019-08-04</td>\n",
       "      <td>5039.350649</td>\n",
       "      <td>5672.647059</td>\n",
       "      <td>0.030055</td>\n",
       "      <td>0.026428</td>\n",
       "      <td>0.125670</td>\n",
       "      <td>-0.120659</td>\n",
       "    </tr>\n",
       "    <tr>\n",
       "      <th>4</th>\n",
       "      <td>2019-08-05</td>\n",
       "      <td>4792.050505</td>\n",
       "      <td>5344.359551</td>\n",
       "      <td>0.029837</td>\n",
       "      <td>0.027134</td>\n",
       "      <td>0.115255</td>\n",
       "      <td>-0.090595</td>\n",
       "    </tr>\n",
       "  </tbody>\n",
       "</table>\n",
       "</div>"
      ],
      "text/plain": [
       "            date    avg_check              conversion           check_ratio  \\\n",
       "group                       A            B          A         B               \n",
       "0     2019-08-01  6207.782609  3515.176471   0.031989  0.023843   -0.433747   \n",
       "1     2019-08-02  5580.500000  5545.025000   0.031390  0.030912   -0.006357   \n",
       "2     2019-08-03  5255.363636  5349.074074   0.035772  0.029950    0.017831   \n",
       "3     2019-08-04  5039.350649  5672.647059   0.030055  0.026428    0.125670   \n",
       "4     2019-08-05  4792.050505  5344.359551   0.029837  0.027134    0.115255   \n",
       "\n",
       "      conversion_ratio  \n",
       "group                   \n",
       "0            -0.254650  \n",
       "1            -0.015235  \n",
       "2            -0.162759  \n",
       "3            -0.120659  \n",
       "4            -0.090595  "
      ]
     },
     "execution_count": 35,
     "metadata": {},
     "output_type": "execute_result"
    }
   ],
   "source": [
    "ratio_table.head()"
   ]
  },
  {
   "cell_type": "code",
   "execution_count": 36,
   "id": "4d464a2d",
   "metadata": {},
   "outputs": [
    {
     "data": {
      "image/png": "[encoded data removed]",
      "text/plain": [
       "<Figure size 648x432 with 1 Axes>"
      ]
     },
     "metadata": {
      "needs_background": "light"
     },
     "output_type": "display_data"
    }
   ],
   "source": [
    "ratio_table.plot(x='date', y ='check_ratio', legend=False, color='#fa4002')\n",
    "\n",
    "plt.title('График относительного изменения кумулятивного среднего чека группы B к группе A', pad=11)\n",
    "plt.axhline(y=0, color='#037bfc', linestyle='-')\n",
    "plt.grid(axis='y', alpha=0.5)\n",
    "plt.xlabel('Дата')\n",
    "plt.ylabel('Относительное изменение');"
   ]
  },
  {
   "cell_type": "markdown",
   "id": "3a1d3773",
   "metadata": {},
   "source": [
    "Видим скачок у группы A от 8 до 13 Августа на обоих графиках и затем тот же провал 19 числа. К концу месяца кумулятивный средний чек группы A ниже чем у группы B."
   ]
  },
  {
   "cell_type": "markdown",
   "id": "a7980f17",
   "metadata": {},
   "source": [
    "### Задача 4\n",
    "Постройте график кумулятивного среднего количества заказов на посетителя. Сделайте выводы и предположения"
   ]
  },
  {
   "cell_type": "code",
   "execution_count": 74,
   "id": "f2d72c98",
   "metadata": {},
   "outputs": [
    {
     "data": {
      "image/png": "[encoded data removed]",
      "text/plain": [
       "<Figure size 648x432 with 1 Axes>"
      ]
     },
     "metadata": {
      "needs_background": "light"
     },
     "output_type": "display_data"
    }
   ],
   "source": [
    "plt.plot(ratio_table['date'], ratio_table['conversion']['A'], label='A')\n",
    "plt.plot(ratio_table['date'], ratio_table['conversion']['B'], label='B')\n",
    "\n",
    "plt.legend(title='Группа')\n",
    "plt.xticks(rotation=45)\n",
    "plt.xlabel('Дата')\n",
    "plt.title('Кумулятивное среднее количества заказов на посетителя', pad=12)\n",
    "plt.ylabel('Среднее количество заказов на поситителя');"
   ]
  },
  {
   "cell_type": "markdown",
   "id": "02d47510",
   "metadata": {},
   "source": [
    "Видим резкие скачки кумулятивного среднего количества заказов на посетителя у обоих групп в первую неделю. Далее группа B показывает стабильно большее кумулятивное среднее"
   ]
  },
  {
   "cell_type": "markdown",
   "id": "04c3d6f0",
   "metadata": {},
   "source": [
    "### Задача 5\n",
    "Постройте график относительного изменения кумулятивного среднего количества заказов на посетителя группы B к группе A. Сделайте выводы и предположения."
   ]
  },
  {
   "cell_type": "code",
   "execution_count": 75,
   "id": "96eaaa94",
   "metadata": {
    "scrolled": false
   },
   "outputs": [
    {
     "data": {
      "image/png": "[encoded data removed]",
      "text/plain": [
       "<Figure size 648x432 with 1 Axes>"
      ]
     },
     "metadata": {
      "needs_background": "light"
     },
     "output_type": "display_data"
    }
   ],
   "source": [
    "ratio_table.plot(x='date', y ='conversion_ratio', legend=False, color='#fa4002')\n",
    "\n",
    "plt.title('График относительного изменения кумулятивного среднего количества заказов на посетителя группы B к группе A', pad=11)\n",
    "plt.axhline(y=0, color='#037bfc', linestyle='-', alpha = 0.8)\n",
    "plt.axhline(y=0.15, color='grey', linestyle='-', alpha = 0.5)\n",
    "plt.grid(axis='y', alpha=0.3)\n",
    "plt.xlabel('Дата')\n",
    "plt.ylabel('Относительное изменение');"
   ]
  },
  {
   "cell_type": "markdown",
   "id": "09154547",
   "metadata": {},
   "source": [
    "Этот график подтверждает вывод выше, группа A лидировала лишь до 6 дня. В последние недели теста показатель стабилизоровался и выше у группы B"
   ]
  },
  {
   "cell_type": "markdown",
   "id": "f7eca555",
   "metadata": {},
   "source": [
    "### Задача 6\n",
    "Постройте точечный график количества заказов по пользователям. Сделайте выводы и предположения."
   ]
  },
  {
   "cell_type": "markdown",
   "id": "e0a82c70",
   "metadata": {},
   "source": [
    "Для этого создадим таблицу заказов на пользователя"
   ]
  },
  {
   "cell_type": "code",
   "execution_count": 39,
   "id": "479cebba",
   "metadata": {},
   "outputs": [],
   "source": [
    "orders_by_user = orders.groupby('visitorid', \n",
    "                                as_index=False)['transactionid'].count().rename(columns={'transactionid':'cnt_orders'})"
   ]
  },
  {
   "cell_type": "code",
   "execution_count": 40,
   "id": "970fdf92",
   "metadata": {},
   "outputs": [
    {
     "data": {
      "text/html": [
       "<div>\n",
       "<style scoped>\n",
       "    .dataframe tbody tr th:only-of-type {\n",
       "        vertical-align: middle;\n",
       "    }\n",
       "\n",
       "    .dataframe tbody tr th {\n",
       "        vertical-align: top;\n",
       "    }\n",
       "\n",
       "    .dataframe thead th {\n",
       "        text-align: right;\n",
       "    }\n",
       "</style>\n",
       "<table border=\"1\" class=\"dataframe\">\n",
       "  <thead>\n",
       "    <tr style=\"text-align: right;\">\n",
       "      <th></th>\n",
       "      <th>visitorid</th>\n",
       "      <th>cnt_orders</th>\n",
       "    </tr>\n",
       "  </thead>\n",
       "  <tbody>\n",
       "    <tr>\n",
       "      <th>0</th>\n",
       "      <td>5114589</td>\n",
       "      <td>1</td>\n",
       "    </tr>\n",
       "    <tr>\n",
       "      <th>1</th>\n",
       "      <td>6958315</td>\n",
       "      <td>1</td>\n",
       "    </tr>\n",
       "    <tr>\n",
       "      <th>2</th>\n",
       "      <td>11685486</td>\n",
       "      <td>1</td>\n",
       "    </tr>\n",
       "  </tbody>\n",
       "</table>\n",
       "</div>"
      ],
      "text/plain": [
       "   visitorid  cnt_orders\n",
       "0    5114589           1\n",
       "1    6958315           1\n",
       "2   11685486           1"
      ]
     },
     "execution_count": 40,
     "metadata": {},
     "output_type": "execute_result"
    }
   ],
   "source": [
    "orders_by_user.head(3)"
   ]
  },
  {
   "cell_type": "markdown",
   "id": "18f253dd",
   "metadata": {},
   "source": [
    "И построим график"
   ]
  },
  {
   "cell_type": "code",
   "execution_count": 41,
   "id": "67b41ff4",
   "metadata": {},
   "outputs": [
    {
     "data": {
      "image/png": "[encoded data removed]",
      "text/plain": [
       "<Figure size 648x432 with 1 Axes>"
      ]
     },
     "metadata": {
      "needs_background": "light"
     },
     "output_type": "display_data"
    }
   ],
   "source": [
    "plt.scatter(pd.Series(range(0,len(orders_by_user))), orders_by_user['cnt_orders'], color='#fcba03')\n",
    "\n",
    "plt.title('Точечный график количества заказов по пользователям', pad=11)\n",
    "plt.ylabel('Количество заказов на пользователя')\n",
    "plt.xlabel('Уникальный идентификатор заказчика');"
   ]
  },
  {
   "cell_type": "markdown",
   "id": "816ae89d",
   "metadata": {},
   "source": [
    "Видим, что преобладающее число пользователей совершило по одному заказу. Так же некоторые делают 2 или 3 заказа. "
   ]
  },
  {
   "cell_type": "markdown",
   "id": "1fc1605b",
   "metadata": {},
   "source": [
    "### Задача 7\n",
    "Посчитайте 95-й и 99-й перцентили количества заказов на пользователя. Выберите границу для определения аномальных пользователей."
   ]
  },
  {
   "cell_type": "code",
   "execution_count": 42,
   "id": "918ec78a",
   "metadata": {},
   "outputs": [
    {
     "name": "stdout",
     "output_type": "stream",
     "text": [
      "95-й процентиль количества заказов на пользователя:  1.0\n",
      "99-й процентиль количества заказов на пользователя:  2.0\n"
     ]
    }
   ],
   "source": [
    "print(f'95-й процентиль количества заказов на пользователя: ', np.percentile(orders_by_user['cnt_orders'], 95))\n",
    "\n",
    "print(f'99-й процентиль количества заказов на пользователя: ', np.percentile(orders_by_user['cnt_orders'], 99))\n"
   ]
  },
  {
   "cell_type": "code",
   "execution_count": 43,
   "id": "66f9c94d",
   "metadata": {},
   "outputs": [
    {
     "data": {
      "text/plain": [
       "1    937\n",
       "2     29\n",
       "3      7\n",
       "Name: cnt_orders, dtype: int64"
      ]
     },
     "execution_count": 43,
     "metadata": {},
     "output_type": "execute_result"
    }
   ],
   "source": [
    "orders_by_user['cnt_orders'].value_counts()"
   ]
  },
  {
   "cell_type": "markdown",
   "id": "cafe6717",
   "metadata": {},
   "source": [
    "Видим что 95й процентиль равен 1 и 99й - 2 заказам у пользователя. Будем считать нормой количество заказов - 1, больше - аномалиями."
   ]
  },
  {
   "cell_type": "markdown",
   "id": "c54945fb",
   "metadata": {},
   "source": [
    "### Задача 8\n",
    "Постройте точечный график стоимостей заказов. Сделайте выводы и предположения."
   ]
  },
  {
   "cell_type": "code",
   "execution_count": 44,
   "id": "cf838851",
   "metadata": {},
   "outputs": [
    {
     "data": {
      "image/png": "[encoded data removed]",
      "text/plain": [
       "<Figure size 648x432 with 1 Axes>"
      ]
     },
     "metadata": {
      "needs_background": "light"
     },
     "output_type": "display_data"
    }
   ],
   "source": [
    "plt.scatter(pd.Series(range(0,len(orders))), orders['revenue'], color='#fcba03', alpha=0.5)\n",
    "\n",
    "plt.title('Точечный график стоимости заказов', pad=11)\n",
    "plt.ylabel('Стоимость заказа')\n",
    "plt.xlabel('Уникальный идентификатор заказа')\n",
    "plt.ticklabel_format(axis='y', useOffset=False, style='plain')\n",
    "plt.yticks([0,100000,200000,1200000])\n",
    "plt.grid(axis='y', color='grey', alpha=0.2);"
   ]
  },
  {
   "cell_type": "code",
   "execution_count": 45,
   "id": "2f9b6dbc",
   "metadata": {},
   "outputs": [
    {
     "data": {
      "image/png": "[encoded data removed]",
      "text/plain": [
       "<Figure size 648x432 with 1 Axes>"
      ]
     },
     "metadata": {
      "needs_background": "light"
     },
     "output_type": "display_data"
    }
   ],
   "source": [
    "plt.scatter(pd.Series(range(0,len(orders))), orders['revenue'], color='#fcba03', alpha=0.5)\n",
    "\n",
    "plt.title('Точечный график стоимости заказов (до 100000)', pad=11)\n",
    "plt.ylabel('Стоимость заказа')\n",
    "plt.xlabel('Уникальный идентификатор заказа')\n",
    "plt.ticklabel_format(axis='y', useOffset=False, style='plain')\n",
    "plt.grid(axis='y', color='grey', alpha=0.2)\n",
    "plt.ylim([0, 100000]);"
   ]
  },
  {
   "cell_type": "markdown",
   "id": "c2017dc6",
   "metadata": {},
   "source": [
    "Видим что все заказы укладываются в значение до 100000 за заказ, и 2 особо крупных заказа. Так же на втором графике видно, что основная масса заказов стоимостью до 20000"
   ]
  },
  {
   "cell_type": "markdown",
   "id": "9eeb4380",
   "metadata": {},
   "source": [
    "### Задача 9\n",
    "Посчитайте 95-й и 99-й перцентили стоимости заказов. Выберите границу для определения аномальных заказов."
   ]
  },
  {
   "cell_type": "code",
   "execution_count": 46,
   "id": "49a1bfe6",
   "metadata": {},
   "outputs": [
    {
     "name": "stdout",
     "output_type": "stream",
     "text": [
      "95-й процентиль количества заказов на пользователя:  26785.0\n",
      "99-й процентиль количества заказов на пользователя:  53904.0\n"
     ]
    }
   ],
   "source": [
    "print(f'95-й процентиль количества заказов на пользователя: ', np.percentile(orders['revenue'], 95))\n",
    "\n",
    "print(f'99-й процентиль количества заказов на пользователя: ', np.percentile(orders['revenue'], 99))"
   ]
  },
  {
   "cell_type": "code",
   "execution_count": 47,
   "id": "4f97dcf0",
   "metadata": {
    "scrolled": false
   },
   "outputs": [
    {
     "data": {
      "image/png": "[encoded data removed]",
      "text/plain": [
       "<Figure size 648x432 with 1 Axes>"
      ]
     },
     "metadata": {
      "needs_background": "light"
     },
     "output_type": "display_data"
    }
   ],
   "source": [
    "plt.hist(data=orders, x='revenue', bins=400)\n",
    "\n",
    "plt.xlim([0,100000])\n",
    "plt.grid(axis='x', alpha=0.3)\n",
    "plt.title('Распределение стоимости заказов')\n",
    "plt.xlabel('Стоимость заказа')\n",
    "plt.ylabel('Количество наблюдений');"
   ]
  },
  {
   "cell_type": "markdown",
   "id": "5d0d501a",
   "metadata": {},
   "source": [
    "На этой гистограмме видно что основная масса заказов это заказы до 20000. Но есть и много заказов от 20 до 60 тысяч. Установим границу аномальных заказов на уровне 53904, по 99 процентилю."
   ]
  },
  {
   "cell_type": "markdown",
   "id": "f3b958be",
   "metadata": {},
   "source": [
    "### Задача 10\n",
    "Посчитайте статистическую значимость различий в среднем количестве заказов на посетителя между группами по «сырым» данным. Сделайте выводы и предположения."
   ]
  },
  {
   "cell_type": "markdown",
   "id": "6514e7bc",
   "metadata": {},
   "source": [
    "$H_0$ = Кумулятивное среднее количества заказов на посетителя группы А равно кумулятивному среднему количества заказов на посетителя группы B\n",
    "\n",
    "$H_1$ = Кумулятивное среднее количества заказов на посетителя группы А не равно кумулятивному среднему количества заказов на посетителя группы B"
   ]
  },
  {
   "cell_type": "markdown",
   "id": "140afb13",
   "metadata": {},
   "source": [
    "Проверим нулевую гипотезу стат.тестом Манна-Уитни на сырых данных. Этот метод выбран потому что данные распределены не нормально и в данных есть выбросы."
   ]
  },
  {
   "cell_type": "code",
   "execution_count": 48,
   "id": "9e50700c",
   "metadata": {},
   "outputs": [
    {
     "name": "stdout",
     "output_type": "stream",
     "text": [
      "a = 0.05\n",
      "p-value = 1.4496661752238628e-05\n"
     ]
    }
   ],
   "source": [
    "print ('a = 0.05')\n",
    "\n",
    "print(f'p-value =', st.mannwhitneyu(ratio_table['conversion']['A'], \n",
    "                                    ratio_table['conversion']['B']).pvalue)"
   ]
  },
  {
   "cell_type": "code",
   "execution_count": 49,
   "id": "b629ad97",
   "metadata": {},
   "outputs": [
    {
     "name": "stdout",
     "output_type": "stream",
     "text": [
      "Относительная разница между средними: 0.082\n"
     ]
    }
   ],
   "source": [
    "print(f'Относительная разница между средними:',\n",
    "      abs(ratio_table['conversion']['A'].mean() / ratio_table['conversion']['B'].mean() - 1).round(3))"
   ]
  },
  {
   "cell_type": "markdown",
   "id": "135e2ed1",
   "metadata": {},
   "source": [
    "Видим крайне низкое значение p-value, значит отвергаем нулевую гипотезу, между группами есть статистически значимое различие. Так же видим относительную разницу средних в 8.2%"
   ]
  },
  {
   "cell_type": "markdown",
   "id": "c78f5048",
   "metadata": {},
   "source": [
    "### Задача 11\n",
    "Посчитайте статистическую значимость различий в среднем чеке заказа между группами по «сырым» данным. Сделайте выводы и предположения."
   ]
  },
  {
   "cell_type": "markdown",
   "id": "9c0b5d46",
   "metadata": {},
   "source": [
    "$H_0$ = Средний чек заказа группы А равен среднему чеку заказа группы В\n",
    "\n",
    "$H_1$ = Средний чек заказа группы А не равен среднему чеку заказа группы В"
   ]
  },
  {
   "cell_type": "markdown",
   "id": "1f99fe3d",
   "metadata": {},
   "source": [
    "Проверим нулевую гипотезу стат.тестом Манна-Уитни на сырых данных"
   ]
  },
  {
   "cell_type": "code",
   "execution_count": 50,
   "id": "715204a6",
   "metadata": {},
   "outputs": [
    {
     "name": "stdout",
     "output_type": "stream",
     "text": [
      "a = 0.05\n",
      "p-value = 0.829\n"
     ]
    }
   ],
   "source": [
    "print ('a = 0.05')\n",
    "\n",
    "print(f'p-value =', (st.mannwhitneyu(orders[orders['group'] == 'A']['revenue'], \n",
    "                                           orders[orders['group'] == 'B']['revenue']).pvalue.round(3)))"
   ]
  },
  {
   "cell_type": "code",
   "execution_count": 51,
   "id": "f0d3f540",
   "metadata": {},
   "outputs": [
    {
     "name": "stdout",
     "output_type": "stream",
     "text": [
      "Относительная разница между средними чеками: 0.223\n"
     ]
    }
   ],
   "source": [
    "print(f'Относительная разница между средними чеками:', \n",
    "      abs(orders[orders['group'] == 'A']['revenue'].mean() / orders[orders['group'] == 'B']['revenue'].mean() - 1).round(3))"
   ]
  },
  {
   "cell_type": "markdown",
   "id": "63bf5be5",
   "metadata": {},
   "source": [
    "P-value значительно больше альфа, значит, причин отвергать нулевую гипотезу и считать, что в среднем чеке есть различия, нет. Хотя мы видим относительную разницу между средними в 22%"
   ]
  },
  {
   "cell_type": "markdown",
   "id": "b712cf4b",
   "metadata": {},
   "source": [
    "### Задача 12\n",
    "Посчитайте статистическую значимость различий в среднем количестве заказов на посетителя между группами по «очищенным» данным. Сделайте выводы и предположения."
   ]
  },
  {
   "cell_type": "markdown",
   "id": "e4ac067d",
   "metadata": {},
   "source": [
    "Очистим наши данные, для этого: создадим список аномальных пользователей и заказов, удалим их"
   ]
  },
  {
   "cell_type": "code",
   "execution_count": 52,
   "id": "37369c12",
   "metadata": {},
   "outputs": [],
   "source": [
    "percentile95 = np.percentile(orders_by_user['cnt_orders'], 95)"
   ]
  },
  {
   "cell_type": "code",
   "execution_count": 53,
   "id": "da168c56",
   "metadata": {},
   "outputs": [],
   "source": [
    "abnormal_users = orders.groupby('visitorid', as_index=False)[['transactionid']].nunique()\\\n",
    ".query('transactionid > @percentile95')"
   ]
  },
  {
   "cell_type": "code",
   "execution_count": 54,
   "id": "b286c4c0",
   "metadata": {},
   "outputs": [],
   "source": [
    "abnormal_users = abnormal_users['visitorid']"
   ]
  },
  {
   "cell_type": "code",
   "execution_count": 55,
   "id": "801bb5aa",
   "metadata": {},
   "outputs": [
    {
     "data": {
      "text/plain": [
       "55      249864742\n",
       "82      366673373\n",
       "94      406208401\n",
       "118     522292794\n",
       "138     611059232\n",
       "157     678354126\n",
       "176     759473111\n",
       "323    1404560065\n",
       "375    1617417821\n",
       "380    1637811943\n",
       "407    1772171838\n",
       "452    1985475298\n",
       "459    2025197455\n",
       "476    2096506107\n",
       "478    2108163459\n",
       "509    2232111114\n",
       "529    2306096143\n",
       "539    2366521417\n",
       "548    2397843657\n",
       "624    2706377257\n",
       "628    2733145037\n",
       "632    2742574263\n",
       "634    2744017357\n",
       "664    2892265953\n",
       "687    2988190573\n",
       "709    3077396270\n",
       "780    3332057097\n",
       "787    3362039251\n",
       "792    3379260072\n",
       "807    3469608676\n",
       "890    3908431265\n",
       "897    3935952912\n",
       "901    3941503500\n",
       "908    3967698036\n",
       "937    4109358064\n",
       "940    4134830387\n",
       "Name: visitorid, dtype: int64"
      ]
     },
     "execution_count": 55,
     "metadata": {},
     "output_type": "execute_result"
    }
   ],
   "source": [
    "abnormal_users"
   ]
  },
  {
   "cell_type": "code",
   "execution_count": 56,
   "id": "cf026ef5",
   "metadata": {},
   "outputs": [],
   "source": [
    "percentile99 = np.percentile(orders['revenue'], 99)"
   ]
  },
  {
   "cell_type": "code",
   "execution_count": 57,
   "id": "37ddd43a",
   "metadata": {},
   "outputs": [],
   "source": [
    "abnormal_orders = orders.query('revenue > @percentile99')"
   ]
  },
  {
   "cell_type": "code",
   "execution_count": 58,
   "id": "e430c965",
   "metadata": {},
   "outputs": [
    {
     "data": {
      "text/html": [
       "<div>\n",
       "<style scoped>\n",
       "    .dataframe tbody tr th:only-of-type {\n",
       "        vertical-align: middle;\n",
       "    }\n",
       "\n",
       "    .dataframe tbody tr th {\n",
       "        vertical-align: top;\n",
       "    }\n",
       "\n",
       "    .dataframe thead th {\n",
       "        text-align: right;\n",
       "    }\n",
       "</style>\n",
       "<table border=\"1\" class=\"dataframe\">\n",
       "  <thead>\n",
       "    <tr style=\"text-align: right;\">\n",
       "      <th></th>\n",
       "      <th>transactionid</th>\n",
       "      <th>visitorid</th>\n",
       "      <th>date</th>\n",
       "      <th>revenue</th>\n",
       "      <th>group</th>\n",
       "    </tr>\n",
       "  </thead>\n",
       "  <tbody>\n",
       "    <tr>\n",
       "      <th>425</th>\n",
       "      <td>590470918</td>\n",
       "      <td>1920142716</td>\n",
       "      <td>2019-08-19</td>\n",
       "      <td>1294500</td>\n",
       "      <td>B</td>\n",
       "    </tr>\n",
       "    <tr>\n",
       "      <th>743</th>\n",
       "      <td>3603576309</td>\n",
       "      <td>4133034833</td>\n",
       "      <td>2019-08-09</td>\n",
       "      <td>67990</td>\n",
       "      <td>A</td>\n",
       "    </tr>\n",
       "    <tr>\n",
       "      <th>744</th>\n",
       "      <td>3668308183</td>\n",
       "      <td>888512513</td>\n",
       "      <td>2019-08-27</td>\n",
       "      <td>86620</td>\n",
       "      <td>B</td>\n",
       "    </tr>\n",
       "    <tr>\n",
       "      <th>940</th>\n",
       "      <td>2420050534</td>\n",
       "      <td>4003628586</td>\n",
       "      <td>2019-08-08</td>\n",
       "      <td>58550</td>\n",
       "      <td>B</td>\n",
       "    </tr>\n",
       "    <tr>\n",
       "      <th>949</th>\n",
       "      <td>1347999392</td>\n",
       "      <td>887908475</td>\n",
       "      <td>2019-08-21</td>\n",
       "      <td>60450</td>\n",
       "      <td>A</td>\n",
       "    </tr>\n",
       "    <tr>\n",
       "      <th>1099</th>\n",
       "      <td>316924019</td>\n",
       "      <td>148427295</td>\n",
       "      <td>2019-08-12</td>\n",
       "      <td>65710</td>\n",
       "      <td>A</td>\n",
       "    </tr>\n",
       "    <tr>\n",
       "      <th>1103</th>\n",
       "      <td>1348774318</td>\n",
       "      <td>1164614297</td>\n",
       "      <td>2019-08-12</td>\n",
       "      <td>66350</td>\n",
       "      <td>A</td>\n",
       "    </tr>\n",
       "    <tr>\n",
       "      <th>1136</th>\n",
       "      <td>666610489</td>\n",
       "      <td>1307669133</td>\n",
       "      <td>2019-08-13</td>\n",
       "      <td>92550</td>\n",
       "      <td>A</td>\n",
       "    </tr>\n",
       "    <tr>\n",
       "      <th>1196</th>\n",
       "      <td>3936777065</td>\n",
       "      <td>2108080724</td>\n",
       "      <td>2019-08-15</td>\n",
       "      <td>202740</td>\n",
       "      <td>B</td>\n",
       "    </tr>\n",
       "  </tbody>\n",
       "</table>\n",
       "</div>"
      ],
      "text/plain": [
       "      transactionid   visitorid       date  revenue group\n",
       "425       590470918  1920142716 2019-08-19  1294500     B\n",
       "743      3603576309  4133034833 2019-08-09    67990     A\n",
       "744      3668308183   888512513 2019-08-27    86620     B\n",
       "940      2420050534  4003628586 2019-08-08    58550     B\n",
       "949      1347999392   887908475 2019-08-21    60450     A\n",
       "1099      316924019   148427295 2019-08-12    65710     A\n",
       "1103     1348774318  1164614297 2019-08-12    66350     A\n",
       "1136      666610489  1307669133 2019-08-13    92550     A\n",
       "1196     3936777065  2108080724 2019-08-15   202740     B"
      ]
     },
     "execution_count": 58,
     "metadata": {},
     "output_type": "execute_result"
    }
   ],
   "source": [
    "abnormal_orders"
   ]
  },
  {
   "cell_type": "code",
   "execution_count": 59,
   "id": "255c6339",
   "metadata": {},
   "outputs": [],
   "source": [
    "clean_data = orders.query('visitorid not in @abnormal_users and revenue < @percentile99')"
   ]
  },
  {
   "cell_type": "code",
   "execution_count": 60,
   "id": "bf3ea223",
   "metadata": {},
   "outputs": [
    {
     "data": {
      "text/html": [
       "<div>\n",
       "<style scoped>\n",
       "    .dataframe tbody tr th:only-of-type {\n",
       "        vertical-align: middle;\n",
       "    }\n",
       "\n",
       "    .dataframe tbody tr th {\n",
       "        vertical-align: top;\n",
       "    }\n",
       "\n",
       "    .dataframe thead th {\n",
       "        text-align: right;\n",
       "    }\n",
       "</style>\n",
       "<table border=\"1\" class=\"dataframe\">\n",
       "  <thead>\n",
       "    <tr style=\"text-align: right;\">\n",
       "      <th></th>\n",
       "      <th>transactionid</th>\n",
       "      <th>visitorid</th>\n",
       "      <th>date</th>\n",
       "      <th>revenue</th>\n",
       "      <th>group</th>\n",
       "    </tr>\n",
       "  </thead>\n",
       "  <tbody>\n",
       "    <tr>\n",
       "      <th>0</th>\n",
       "      <td>3667963787</td>\n",
       "      <td>3312258926</td>\n",
       "      <td>2019-08-15</td>\n",
       "      <td>1650</td>\n",
       "      <td>B</td>\n",
       "    </tr>\n",
       "    <tr>\n",
       "      <th>1</th>\n",
       "      <td>2804400009</td>\n",
       "      <td>3642806036</td>\n",
       "      <td>2019-08-15</td>\n",
       "      <td>730</td>\n",
       "      <td>B</td>\n",
       "    </tr>\n",
       "    <tr>\n",
       "      <th>3</th>\n",
       "      <td>3797467345</td>\n",
       "      <td>1196621759</td>\n",
       "      <td>2019-08-15</td>\n",
       "      <td>9759</td>\n",
       "      <td>B</td>\n",
       "    </tr>\n",
       "    <tr>\n",
       "      <th>4</th>\n",
       "      <td>2282983706</td>\n",
       "      <td>2322279887</td>\n",
       "      <td>2019-08-15</td>\n",
       "      <td>2308</td>\n",
       "      <td>B</td>\n",
       "    </tr>\n",
       "    <tr>\n",
       "      <th>5</th>\n",
       "      <td>182168103</td>\n",
       "      <td>935554773</td>\n",
       "      <td>2019-08-15</td>\n",
       "      <td>2210</td>\n",
       "      <td>B</td>\n",
       "    </tr>\n",
       "    <tr>\n",
       "      <th>...</th>\n",
       "      <td>...</td>\n",
       "      <td>...</td>\n",
       "      <td>...</td>\n",
       "      <td>...</td>\n",
       "      <td>...</td>\n",
       "    </tr>\n",
       "    <tr>\n",
       "      <th>1190</th>\n",
       "      <td>38478481</td>\n",
       "      <td>1197745035</td>\n",
       "      <td>2019-08-14</td>\n",
       "      <td>8600</td>\n",
       "      <td>B</td>\n",
       "    </tr>\n",
       "    <tr>\n",
       "      <th>1191</th>\n",
       "      <td>3592955527</td>\n",
       "      <td>608641596</td>\n",
       "      <td>2019-08-14</td>\n",
       "      <td>16490</td>\n",
       "      <td>B</td>\n",
       "    </tr>\n",
       "    <tr>\n",
       "      <th>1192</th>\n",
       "      <td>2662137336</td>\n",
       "      <td>3733762160</td>\n",
       "      <td>2019-08-14</td>\n",
       "      <td>6490</td>\n",
       "      <td>B</td>\n",
       "    </tr>\n",
       "    <tr>\n",
       "      <th>1193</th>\n",
       "      <td>2203539145</td>\n",
       "      <td>370388673</td>\n",
       "      <td>2019-08-14</td>\n",
       "      <td>3190</td>\n",
       "      <td>A</td>\n",
       "    </tr>\n",
       "    <tr>\n",
       "      <th>1194</th>\n",
       "      <td>1807773912</td>\n",
       "      <td>573423106</td>\n",
       "      <td>2019-08-14</td>\n",
       "      <td>10550</td>\n",
       "      <td>A</td>\n",
       "    </tr>\n",
       "  </tbody>\n",
       "</table>\n",
       "<p>925 rows × 5 columns</p>\n",
       "</div>"
      ],
      "text/plain": [
       "      transactionid   visitorid       date  revenue group\n",
       "0        3667963787  3312258926 2019-08-15     1650     B\n",
       "1        2804400009  3642806036 2019-08-15      730     B\n",
       "3        3797467345  1196621759 2019-08-15     9759     B\n",
       "4        2282983706  2322279887 2019-08-15     2308     B\n",
       "5         182168103   935554773 2019-08-15     2210     B\n",
       "...             ...         ...        ...      ...   ...\n",
       "1190       38478481  1197745035 2019-08-14     8600     B\n",
       "1191     3592955527   608641596 2019-08-14    16490     B\n",
       "1192     2662137336  3733762160 2019-08-14     6490     B\n",
       "1193     2203539145   370388673 2019-08-14     3190     A\n",
       "1194     1807773912   573423106 2019-08-14    10550     A\n",
       "\n",
       "[925 rows x 5 columns]"
      ]
     },
     "execution_count": 60,
     "metadata": {},
     "output_type": "execute_result"
    }
   ],
   "source": [
    "clean_data"
   ]
  },
  {
   "cell_type": "markdown",
   "id": "f9d363f0",
   "metadata": {},
   "source": [
    "Затем построим сводную таблицу как в задании с сырыми данными"
   ]
  },
  {
   "cell_type": "code",
   "execution_count": 61,
   "id": "1a0f4cab",
   "metadata": {},
   "outputs": [],
   "source": [
    "aggtable_clean = clean_data.groupby(['date', 'group'], as_index=False).agg({'transactionid':'nunique',\n",
    "                                                                 'visitorid':'nunique', 'revenue':'sum'})"
   ]
  },
  {
   "cell_type": "code",
   "execution_count": 62,
   "id": "b6a4ce00",
   "metadata": {},
   "outputs": [],
   "source": [
    "aggtable_clean = aggtable_clean.merge(visitors, how='left', on=['date', 'group'])"
   ]
  },
  {
   "cell_type": "code",
   "execution_count": 63,
   "id": "108ad53b",
   "metadata": {},
   "outputs": [
    {
     "data": {
      "text/html": [
       "<div>\n",
       "<style scoped>\n",
       "    .dataframe tbody tr th:only-of-type {\n",
       "        vertical-align: middle;\n",
       "    }\n",
       "\n",
       "    .dataframe tbody tr th {\n",
       "        vertical-align: top;\n",
       "    }\n",
       "\n",
       "    .dataframe thead th {\n",
       "        text-align: right;\n",
       "    }\n",
       "</style>\n",
       "<table border=\"1\" class=\"dataframe\">\n",
       "  <thead>\n",
       "    <tr style=\"text-align: right;\">\n",
       "      <th></th>\n",
       "      <th>date</th>\n",
       "      <th>group</th>\n",
       "      <th>transactionid</th>\n",
       "      <th>visitorid</th>\n",
       "      <th>revenue</th>\n",
       "      <th>visitors</th>\n",
       "    </tr>\n",
       "  </thead>\n",
       "  <tbody>\n",
       "    <tr>\n",
       "      <th>0</th>\n",
       "      <td>2019-08-01</td>\n",
       "      <td>A</td>\n",
       "      <td>15</td>\n",
       "      <td>15</td>\n",
       "      <td>89858</td>\n",
       "      <td>719</td>\n",
       "    </tr>\n",
       "    <tr>\n",
       "      <th>1</th>\n",
       "      <td>2019-08-01</td>\n",
       "      <td>B</td>\n",
       "      <td>17</td>\n",
       "      <td>17</td>\n",
       "      <td>59758</td>\n",
       "      <td>713</td>\n",
       "    </tr>\n",
       "    <tr>\n",
       "      <th>2</th>\n",
       "      <td>2019-08-02</td>\n",
       "      <td>A</td>\n",
       "      <td>15</td>\n",
       "      <td>15</td>\n",
       "      <td>46483</td>\n",
       "      <td>619</td>\n",
       "    </tr>\n",
       "    <tr>\n",
       "      <th>3</th>\n",
       "      <td>2019-08-02</td>\n",
       "      <td>B</td>\n",
       "      <td>20</td>\n",
       "      <td>20</td>\n",
       "      <td>153673</td>\n",
       "      <td>581</td>\n",
       "    </tr>\n",
       "    <tr>\n",
       "      <th>4</th>\n",
       "      <td>2019-08-03</td>\n",
       "      <td>A</td>\n",
       "      <td>24</td>\n",
       "      <td>24</td>\n",
       "      <td>112473</td>\n",
       "      <td>507</td>\n",
       "    </tr>\n",
       "    <tr>\n",
       "      <th>...</th>\n",
       "      <td>...</td>\n",
       "      <td>...</td>\n",
       "      <td>...</td>\n",
       "      <td>...</td>\n",
       "      <td>...</td>\n",
       "      <td>...</td>\n",
       "    </tr>\n",
       "    <tr>\n",
       "      <th>57</th>\n",
       "      <td>2019-08-29</td>\n",
       "      <td>B</td>\n",
       "      <td>14</td>\n",
       "      <td>14</td>\n",
       "      <td>104466</td>\n",
       "      <td>531</td>\n",
       "    </tr>\n",
       "    <tr>\n",
       "      <th>58</th>\n",
       "      <td>2019-08-30</td>\n",
       "      <td>A</td>\n",
       "      <td>7</td>\n",
       "      <td>7</td>\n",
       "      <td>33030</td>\n",
       "      <td>490</td>\n",
       "    </tr>\n",
       "    <tr>\n",
       "      <th>59</th>\n",
       "      <td>2019-08-30</td>\n",
       "      <td>B</td>\n",
       "      <td>21</td>\n",
       "      <td>21</td>\n",
       "      <td>209223</td>\n",
       "      <td>490</td>\n",
       "    </tr>\n",
       "    <tr>\n",
       "      <th>60</th>\n",
       "      <td>2019-08-31</td>\n",
       "      <td>A</td>\n",
       "      <td>8</td>\n",
       "      <td>8</td>\n",
       "      <td>53243</td>\n",
       "      <td>699</td>\n",
       "    </tr>\n",
       "    <tr>\n",
       "      <th>61</th>\n",
       "      <td>2019-08-31</td>\n",
       "      <td>B</td>\n",
       "      <td>17</td>\n",
       "      <td>17</td>\n",
       "      <td>113139</td>\n",
       "      <td>718</td>\n",
       "    </tr>\n",
       "  </tbody>\n",
       "</table>\n",
       "<p>62 rows × 6 columns</p>\n",
       "</div>"
      ],
      "text/plain": [
       "         date group  transactionid  visitorid  revenue  visitors\n",
       "0  2019-08-01     A             15         15    89858       719\n",
       "1  2019-08-01     B             17         17    59758       713\n",
       "2  2019-08-02     A             15         15    46483       619\n",
       "3  2019-08-02     B             20         20   153673       581\n",
       "4  2019-08-03     A             24         24   112473       507\n",
       "..        ...   ...            ...        ...      ...       ...\n",
       "57 2019-08-29     B             14         14   104466       531\n",
       "58 2019-08-30     A              7          7    33030       490\n",
       "59 2019-08-30     B             21         21   209223       490\n",
       "60 2019-08-31     A              8          8    53243       699\n",
       "61 2019-08-31     B             17         17   113139       718\n",
       "\n",
       "[62 rows x 6 columns]"
      ]
     },
     "execution_count": 63,
     "metadata": {},
     "output_type": "execute_result"
    }
   ],
   "source": [
    "aggtable_clean"
   ]
  },
  {
   "cell_type": "code",
   "execution_count": 64,
   "id": "00a0986c",
   "metadata": {},
   "outputs": [],
   "source": [
    "group_a_clean = aggtable_clean[aggtable_clean['group'] == 'A']\n",
    "group_b_clean = aggtable_clean[aggtable_clean['group'] == 'B']\n",
    "\n",
    "group_a_clean = group_a_clean[['transactionid', 'visitorid', 'revenue', 'visitors']].cumsum()\n",
    "group_b_clean = group_b_clean[['transactionid', 'visitorid', 'revenue', 'visitors']].cumsum()\n",
    "\n",
    "group_a_clean = group_a_clean.merge(aggtable_clean[['date', 'group']], left_index=True, right_index=True)\n",
    "group_b_clean = group_b_clean.merge(aggtable_clean[['date', 'group']], left_index=True, right_index=True)"
   ]
  },
  {
   "cell_type": "code",
   "execution_count": 65,
   "id": "0563097e",
   "metadata": {},
   "outputs": [],
   "source": [
    "cumdata_clean = group_a_clean.merge(group_b_clean, how='outer')\n",
    "\n",
    "cumdata_clean.columns = ['cnt_orders', 'cnt_clients', 'sum_revenue', 'visitors', 'date', 'group']"
   ]
  },
  {
   "cell_type": "code",
   "execution_count": 66,
   "id": "63ac15c8",
   "metadata": {},
   "outputs": [],
   "source": [
    "cumdata_clean['conversion'] = cumdata_clean['cnt_orders'] / cumdata_clean['visitors']"
   ]
  },
  {
   "cell_type": "code",
   "execution_count": 67,
   "id": "603bf436",
   "metadata": {
    "scrolled": false
   },
   "outputs": [
    {
     "data": {
      "text/html": [
       "<div>\n",
       "<style scoped>\n",
       "    .dataframe tbody tr th:only-of-type {\n",
       "        vertical-align: middle;\n",
       "    }\n",
       "\n",
       "    .dataframe tbody tr th {\n",
       "        vertical-align: top;\n",
       "    }\n",
       "\n",
       "    .dataframe thead th {\n",
       "        text-align: right;\n",
       "    }\n",
       "</style>\n",
       "<table border=\"1\" class=\"dataframe\">\n",
       "  <thead>\n",
       "    <tr style=\"text-align: right;\">\n",
       "      <th></th>\n",
       "      <th>cnt_orders</th>\n",
       "      <th>cnt_clients</th>\n",
       "      <th>sum_revenue</th>\n",
       "      <th>visitors</th>\n",
       "      <th>date</th>\n",
       "      <th>group</th>\n",
       "      <th>conversion</th>\n",
       "    </tr>\n",
       "  </thead>\n",
       "  <tbody>\n",
       "    <tr>\n",
       "      <th>0</th>\n",
       "      <td>15</td>\n",
       "      <td>15</td>\n",
       "      <td>89858</td>\n",
       "      <td>719</td>\n",
       "      <td>2019-08-01</td>\n",
       "      <td>A</td>\n",
       "      <td>0.020862</td>\n",
       "    </tr>\n",
       "    <tr>\n",
       "      <th>1</th>\n",
       "      <td>30</td>\n",
       "      <td>30</td>\n",
       "      <td>136341</td>\n",
       "      <td>1338</td>\n",
       "      <td>2019-08-02</td>\n",
       "      <td>A</td>\n",
       "      <td>0.022422</td>\n",
       "    </tr>\n",
       "    <tr>\n",
       "      <th>2</th>\n",
       "      <td>54</td>\n",
       "      <td>54</td>\n",
       "      <td>248814</td>\n",
       "      <td>1845</td>\n",
       "      <td>2019-08-03</td>\n",
       "      <td>A</td>\n",
       "      <td>0.029268</td>\n",
       "    </tr>\n",
       "    <tr>\n",
       "      <th>3</th>\n",
       "      <td>64</td>\n",
       "      <td>64</td>\n",
       "      <td>289880</td>\n",
       "      <td>2562</td>\n",
       "      <td>2019-08-04</td>\n",
       "      <td>A</td>\n",
       "      <td>0.024980</td>\n",
       "    </tr>\n",
       "    <tr>\n",
       "      <th>4</th>\n",
       "      <td>84</td>\n",
       "      <td>84</td>\n",
       "      <td>369473</td>\n",
       "      <td>3318</td>\n",
       "      <td>2019-08-05</td>\n",
       "      <td>A</td>\n",
       "      <td>0.025316</td>\n",
       "    </tr>\n",
       "    <tr>\n",
       "      <th>...</th>\n",
       "      <td>...</td>\n",
       "      <td>...</td>\n",
       "      <td>...</td>\n",
       "      <td>...</td>\n",
       "      <td>...</td>\n",
       "      <td>...</td>\n",
       "      <td>...</td>\n",
       "    </tr>\n",
       "    <tr>\n",
       "      <th>57</th>\n",
       "      <td>433</td>\n",
       "      <td>433</td>\n",
       "      <td>2693542</td>\n",
       "      <td>16523</td>\n",
       "      <td>2019-08-27</td>\n",
       "      <td>B</td>\n",
       "      <td>0.026206</td>\n",
       "    </tr>\n",
       "    <tr>\n",
       "      <th>58</th>\n",
       "      <td>453</td>\n",
       "      <td>453</td>\n",
       "      <td>2751200</td>\n",
       "      <td>17177</td>\n",
       "      <td>2019-08-28</td>\n",
       "      <td>B</td>\n",
       "      <td>0.026372</td>\n",
       "    </tr>\n",
       "    <tr>\n",
       "      <th>59</th>\n",
       "      <td>467</td>\n",
       "      <td>467</td>\n",
       "      <td>2855666</td>\n",
       "      <td>17708</td>\n",
       "      <td>2019-08-29</td>\n",
       "      <td>B</td>\n",
       "      <td>0.026372</td>\n",
       "    </tr>\n",
       "    <tr>\n",
       "      <th>60</th>\n",
       "      <td>488</td>\n",
       "      <td>488</td>\n",
       "      <td>3064889</td>\n",
       "      <td>18198</td>\n",
       "      <td>2019-08-30</td>\n",
       "      <td>B</td>\n",
       "      <td>0.026816</td>\n",
       "    </tr>\n",
       "    <tr>\n",
       "      <th>61</th>\n",
       "      <td>505</td>\n",
       "      <td>505</td>\n",
       "      <td>3178028</td>\n",
       "      <td>18916</td>\n",
       "      <td>2019-08-31</td>\n",
       "      <td>B</td>\n",
       "      <td>0.026697</td>\n",
       "    </tr>\n",
       "  </tbody>\n",
       "</table>\n",
       "<p>62 rows × 7 columns</p>\n",
       "</div>"
      ],
      "text/plain": [
       "    cnt_orders  cnt_clients  sum_revenue  visitors       date group  \\\n",
       "0           15           15        89858       719 2019-08-01     A   \n",
       "1           30           30       136341      1338 2019-08-02     A   \n",
       "2           54           54       248814      1845 2019-08-03     A   \n",
       "3           64           64       289880      2562 2019-08-04     A   \n",
       "4           84           84       369473      3318 2019-08-05     A   \n",
       "..         ...          ...          ...       ...        ...   ...   \n",
       "57         433          433      2693542     16523 2019-08-27     B   \n",
       "58         453          453      2751200     17177 2019-08-28     B   \n",
       "59         467          467      2855666     17708 2019-08-29     B   \n",
       "60         488          488      3064889     18198 2019-08-30     B   \n",
       "61         505          505      3178028     18916 2019-08-31     B   \n",
       "\n",
       "    conversion  \n",
       "0     0.020862  \n",
       "1     0.022422  \n",
       "2     0.029268  \n",
       "3     0.024980  \n",
       "4     0.025316  \n",
       "..         ...  \n",
       "57    0.026206  \n",
       "58    0.026372  \n",
       "59    0.026372  \n",
       "60    0.026816  \n",
       "61    0.026697  \n",
       "\n",
       "[62 rows x 7 columns]"
      ]
     },
     "execution_count": 67,
     "metadata": {},
     "output_type": "execute_result"
    }
   ],
   "source": [
    "cumdata_clean"
   ]
  },
  {
   "cell_type": "code",
   "execution_count": 68,
   "id": "63387486",
   "metadata": {},
   "outputs": [],
   "source": [
    "ratio_table_clean = cumdata_clean.pivot_table(index='date', columns='group', values='conversion').reset_index()"
   ]
  },
  {
   "cell_type": "code",
   "execution_count": 69,
   "id": "469ba7e9",
   "metadata": {},
   "outputs": [
    {
     "data": {
      "text/html": [
       "<div>\n",
       "<style scoped>\n",
       "    .dataframe tbody tr th:only-of-type {\n",
       "        vertical-align: middle;\n",
       "    }\n",
       "\n",
       "    .dataframe tbody tr th {\n",
       "        vertical-align: top;\n",
       "    }\n",
       "\n",
       "    .dataframe thead th {\n",
       "        text-align: right;\n",
       "    }\n",
       "</style>\n",
       "<table border=\"1\" class=\"dataframe\">\n",
       "  <thead>\n",
       "    <tr style=\"text-align: right;\">\n",
       "      <th>group</th>\n",
       "      <th>date</th>\n",
       "      <th>A</th>\n",
       "      <th>B</th>\n",
       "    </tr>\n",
       "  </thead>\n",
       "  <tbody>\n",
       "    <tr>\n",
       "      <th>0</th>\n",
       "      <td>2019-08-01</td>\n",
       "      <td>0.020862</td>\n",
       "      <td>0.023843</td>\n",
       "    </tr>\n",
       "    <tr>\n",
       "      <th>1</th>\n",
       "      <td>2019-08-02</td>\n",
       "      <td>0.022422</td>\n",
       "      <td>0.028594</td>\n",
       "    </tr>\n",
       "    <tr>\n",
       "      <th>2</th>\n",
       "      <td>2019-08-03</td>\n",
       "      <td>0.029268</td>\n",
       "      <td>0.028286</td>\n",
       "    </tr>\n",
       "    <tr>\n",
       "      <th>3</th>\n",
       "      <td>2019-08-04</td>\n",
       "      <td>0.024980</td>\n",
       "      <td>0.024485</td>\n",
       "    </tr>\n",
       "    <tr>\n",
       "      <th>4</th>\n",
       "      <td>2019-08-05</td>\n",
       "      <td>0.025316</td>\n",
       "      <td>0.025610</td>\n",
       "    </tr>\n",
       "  </tbody>\n",
       "</table>\n",
       "</div>"
      ],
      "text/plain": [
       "group       date         A         B\n",
       "0     2019-08-01  0.020862  0.023843\n",
       "1     2019-08-02  0.022422  0.028594\n",
       "2     2019-08-03  0.029268  0.028286\n",
       "3     2019-08-04  0.024980  0.024485\n",
       "4     2019-08-05  0.025316  0.025610"
      ]
     },
     "execution_count": 69,
     "metadata": {},
     "output_type": "execute_result"
    }
   ],
   "source": [
    "ratio_table_clean.head()"
   ]
  },
  {
   "cell_type": "markdown",
   "id": "cf90a89d",
   "metadata": {},
   "source": [
    "Проведём стат тест"
   ]
  },
  {
   "cell_type": "markdown",
   "id": "8f627dac",
   "metadata": {},
   "source": [
    "$H_0$ = Кумулятивное среднее количества заказов на посетителя группы А равно кумулятивному среднему количества заказов на посетителя группы B\n",
    "\n",
    "$H_1$ = Кумулятивное среднее количества заказов на посетителя группы А не равно кумулятивному среднему количества заказов на посетителя группы B"
   ]
  },
  {
   "cell_type": "code",
   "execution_count": 78,
   "id": "51d080b2",
   "metadata": {},
   "outputs": [
    {
     "name": "stdout",
     "output_type": "stream",
     "text": [
      "a = 0.05\n",
      "p-value = 3.4066160068019324e-10\n"
     ]
    }
   ],
   "source": [
    "print ('a = 0.05')\n",
    "\n",
    "print(f'p-value =', st.mannwhitneyu(ratio_table_clean['A'], ratio_table_clean['B']).pvalue)"
   ]
  },
  {
   "cell_type": "code",
   "execution_count": 77,
   "id": "d4cfcb49",
   "metadata": {},
   "outputs": [
    {
     "name": "stdout",
     "output_type": "stream",
     "text": [
      "Относительная разница между кумулятивными средними: 0.161\n"
     ]
    }
   ],
   "source": [
    "print(f'Относительная разница между кумулятивными средними:',\n",
    "      abs(ratio_table_clean['A'].mean() / ratio_table_clean['B'].mean() - 1).round(3))"
   ]
  },
  {
   "cell_type": "markdown",
   "id": "6201846c",
   "metadata": {},
   "source": [
    "Удалив аномальные значения, тест даёт нам еще более низкие показатели p-value, что говорит о том, что мы отвергаем гипотезу о равенстве кумулятивного среднего количества заказов на посетителя у обеих групп. Так же относительная разница увеличилась почти вдвое."
   ]
  },
  {
   "cell_type": "markdown",
   "id": "4aadcc86",
   "metadata": {},
   "source": [
    "### Задача 13\n",
    "Посчитайте статистическую значимость различий в среднем чеке заказа между группами по «очищенным» данным. Сделайте выводы и предположения."
   ]
  },
  {
   "cell_type": "markdown",
   "id": "1c9fc813",
   "metadata": {},
   "source": [
    "$H_0$ = Средний чек заказа группы А равен среднему чеку заказа группы В\n",
    "\n",
    "$H_1$ = Средний чек заказа группы А не равен среднему чеку заказа группы В"
   ]
  },
  {
   "cell_type": "markdown",
   "id": "afc92369",
   "metadata": {},
   "source": [
    "Проведём тест Манна-Уитни"
   ]
  },
  {
   "cell_type": "code",
   "execution_count": 72,
   "id": "5183b724",
   "metadata": {},
   "outputs": [
    {
     "name": "stdout",
     "output_type": "stream",
     "text": [
      "a = 0.05\n",
      "p-value = 0.973\n"
     ]
    }
   ],
   "source": [
    "print ('a = 0.05')\n",
    "\n",
    "print(f'p-value =', (st.mannwhitneyu(clean_data[clean_data['group'] == 'A']['revenue'], \n",
    "                                           clean_data[clean_data['group'] == 'B']['revenue']).pvalue.round(3)))"
   ]
  },
  {
   "cell_type": "code",
   "execution_count": 79,
   "id": "5637704d",
   "metadata": {},
   "outputs": [
    {
     "name": "stdout",
     "output_type": "stream",
     "text": [
      "Относительная разница между средними чеками: 0.023\n"
     ]
    }
   ],
   "source": [
    "print(f'Относительная разница между средними чеками:', \n",
    "      abs(clean_data[clean_data['group'] == 'A']['revenue'].mean() /\\\n",
    "          clean_data[clean_data['group'] == 'B']['revenue'].mean() - 1).round(3))"
   ]
  },
  {
   "cell_type": "markdown",
   "id": "53dc8d59",
   "metadata": {},
   "source": [
    "Наш p-value вырос еще больше, а относительная разница уменьшилась до 2.3%, что говорит нам о том, что мы не можем отвергнуть гипотезу о равенстве средних чеков обеих групп."
   ]
  },
  {
   "cell_type": "markdown",
   "id": "f9c5447b",
   "metadata": {},
   "source": [
    "### Задача 14\n",
    "Примите решение по результатам теста и объясните его. Варианты решений:\n",
    "1. Остановить тест, зафиксировать победу одной из групп.\n",
    "2. Остановить тест, зафиксировать отсутствие различий между группами.\n",
    "3. Продолжить тест."
   ]
  },
  {
   "cell_type": "markdown",
   "id": "9cf76a4a",
   "metadata": {},
   "source": [
    "По итогам исследований и тестов, можем сказать, что разница между средними чеками обоих групп не зафиксирована. Однако результаты тестов и изучение графиков кумулятивного среднего количества заказов на посетителя показали преимущество группы B над группой A. \n",
    "Так что стоит остановить тест и признать успех группы B в таком показателе как кумулятивное среднее количества заказов на посетителя, что немаловажно."
   ]
  },
  {
   "cell_type": "markdown",
   "id": "f389f534",
   "metadata": {},
   "source": [
    "## Выводы"
   ]
  },
  {
   "cell_type": "markdown",
   "id": "b0a1a542",
   "metadata": {},
   "source": [
    "Мы исследовали данные о покупках в интернет-магазине, результаты A-B тестирования, а так же провели приоритезацию гипотез методами ICE и RICE.\n",
    "\n",
    "Данные пришли корректными и не нуждались в обработке. Были найдейны аномалии в значениях стоимость заказа и количество заказов у одного клиента. С этими аномалиями мы работали по ходу исследования исходя из заданий.\n",
    "\n",
    "Итак, методом ICE в приоритете оказалась гипотеза : _Запустить акцию, дающую скидку на товар в день рождения_, набравшая 16.2 ICE score.\n",
    "\n",
    "Метод RICE в приоритет ставит гипотезу : _Добавить форму подписки на все основные страницы, чтобы собрать базу клиентов для email-рассылок_, которая набрала 112 RICE score. Не стоит сравнить ICE и RICE score, так как формулы у методов разные. Вывод из приоритезации такой : оба методы по своему хороши и показывают схожие результаты, метод RICE кажется более эффективным из-за того, что учитывает охват аудитории (R-reach)\n",
    "\n",
    "По итогам наблюбений и результатов A-B тестирования можно сделать следующие выводы (нами были проведены тесты на стат. значимость Манна-Уитни по сырым и очищенным данным) :\n",
    "- Аномалии в данных критически не сказались на выводах из теста, что говорит о хорошей работе выбранного метода\n",
    "- Мной не найдено стат. значимых различий в значении среднего чека у обоих групп теста\n",
    "- Найдены стат. значимые различия в показателях кумулятивного среднего количества заказов на посетителя, так же это видно по графику относительного и абсолютного изменения, что позволяет нам остановить тест и признать победу группы B."
   ]
  }
 ],
 "metadata": {
  "ExecuteTimeLog": [
   {
    "duration": 1264,
    "start_time": "2024-02-05T12:10:20.928Z"
   },
   {
    "duration": 237,
    "start_time": "2024-02-05T12:10:22.194Z"
   },
   {
    "duration": 32,
    "start_time": "2024-02-05T12:10:22.432Z"
   },
   {
    "duration": 9,
    "start_time": "2024-02-05T12:10:22.466Z"
   },
   {
    "duration": 15,
    "start_time": "2024-02-05T12:10:22.477Z"
   },
   {
    "duration": 5,
    "start_time": "2024-02-05T12:10:22.493Z"
   },
   {
    "duration": 12,
    "start_time": "2024-02-05T12:10:22.499Z"
   },
   {
    "duration": 6,
    "start_time": "2024-02-05T12:10:22.513Z"
   },
   {
    "duration": 51,
    "start_time": "2024-02-05T12:10:22.521Z"
   },
   {
    "duration": 4,
    "start_time": "2024-02-05T12:10:22.576Z"
   },
   {
    "duration": 5,
    "start_time": "2024-02-05T12:10:22.581Z"
   },
   {
    "duration": 6,
    "start_time": "2024-02-05T12:10:22.587Z"
   },
   {
    "duration": 9,
    "start_time": "2024-02-05T12:10:22.617Z"
   },
   {
    "duration": 95,
    "start_time": "2024-02-05T12:10:22.628Z"
   },
   {
    "duration": 9,
    "start_time": "2024-02-05T12:10:22.725Z"
   },
   {
    "duration": 6,
    "start_time": "2024-02-05T12:10:22.736Z"
   },
   {
    "duration": 9,
    "start_time": "2024-02-05T12:10:22.743Z"
   },
   {
    "duration": 13,
    "start_time": "2024-02-05T12:10:22.753Z"
   },
   {
    "duration": 11,
    "start_time": "2024-02-05T12:10:22.768Z"
   },
   {
    "duration": 40,
    "start_time": "2024-02-05T12:10:22.780Z"
   },
   {
    "duration": 13,
    "start_time": "2024-02-05T12:10:22.822Z"
   },
   {
    "duration": 4,
    "start_time": "2024-02-05T12:10:22.837Z"
   },
   {
    "duration": 14,
    "start_time": "2024-02-05T12:10:22.842Z"
   },
   {
    "duration": 3,
    "start_time": "2024-02-05T12:10:22.858Z"
   },
   {
    "duration": 19,
    "start_time": "2024-02-05T12:10:22.862Z"
   },
   {
    "duration": 9,
    "start_time": "2024-02-05T12:10:22.882Z"
   },
   {
    "duration": 5,
    "start_time": "2024-02-05T12:10:22.892Z"
   },
   {
    "duration": 26,
    "start_time": "2024-02-05T12:10:22.900Z"
   },
   {
    "duration": 9,
    "start_time": "2024-02-05T12:10:22.928Z"
   },
   {
    "duration": 13,
    "start_time": "2024-02-05T12:10:22.939Z"
   },
   {
    "duration": 259,
    "start_time": "2024-02-05T12:10:22.954Z"
   },
   {
    "duration": 201,
    "start_time": "2024-02-05T12:10:23.217Z"
   },
   {
    "duration": 5,
    "start_time": "2024-02-05T12:10:23.420Z"
   },
   {
    "duration": 21,
    "start_time": "2024-02-05T12:10:23.426Z"
   },
   {
    "duration": 12,
    "start_time": "2024-02-05T12:10:23.448Z"
   },
   {
    "duration": 387,
    "start_time": "2024-02-05T12:10:23.461Z"
   },
   {
    "duration": 214,
    "start_time": "2024-02-05T12:10:23.849Z"
   },
   {
    "duration": 329,
    "start_time": "2024-02-05T12:10:24.065Z"
   },
   {
    "duration": 5,
    "start_time": "2024-02-05T12:10:24.395Z"
   },
   {
    "duration": 19,
    "start_time": "2024-02-05T12:10:24.402Z"
   },
   {
    "duration": 152,
    "start_time": "2024-02-05T12:10:24.423Z"
   },
   {
    "duration": 5,
    "start_time": "2024-02-05T12:10:24.577Z"
   },
   {
    "duration": 6,
    "start_time": "2024-02-05T12:10:24.584Z"
   },
   {
    "duration": 195,
    "start_time": "2024-02-05T12:10:24.591Z"
   },
   {
    "duration": 5,
    "start_time": "2024-02-05T12:10:24.788Z"
   },
   {
    "duration": 552,
    "start_time": "2024-02-05T12:10:24.795Z"
   },
   {
    "duration": 5,
    "start_time": "2024-02-05T12:10:25.349Z"
   },
   {
    "duration": 11,
    "start_time": "2024-02-05T12:10:25.356Z"
   },
   {
    "duration": 11,
    "start_time": "2024-02-05T12:10:25.369Z"
   },
   {
    "duration": 36,
    "start_time": "2024-02-05T12:10:25.382Z"
   },
   {
    "duration": 7,
    "start_time": "2024-02-05T12:10:25.420Z"
   },
   {
    "duration": 9,
    "start_time": "2024-02-05T12:10:25.428Z"
   },
   {
    "duration": 2,
    "start_time": "2024-02-05T12:10:25.438Z"
   },
   {
    "duration": 11,
    "start_time": "2024-02-05T12:10:25.441Z"
   },
   {
    "duration": 10,
    "start_time": "2024-02-05T12:10:25.453Z"
   },
   {
    "duration": 18,
    "start_time": "2024-02-05T12:10:25.465Z"
   },
   {
    "duration": 11,
    "start_time": "2024-02-05T12:10:25.484Z"
   },
   {
    "duration": 17,
    "start_time": "2024-02-05T12:10:25.497Z"
   },
   {
    "duration": 11,
    "start_time": "2024-02-05T12:10:25.517Z"
   },
   {
    "duration": 5,
    "start_time": "2024-02-05T12:10:25.530Z"
   },
   {
    "duration": 11,
    "start_time": "2024-02-05T12:10:25.537Z"
   },
   {
    "duration": 10,
    "start_time": "2024-02-05T12:10:25.549Z"
   },
   {
    "duration": 11,
    "start_time": "2024-02-05T12:10:25.560Z"
   },
   {
    "duration": 4,
    "start_time": "2024-02-05T12:10:25.572Z"
   },
   {
    "duration": 39,
    "start_time": "2024-02-05T12:10:25.578Z"
   },
   {
    "duration": 15,
    "start_time": "2024-02-05T12:10:25.619Z"
   },
   {
    "duration": 7,
    "start_time": "2024-02-05T12:10:25.636Z"
   },
   {
    "duration": 7,
    "start_time": "2024-02-05T12:10:25.644Z"
   },
   {
    "duration": 4,
    "start_time": "2024-02-05T12:10:25.653Z"
   },
   {
    "duration": 9,
    "start_time": "2024-02-05T12:10:25.659Z"
   },
   {
    "duration": 13,
    "start_time": "2024-02-05T12:10:25.670Z"
   },
   {
    "duration": 7,
    "start_time": "2024-02-05T12:18:58.789Z"
   },
   {
    "duration": 47,
    "start_time": "2024-02-06T09:50:26.686Z"
   },
   {
    "duration": 1196,
    "start_time": "2024-02-06T09:50:34.799Z"
   },
   {
    "duration": 232,
    "start_time": "2024-02-06T09:50:35.996Z"
   },
   {
    "duration": 31,
    "start_time": "2024-02-06T09:50:36.230Z"
   },
   {
    "duration": 40,
    "start_time": "2024-02-06T09:50:36.263Z"
   },
   {
    "duration": 102,
    "start_time": "2024-02-06T09:50:36.304Z"
   },
   {
    "duration": 28,
    "start_time": "2024-02-06T09:50:36.407Z"
   },
   {
    "duration": 33,
    "start_time": "2024-02-06T09:50:36.437Z"
   },
   {
    "duration": 28,
    "start_time": "2024-02-06T09:50:36.472Z"
   },
   {
    "duration": 94,
    "start_time": "2024-02-06T09:50:36.501Z"
   },
   {
    "duration": 5,
    "start_time": "2024-02-06T09:50:36.597Z"
   },
   {
    "duration": 14,
    "start_time": "2024-02-06T09:50:36.603Z"
   },
   {
    "duration": 10,
    "start_time": "2024-02-06T09:50:36.618Z"
   },
   {
    "duration": 14,
    "start_time": "2024-02-06T09:50:36.629Z"
   },
   {
    "duration": 93,
    "start_time": "2024-02-06T09:50:36.644Z"
   },
   {
    "duration": 11,
    "start_time": "2024-02-06T09:50:36.738Z"
   },
   {
    "duration": 6,
    "start_time": "2024-02-06T09:50:36.751Z"
   },
   {
    "duration": 6,
    "start_time": "2024-02-06T09:50:36.758Z"
   },
   {
    "duration": 12,
    "start_time": "2024-02-06T09:50:36.765Z"
   },
   {
    "duration": 22,
    "start_time": "2024-02-06T09:50:36.778Z"
   },
   {
    "duration": 12,
    "start_time": "2024-02-06T09:50:36.801Z"
   },
   {
    "duration": 12,
    "start_time": "2024-02-06T09:50:36.814Z"
   },
   {
    "duration": 10,
    "start_time": "2024-02-06T09:50:36.828Z"
   },
   {
    "duration": 14,
    "start_time": "2024-02-06T09:50:36.840Z"
   },
   {
    "duration": 35,
    "start_time": "2024-02-06T09:50:36.855Z"
   },
   {
    "duration": 35,
    "start_time": "2024-02-06T09:50:36.891Z"
   },
   {
    "duration": 21,
    "start_time": "2024-02-06T09:50:36.927Z"
   },
   {
    "duration": 6,
    "start_time": "2024-02-06T09:50:36.949Z"
   },
   {
    "duration": 22,
    "start_time": "2024-02-06T09:50:36.959Z"
   },
   {
    "duration": 13,
    "start_time": "2024-02-06T09:50:36.983Z"
   },
   {
    "duration": 21,
    "start_time": "2024-02-06T09:50:36.998Z"
   },
   {
    "duration": 302,
    "start_time": "2024-02-06T09:50:37.021Z"
   },
   {
    "duration": 206,
    "start_time": "2024-02-06T09:50:37.324Z"
   },
   {
    "duration": 5,
    "start_time": "2024-02-06T09:50:37.531Z"
   },
   {
    "duration": 52,
    "start_time": "2024-02-06T09:50:37.537Z"
   },
   {
    "duration": 13,
    "start_time": "2024-02-06T09:50:37.590Z"
   },
   {
    "duration": 356,
    "start_time": "2024-02-06T09:50:37.605Z"
   },
   {
    "duration": 199,
    "start_time": "2024-02-06T09:50:37.963Z"
   },
   {
    "duration": 302,
    "start_time": "2024-02-06T09:50:38.163Z"
   },
   {
    "duration": 5,
    "start_time": "2024-02-06T09:50:38.467Z"
   },
   {
    "duration": 19,
    "start_time": "2024-02-06T09:50:38.473Z"
   },
   {
    "duration": 152,
    "start_time": "2024-02-06T09:50:38.494Z"
   },
   {
    "duration": 5,
    "start_time": "2024-02-06T09:50:38.648Z"
   },
   {
    "duration": 7,
    "start_time": "2024-02-06T09:50:38.655Z"
   },
   {
    "duration": 138,
    "start_time": "2024-02-06T09:50:38.663Z"
   },
   {
    "duration": 5,
    "start_time": "2024-02-06T09:50:38.803Z"
   },
   {
    "duration": 662,
    "start_time": "2024-02-06T09:50:38.809Z"
   },
   {
    "duration": 6,
    "start_time": "2024-02-06T09:50:39.473Z"
   },
   {
    "duration": 19,
    "start_time": "2024-02-06T09:50:39.480Z"
   },
   {
    "duration": 17,
    "start_time": "2024-02-06T09:50:39.500Z"
   },
   {
    "duration": 16,
    "start_time": "2024-02-06T09:50:39.518Z"
   },
   {
    "duration": 12,
    "start_time": "2024-02-06T09:50:39.535Z"
   },
   {
    "duration": 12,
    "start_time": "2024-02-06T09:50:39.549Z"
   },
   {
    "duration": 2,
    "start_time": "2024-02-06T09:50:39.563Z"
   },
   {
    "duration": 7,
    "start_time": "2024-02-06T09:50:39.567Z"
   },
   {
    "duration": 7,
    "start_time": "2024-02-06T09:50:39.575Z"
   },
   {
    "duration": 11,
    "start_time": "2024-02-06T09:50:39.583Z"
   },
   {
    "duration": 26,
    "start_time": "2024-02-06T09:50:39.596Z"
   },
   {
    "duration": 13,
    "start_time": "2024-02-06T09:50:39.623Z"
   },
   {
    "duration": 9,
    "start_time": "2024-02-06T09:50:39.638Z"
   },
   {
    "duration": 5,
    "start_time": "2024-02-06T09:50:39.648Z"
   },
   {
    "duration": 14,
    "start_time": "2024-02-06T09:50:39.654Z"
   },
   {
    "duration": 9,
    "start_time": "2024-02-06T09:50:39.669Z"
   },
   {
    "duration": 12,
    "start_time": "2024-02-06T09:50:39.680Z"
   },
   {
    "duration": 4,
    "start_time": "2024-02-06T09:50:39.693Z"
   },
   {
    "duration": 35,
    "start_time": "2024-02-06T09:50:39.698Z"
   },
   {
    "duration": 15,
    "start_time": "2024-02-06T09:50:39.734Z"
   },
   {
    "duration": 11,
    "start_time": "2024-02-06T09:50:39.750Z"
   },
   {
    "duration": 15,
    "start_time": "2024-02-06T09:50:39.762Z"
   },
   {
    "duration": 11,
    "start_time": "2024-02-06T09:50:39.778Z"
   },
   {
    "duration": 30,
    "start_time": "2024-02-06T09:50:39.790Z"
   },
   {
    "duration": 13,
    "start_time": "2024-02-06T09:50:39.821Z"
   },
   {
    "duration": 209,
    "start_time": "2024-02-06T09:51:05.295Z"
   },
   {
    "duration": 195,
    "start_time": "2024-02-06T09:51:13.273Z"
   },
   {
    "duration": 193,
    "start_time": "2024-02-06T09:51:20.248Z"
   },
   {
    "duration": 195,
    "start_time": "2024-02-06T09:51:29.588Z"
   },
   {
    "duration": 86,
    "start_time": "2024-02-06T09:54:26.451Z"
   },
   {
    "duration": 323,
    "start_time": "2024-02-06T09:54:54.015Z"
   },
   {
    "duration": 209,
    "start_time": "2024-02-06T09:55:03.850Z"
   },
   {
    "duration": 288,
    "start_time": "2024-02-06T09:57:28.584Z"
   },
   {
    "duration": 73,
    "start_time": "2024-02-06T09:58:31.179Z"
   },
   {
    "duration": 339,
    "start_time": "2024-02-06T09:59:41.490Z"
   },
   {
    "duration": 321,
    "start_time": "2024-02-06T10:00:33.241Z"
   },
   {
    "duration": 331,
    "start_time": "2024-02-06T10:00:49.296Z"
   },
   {
    "duration": 142,
    "start_time": "2024-02-06T10:01:23.438Z"
   },
   {
    "duration": 115,
    "start_time": "2024-02-06T10:01:34.761Z"
   },
   {
    "duration": 136,
    "start_time": "2024-02-06T10:02:25.348Z"
   },
   {
    "duration": 160,
    "start_time": "2024-02-06T10:02:42.412Z"
   },
   {
    "duration": 148,
    "start_time": "2024-02-06T10:03:09.905Z"
   },
   {
    "duration": 90,
    "start_time": "2024-02-06T10:05:33.611Z"
   },
   {
    "duration": 4,
    "start_time": "2024-02-06T10:05:38.943Z"
   },
   {
    "duration": 662,
    "start_time": "2024-02-06T10:07:25.893Z"
   },
   {
    "duration": 605,
    "start_time": "2024-02-06T10:07:39.886Z"
   },
   {
    "duration": 697,
    "start_time": "2024-02-06T10:07:52.967Z"
   },
   {
    "duration": 668,
    "start_time": "2024-02-06T10:07:56.769Z"
   },
   {
    "duration": 844,
    "start_time": "2024-02-06T10:08:11.521Z"
   },
   {
    "duration": 8,
    "start_time": "2024-02-06T10:08:23.505Z"
   },
   {
    "duration": 9,
    "start_time": "2024-02-06T10:08:29.009Z"
   },
   {
    "duration": 8,
    "start_time": "2024-02-06T10:08:34.802Z"
   },
   {
    "duration": 8,
    "start_time": "2024-02-06T10:08:59.685Z"
   },
   {
    "duration": 10,
    "start_time": "2024-02-06T10:09:08.916Z"
   },
   {
    "duration": 10,
    "start_time": "2024-02-06T10:09:29.709Z"
   },
   {
    "duration": 8,
    "start_time": "2024-02-06T10:09:35.832Z"
   },
   {
    "duration": 11,
    "start_time": "2024-02-06T10:09:43.403Z"
   },
   {
    "duration": 8,
    "start_time": "2024-02-06T10:09:51.114Z"
   },
   {
    "duration": 9,
    "start_time": "2024-02-06T10:10:01.964Z"
   },
   {
    "duration": 8,
    "start_time": "2024-02-06T10:10:08.555Z"
   },
   {
    "duration": 11,
    "start_time": "2024-02-06T10:10:24.253Z"
   },
   {
    "duration": 7,
    "start_time": "2024-02-06T10:10:28.490Z"
   },
   {
    "duration": 699,
    "start_time": "2024-02-06T10:11:41.935Z"
   },
   {
    "duration": 72,
    "start_time": "2024-02-06T10:16:22.618Z"
   },
   {
    "duration": 10,
    "start_time": "2024-02-06T10:24:42.092Z"
   },
   {
    "duration": 72,
    "start_time": "2024-02-06T10:24:56.370Z"
   },
   {
    "duration": 128,
    "start_time": "2024-02-06T10:25:05.904Z"
   },
   {
    "duration": 11,
    "start_time": "2024-02-06T10:26:40.492Z"
   },
   {
    "duration": 296,
    "start_time": "2024-02-06T10:30:29.167Z"
   },
   {
    "duration": 5,
    "start_time": "2024-02-06T10:31:10.770Z"
   },
   {
    "duration": 77,
    "start_time": "2024-02-06T10:31:34.871Z"
   },
   {
    "duration": 85,
    "start_time": "2024-02-06T10:32:07.310Z"
   },
   {
    "duration": 9,
    "start_time": "2024-02-06T10:32:42.753Z"
   },
   {
    "duration": 8,
    "start_time": "2024-02-06T10:32:45.697Z"
   },
   {
    "duration": 5,
    "start_time": "2024-02-06T10:32:54.780Z"
   },
   {
    "duration": 4,
    "start_time": "2024-02-06T10:33:05.219Z"
   },
   {
    "duration": 92,
    "start_time": "2024-02-06T10:34:34.446Z"
   },
   {
    "duration": 3,
    "start_time": "2024-02-06T10:34:44.203Z"
   },
   {
    "duration": 8,
    "start_time": "2024-02-06T10:35:00.341Z"
   },
   {
    "duration": 3,
    "start_time": "2024-02-06T10:35:07.707Z"
   },
   {
    "duration": 5,
    "start_time": "2024-02-06T10:35:08.645Z"
   },
   {
    "duration": 8,
    "start_time": "2024-02-06T10:36:05.663Z"
   },
   {
    "duration": 7,
    "start_time": "2024-02-06T10:36:09.141Z"
   },
   {
    "duration": 110,
    "start_time": "2024-02-06T10:37:20.011Z"
   },
   {
    "duration": 83,
    "start_time": "2024-02-06T10:37:24.106Z"
   },
   {
    "duration": 8,
    "start_time": "2024-02-06T10:37:35.476Z"
   },
   {
    "duration": 3,
    "start_time": "2024-02-06T10:37:46.336Z"
   },
   {
    "duration": 4,
    "start_time": "2024-02-06T10:37:47.122Z"
   },
   {
    "duration": 3,
    "start_time": "2024-02-06T10:39:08.547Z"
   },
   {
    "duration": 5,
    "start_time": "2024-02-06T10:39:24.471Z"
   },
   {
    "duration": 8,
    "start_time": "2024-02-06T10:39:26.739Z"
   },
   {
    "duration": 6,
    "start_time": "2024-02-06T10:40:48.397Z"
   },
   {
    "duration": 12,
    "start_time": "2024-02-06T10:40:54.536Z"
   },
   {
    "duration": 89,
    "start_time": "2024-02-06T10:42:07.336Z"
   },
   {
    "duration": 9,
    "start_time": "2024-02-06T10:42:25.471Z"
   },
   {
    "duration": 6,
    "start_time": "2024-02-06T10:42:26.120Z"
   },
   {
    "duration": 12,
    "start_time": "2024-02-06T10:42:26.797Z"
   },
   {
    "duration": 11,
    "start_time": "2024-02-06T10:42:30.943Z"
   },
   {
    "duration": 11,
    "start_time": "2024-02-06T10:42:31.574Z"
   },
   {
    "duration": 3,
    "start_time": "2024-02-06T10:42:32.277Z"
   },
   {
    "duration": 14,
    "start_time": "2024-02-06T10:42:32.948Z"
   },
   {
    "duration": 13,
    "start_time": "2024-02-06T10:42:36.030Z"
   },
   {
    "duration": 8,
    "start_time": "2024-02-06T10:42:36.594Z"
   },
   {
    "duration": 6,
    "start_time": "2024-02-06T10:42:42.937Z"
   },
   {
    "duration": 5,
    "start_time": "2024-02-06T10:43:34.420Z"
   },
   {
    "duration": 1102,
    "start_time": "2024-02-06T10:45:00.182Z"
   },
   {
    "duration": 129,
    "start_time": "2024-02-06T10:45:01.285Z"
   },
   {
    "duration": 42,
    "start_time": "2024-02-06T10:45:01.416Z"
   },
   {
    "duration": 87,
    "start_time": "2024-02-06T10:45:01.460Z"
   },
   {
    "duration": 81,
    "start_time": "2024-02-06T10:45:01.548Z"
   },
   {
    "duration": 40,
    "start_time": "2024-02-06T10:45:01.630Z"
   },
   {
    "duration": 129,
    "start_time": "2024-02-06T10:45:01.671Z"
   },
   {
    "duration": 67,
    "start_time": "2024-02-06T10:45:01.801Z"
   },
   {
    "duration": 249,
    "start_time": "2024-02-06T10:45:01.869Z"
   },
   {
    "duration": 302,
    "start_time": "2024-02-06T10:45:02.121Z"
   },
   {
    "duration": 221,
    "start_time": "2024-02-06T10:45:02.425Z"
   },
   {
    "duration": 726,
    "start_time": "2024-02-06T10:45:02.648Z"
   },
   {
    "duration": 259,
    "start_time": "2024-02-06T10:45:03.375Z"
   },
   {
    "duration": 118,
    "start_time": "2024-02-06T10:45:03.636Z"
   },
   {
    "duration": 9,
    "start_time": "2024-02-06T10:45:03.756Z"
   },
   {
    "duration": 11,
    "start_time": "2024-02-06T10:45:03.766Z"
   },
   {
    "duration": 11,
    "start_time": "2024-02-06T10:45:03.778Z"
   },
   {
    "duration": 19,
    "start_time": "2024-02-06T10:45:03.790Z"
   },
   {
    "duration": 16,
    "start_time": "2024-02-06T10:45:03.811Z"
   },
   {
    "duration": 12,
    "start_time": "2024-02-06T10:45:03.829Z"
   },
   {
    "duration": 23,
    "start_time": "2024-02-06T10:45:03.843Z"
   },
   {
    "duration": 35,
    "start_time": "2024-02-06T10:45:03.868Z"
   },
   {
    "duration": 43,
    "start_time": "2024-02-06T10:45:03.904Z"
   },
   {
    "duration": 8,
    "start_time": "2024-02-06T10:45:03.949Z"
   },
   {
    "duration": 34,
    "start_time": "2024-02-06T10:45:03.959Z"
   },
   {
    "duration": 25,
    "start_time": "2024-02-06T10:45:03.995Z"
   },
   {
    "duration": 18,
    "start_time": "2024-02-06T10:45:04.021Z"
   },
   {
    "duration": 13,
    "start_time": "2024-02-06T10:45:04.044Z"
   },
   {
    "duration": 28,
    "start_time": "2024-02-06T10:45:04.058Z"
   },
   {
    "duration": 15,
    "start_time": "2024-02-06T10:45:04.087Z"
   },
   {
    "duration": 267,
    "start_time": "2024-02-06T10:45:04.103Z"
   },
   {
    "duration": 208,
    "start_time": "2024-02-06T10:45:04.371Z"
   },
   {
    "duration": 5,
    "start_time": "2024-02-06T10:45:04.580Z"
   },
   {
    "duration": 95,
    "start_time": "2024-02-06T10:45:04.586Z"
   },
   {
    "duration": 32,
    "start_time": "2024-02-06T10:45:04.682Z"
   },
   {
    "duration": 351,
    "start_time": "2024-02-06T10:45:04.716Z"
   },
   {
    "duration": 212,
    "start_time": "2024-02-06T10:45:05.069Z"
   },
   {
    "duration": 355,
    "start_time": "2024-02-06T10:45:05.282Z"
   },
   {
    "duration": 9,
    "start_time": "2024-02-06T10:45:05.639Z"
   },
   {
    "duration": 28,
    "start_time": "2024-02-06T10:45:05.649Z"
   },
   {
    "duration": 166,
    "start_time": "2024-02-06T10:45:05.679Z"
   },
   {
    "duration": 5,
    "start_time": "2024-02-06T10:45:05.846Z"
   },
   {
    "duration": 23,
    "start_time": "2024-02-06T10:45:05.852Z"
   },
   {
    "duration": 137,
    "start_time": "2024-02-06T10:45:05.876Z"
   },
   {
    "duration": 225,
    "start_time": "2024-02-06T10:45:06.014Z"
   },
   {
    "duration": 6,
    "start_time": "2024-02-06T10:45:06.241Z"
   },
   {
    "duration": 560,
    "start_time": "2024-02-06T10:45:06.248Z"
   },
   {
    "duration": 8,
    "start_time": "2024-02-06T10:45:06.809Z"
   },
   {
    "duration": 51,
    "start_time": "2024-02-06T10:45:06.818Z"
   },
   {
    "duration": 33,
    "start_time": "2024-02-06T10:45:06.871Z"
   },
   {
    "duration": 24,
    "start_time": "2024-02-06T10:45:06.905Z"
   },
   {
    "duration": 17,
    "start_time": "2024-02-06T10:45:06.930Z"
   },
   {
    "duration": 17,
    "start_time": "2024-02-06T10:45:06.948Z"
   },
   {
    "duration": 3,
    "start_time": "2024-02-06T10:45:06.966Z"
   },
   {
    "duration": 21,
    "start_time": "2024-02-06T10:45:06.970Z"
   },
   {
    "duration": 22,
    "start_time": "2024-02-06T10:45:06.992Z"
   },
   {
    "duration": 17,
    "start_time": "2024-02-06T10:45:07.015Z"
   },
   {
    "duration": 20,
    "start_time": "2024-02-06T10:45:07.033Z"
   },
   {
    "duration": 29,
    "start_time": "2024-02-06T10:45:07.054Z"
   },
   {
    "duration": 48,
    "start_time": "2024-02-06T10:45:07.084Z"
   },
   {
    "duration": 17,
    "start_time": "2024-02-06T10:45:07.133Z"
   },
   {
    "duration": 11,
    "start_time": "2024-02-06T10:45:07.152Z"
   },
   {
    "duration": 43,
    "start_time": "2024-02-06T10:45:07.164Z"
   },
   {
    "duration": 24,
    "start_time": "2024-02-06T10:45:07.209Z"
   },
   {
    "duration": 14,
    "start_time": "2024-02-06T10:45:07.234Z"
   },
   {
    "duration": 18,
    "start_time": "2024-02-06T10:45:07.249Z"
   },
   {
    "duration": 45,
    "start_time": "2024-02-06T10:45:07.269Z"
   },
   {
    "duration": 78,
    "start_time": "2024-02-06T10:45:07.315Z"
   },
   {
    "duration": 19,
    "start_time": "2024-02-06T10:45:07.394Z"
   },
   {
    "duration": 28,
    "start_time": "2024-02-06T10:45:07.414Z"
   },
   {
    "duration": 12,
    "start_time": "2024-02-06T10:45:07.443Z"
   },
   {
    "duration": 21,
    "start_time": "2024-02-06T10:45:07.457Z"
   },
   {
    "duration": 20,
    "start_time": "2024-02-06T10:45:07.480Z"
   },
   {
    "duration": 1377,
    "start_time": "2024-02-06T10:57:08.116Z"
   },
   {
    "duration": 239,
    "start_time": "2024-02-06T10:57:09.495Z"
   },
   {
    "duration": 38,
    "start_time": "2024-02-06T10:57:09.735Z"
   },
   {
    "duration": 11,
    "start_time": "2024-02-06T10:57:09.775Z"
   },
   {
    "duration": 3,
    "start_time": "2024-02-06T10:57:09.788Z"
   },
   {
    "duration": 7,
    "start_time": "2024-02-06T10:57:09.793Z"
   },
   {
    "duration": 8,
    "start_time": "2024-02-06T10:57:09.802Z"
   },
   {
    "duration": 6,
    "start_time": "2024-02-06T10:57:09.811Z"
   },
   {
    "duration": 88,
    "start_time": "2024-02-06T10:57:09.819Z"
   },
   {
    "duration": 5,
    "start_time": "2024-02-06T10:57:09.909Z"
   },
   {
    "duration": 7,
    "start_time": "2024-02-06T10:57:09.915Z"
   },
   {
    "duration": 7,
    "start_time": "2024-02-06T10:57:09.923Z"
   },
   {
    "duration": 26,
    "start_time": "2024-02-06T10:57:09.932Z"
   },
   {
    "duration": 115,
    "start_time": "2024-02-06T10:57:09.960Z"
   },
   {
    "duration": 9,
    "start_time": "2024-02-06T10:57:10.076Z"
   },
   {
    "duration": 11,
    "start_time": "2024-02-06T10:57:10.086Z"
   },
   {
    "duration": 16,
    "start_time": "2024-02-06T10:57:10.098Z"
   },
   {
    "duration": 29,
    "start_time": "2024-02-06T10:57:10.115Z"
   },
   {
    "duration": 20,
    "start_time": "2024-02-06T10:57:10.145Z"
   },
   {
    "duration": 21,
    "start_time": "2024-02-06T10:57:10.167Z"
   },
   {
    "duration": 20,
    "start_time": "2024-02-06T10:57:10.190Z"
   },
   {
    "duration": 10,
    "start_time": "2024-02-06T10:57:10.211Z"
   },
   {
    "duration": 28,
    "start_time": "2024-02-06T10:57:10.222Z"
   },
   {
    "duration": 4,
    "start_time": "2024-02-06T10:57:10.252Z"
   },
   {
    "duration": 30,
    "start_time": "2024-02-06T10:57:10.258Z"
   },
   {
    "duration": 18,
    "start_time": "2024-02-06T10:57:10.290Z"
   },
   {
    "duration": 6,
    "start_time": "2024-02-06T10:57:10.310Z"
   },
   {
    "duration": 20,
    "start_time": "2024-02-06T10:57:10.320Z"
   },
   {
    "duration": 26,
    "start_time": "2024-02-06T10:57:10.341Z"
   },
   {
    "duration": 17,
    "start_time": "2024-02-06T10:57:10.368Z"
   },
   {
    "duration": 338,
    "start_time": "2024-02-06T10:57:10.387Z"
   },
   {
    "duration": 238,
    "start_time": "2024-02-06T10:57:10.727Z"
   },
   {
    "duration": 6,
    "start_time": "2024-02-06T10:57:10.967Z"
   },
   {
    "duration": 33,
    "start_time": "2024-02-06T10:57:10.974Z"
   },
   {
    "duration": 23,
    "start_time": "2024-02-06T10:57:11.009Z"
   },
   {
    "duration": 383,
    "start_time": "2024-02-06T10:57:11.033Z"
   },
   {
    "duration": 245,
    "start_time": "2024-02-06T10:57:11.417Z"
   },
   {
    "duration": 336,
    "start_time": "2024-02-06T10:57:11.664Z"
   },
   {
    "duration": 5,
    "start_time": "2024-02-06T10:57:12.002Z"
   },
   {
    "duration": 7,
    "start_time": "2024-02-06T10:57:12.009Z"
   },
   {
    "duration": 198,
    "start_time": "2024-02-06T10:57:12.017Z"
   },
   {
    "duration": 6,
    "start_time": "2024-02-06T10:57:12.217Z"
   },
   {
    "duration": 6,
    "start_time": "2024-02-06T10:57:12.225Z"
   },
   {
    "duration": 148,
    "start_time": "2024-02-06T10:57:12.258Z"
   },
   {
    "duration": 250,
    "start_time": "2024-02-06T10:57:12.408Z"
   },
   {
    "duration": 5,
    "start_time": "2024-02-06T10:57:12.660Z"
   },
   {
    "duration": 649,
    "start_time": "2024-02-06T10:57:12.667Z"
   },
   {
    "duration": 10,
    "start_time": "2024-02-06T10:57:13.318Z"
   },
   {
    "duration": 8,
    "start_time": "2024-02-06T10:57:13.329Z"
   },
   {
    "duration": 21,
    "start_time": "2024-02-06T10:57:13.338Z"
   },
   {
    "duration": 6,
    "start_time": "2024-02-06T10:57:13.361Z"
   },
   {
    "duration": 5,
    "start_time": "2024-02-06T10:57:13.369Z"
   },
   {
    "duration": 9,
    "start_time": "2024-02-06T10:57:13.376Z"
   },
   {
    "duration": 3,
    "start_time": "2024-02-06T10:57:13.387Z"
   },
   {
    "duration": 5,
    "start_time": "2024-02-06T10:57:13.391Z"
   },
   {
    "duration": 6,
    "start_time": "2024-02-06T10:57:13.397Z"
   },
   {
    "duration": 5,
    "start_time": "2024-02-06T10:57:13.405Z"
   },
   {
    "duration": 53,
    "start_time": "2024-02-06T10:57:13.411Z"
   },
   {
    "duration": 6,
    "start_time": "2024-02-06T10:57:13.466Z"
   },
   {
    "duration": 12,
    "start_time": "2024-02-06T10:57:13.474Z"
   },
   {
    "duration": 28,
    "start_time": "2024-02-06T10:57:13.488Z"
   },
   {
    "duration": 6,
    "start_time": "2024-02-06T10:57:13.518Z"
   },
   {
    "duration": 19,
    "start_time": "2024-02-06T10:57:13.526Z"
   },
   {
    "duration": 12,
    "start_time": "2024-02-06T10:57:13.560Z"
   },
   {
    "duration": 17,
    "start_time": "2024-02-06T10:57:13.573Z"
   },
   {
    "duration": 19,
    "start_time": "2024-02-06T10:57:13.592Z"
   },
   {
    "duration": 28,
    "start_time": "2024-02-06T10:57:13.613Z"
   },
   {
    "duration": 19,
    "start_time": "2024-02-06T10:57:13.643Z"
   },
   {
    "duration": 18,
    "start_time": "2024-02-06T10:57:13.663Z"
   },
   {
    "duration": 10,
    "start_time": "2024-02-06T10:57:13.683Z"
   },
   {
    "duration": 13,
    "start_time": "2024-02-06T10:57:13.695Z"
   },
   {
    "duration": 10,
    "start_time": "2024-02-06T10:57:13.710Z"
   },
   {
    "duration": 6,
    "start_time": "2024-02-06T10:57:13.722Z"
   },
   {
    "duration": 206,
    "start_time": "2024-02-06T11:25:11.750Z"
   },
   {
    "duration": 306,
    "start_time": "2024-02-06T11:27:08.368Z"
   },
   {
    "duration": 92,
    "start_time": "2024-02-06T11:34:19.333Z"
   },
   {
    "duration": 5,
    "start_time": "2024-02-06T11:39:40.057Z"
   },
   {
    "duration": 6,
    "start_time": "2024-02-06T11:39:50.749Z"
   },
   {
    "duration": 7,
    "start_time": "2024-02-06T11:40:57.254Z"
   }
  ],
  "kernelspec": {
   "display_name": "Python 3 (ipykernel)",
   "language": "python",
   "name": "python3"
  },
  "language_info": {
   "codemirror_mode": {
    "name": "ipython",
    "version": 3
   },
   "file_extension": ".py",
   "mimetype": "text/x-python",
   "name": "python",
   "nbconvert_exporter": "python",
   "pygments_lexer": "ipython3",
   "version": "3.10.9"
  },
  "toc": {
   "base_numbering": 1,
   "nav_menu": {},
   "number_sections": true,
   "sideBar": true,
   "skip_h1_title": false,
   "title_cell": "Содержание",
   "title_sidebar": "Contents",
   "toc_cell": true,
   "toc_position": {
    "height": "calc(100% - 180px)",
    "left": "10px",
    "top": "150px",
    "width": "176.523px"
   },
   "toc_section_display": true,
   "toc_window_display": true
  }
 },
 "nbformat": 4,
 "nbformat_minor": 5
}
