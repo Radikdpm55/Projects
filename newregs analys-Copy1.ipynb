{
 "cells": [
  {
   "cell_type": "markdown",
   "id": "5e03acf5",
   "metadata": {},
   "source": [
    "<font size=\"3\"> Исследование качества новорегов </font>\n",
    "<br> <a href=\"https://docs.google.com/presentation/d/1ksvrUz_iFsBmR4tFG5KM0akhfdhS8V6m/edit?usp=sharing&ouid=111018903346012859484&rtpof=true&sd=true\">Презентация</a> "
   ]
  },
  {
   "cell_type": "markdown",
   "id": "f74cd267",
   "metadata": {},
   "source": [
    "**Заказчик** : Support Team\n",
    "\n",
    "\n",
    "**Описание:** \n",
    "\n",
    "Есть потребность в исследовании качества новорегов и лидов.\n",
    "\n",
    "\n",
    "Нам нужно взять список новых лидов и новорегов за период с 01.10.24 по 27.01.25 и сопоставить его с диалогами.\n",
    "Ищем первые 3 отправленных пользователем сообщения, чтобы понять, с каким вопросом он пришел к нам на платформу.\n",
    "Берем только те диалоги, где сам пользователь инициировал беседу.\n",
    "\n",
    "В этом сопоставлении нужно указать:\n",
    "- С какого канала связи пришел к нам человек (чат-виджет на сайте, имейл, ответ на имейл-рассылку или телеграм-бот).\n",
    "- Был ли ответ саппорта перед закрытием диалога\n",
    "- Если был ответ саппорта, был ли ответ клиента на ответ саппорта\n",
    "- Какое гео\n",
    "- Каков домен почты\n",
    "- Указаны ли прочие контактные данные (мессенджер, скайп)"
   ]
  },
  {
   "cell_type": "markdown",
   "id": "7abb02a4",
   "metadata": {},
   "source": [
    "#### Импорт данных"
   ]
  },
  {
   "cell_type": "code",
   "execution_count": 18,
   "id": "b54c3590",
   "metadata": {},
   "outputs": [],
   "source": [
    "import pandas as pd\n",
    "import matplotlib.pyplot as plt\n",
    "import pycountry\n",
    "import numpy as np\n",
    "from sklearn.cluster import KMeans\n",
    "import torch\n",
    "from transformers import pipeline\n",
    "from sklearn.feature_extraction.text import TfidfVectorizer\n",
    "import re\n",
    "import nltk\n",
    "from collections import Counter\n",
    "from nltk.corpus import stopwords\n",
    "import fasttext"
   ]
  },
  {
   "cell_type": "code",
   "execution_count": 3,
   "id": "0e99638f",
   "metadata": {},
   "outputs": [],
   "source": [
    "dialogs_df = pd.read_csv('D:\\\\Users\\\\aleksandr.radionov\\\\Desktop\\\\dialogs.csv', sep=';')"
   ]
  },
  {
   "cell_type": "code",
   "execution_count": 4,
   "id": "effcfd85",
   "metadata": {},
   "outputs": [],
   "source": [
    "users_df = pd.read_csv('D:\\\\Users\\\\aleksandr.radionov\\\\Desktop\\\\users.csv', sep=';')"
   ]
  },
  {
   "cell_type": "code",
   "execution_count": 5,
   "id": "2c9b505d",
   "metadata": {},
   "outputs": [],
   "source": [
    "dialogs_df_copy = dialogs_df.copy()"
   ]
  },
  {
   "cell_type": "code",
   "execution_count": 6,
   "id": "1658dd4f",
   "metadata": {},
   "outputs": [],
   "source": [
    "users_df_copy = users_df.copy()"
   ]
  },
  {
   "cell_type": "markdown",
   "id": "a02da47d",
   "metadata": {},
   "source": [
    "#### Обработка данных"
   ]
  },
  {
   "cell_type": "code",
   "execution_count": 7,
   "id": "13a004c2",
   "metadata": {},
   "outputs": [
    {
     "name": "stdout",
     "output_type": "stream",
     "text": [
      "<class 'pandas.core.frame.DataFrame'>\n",
      "RangeIndex: 306 entries, 0 to 305\n",
      "Data columns (total 15 columns):\n",
      " #   Column                     Non-Null Count  Dtype \n",
      "---  ------                     --------------  ----- \n",
      " 0   id                         306 non-null    int64 \n",
      " 1   created_at                 306 non-null    object\n",
      " 2   updated_at                 306 non-null    object\n",
      " 3   last_message_by            306 non-null    object\n",
      " 4   status                     306 non-null    object\n",
      " 5   segments                   284 non-null    object\n",
      " 6   geo                        236 non-null    object\n",
      " 7   username                   218 non-null    object\n",
      " 8   user_id                    306 non-null    int64 \n",
      " 9   email                      306 non-null    object\n",
      " 10  cnt_messages               306 non-null    int64 \n",
      " 11  cnt_user_messages          306 non-null    int64 \n",
      " 12  cnt_operator_messages      306 non-null    int64 \n",
      " 13  cnt_bot_messages           306 non-null    int64 \n",
      " 14  operator_followed_by_user  306 non-null    int64 \n",
      "dtypes: int64(7), object(8)\n",
      "memory usage: 36.0+ KB\n"
     ]
    }
   ],
   "source": [
    "dialogs_df.info()"
   ]
  },
  {
   "cell_type": "code",
   "execution_count": 9,
   "id": "ec53b088",
   "metadata": {},
   "outputs": [],
   "source": [
    "dialogs_df = dialogs_df.rename(columns={'username':'operator'})"
   ]
  },
  {
   "cell_type": "code",
   "execution_count": 8,
   "id": "45516df6",
   "metadata": {},
   "outputs": [],
   "source": [
    "dialogs_df = dialogs_df.merge(users_df, on='user_id')"
   ]
  },
  {
   "cell_type": "code",
   "execution_count": 10,
   "id": "1f6dbc75",
   "metadata": {},
   "outputs": [],
   "source": [
    "dialogs_df = dialogs_df.drop(axis=0, columns = 'email_y').rename(columns={'email_x':'email'})"
   ]
  },
  {
   "cell_type": "code",
   "execution_count": null,
   "id": "e9be5f7c",
   "metadata": {},
   "outputs": [],
   "source": [
    "dialogs_df['segments'] = dialogs_df['segments'].replace('email,marketing,maybe cooperation', 'email,marketing')"
   ]
  },
  {
   "cell_type": "markdown",
   "id": "91f0125c",
   "metadata": {},
   "source": [
    "##### Сравнение гео криспа и методологии определения гео на проекте"
   ]
  },
  {
   "cell_type": "code",
   "execution_count": 19,
   "id": "f7f52905",
   "metadata": {},
   "outputs": [],
   "source": [
    "# Функция замены с обработкой NaN и пустых строк\n",
    "def convert_iso2_to_iso3(iso2):\n",
    "    if not iso2 or pd.isna(iso2):  # Проверяем пустые строки и NaN\n",
    "        return None\n",
    "    try:\n",
    "        return pycountry.countries.get(alpha_2=iso2).alpha_3\n",
    "    except AttributeError:\n",
    "        return None  # Если код не найден"
   ]
  },
  {
   "cell_type": "code",
   "execution_count": 18,
   "id": "b018ed8f",
   "metadata": {},
   "outputs": [],
   "source": [
    "dialogs_df['geo_3'] = dialogs_df['geo'].apply(convert_iso2_to_iso3)"
   ]
  },
  {
   "cell_type": "code",
   "execution_count": 27,
   "id": "28942a6a",
   "metadata": {},
   "outputs": [
    {
     "name": "stdout",
     "output_type": "stream",
     "text": [
      "Процент совпадений гео криспа и наших гео : 57.8 %\n"
     ]
    }
   ],
   "source": [
    "print(f'Процент совпадений гео криспа и наших гео :', \n",
    "      round((dialogs_df['geo_3'] == dialogs_df['country']).astype(int).mean(), 3) * 100, '%')"
   ]
  },
  {
   "cell_type": "markdown",
   "id": "e66c1b75",
   "metadata": {},
   "source": [
    "#### Анализ данных"
   ]
  },
  {
   "cell_type": "markdown",
   "id": "29f3fbd2",
   "metadata": {},
   "source": [
    "##### Описательная статистика"
   ]
  },
  {
   "cell_type": "code",
   "execution_count": 70,
   "id": "5bf6229e",
   "metadata": {},
   "outputs": [
    {
     "name": "stdout",
     "output_type": "stream",
     "text": [
      "Количество юзеров 260\n",
      "\n",
      "Количество диалогов 306\n",
      "\n",
      "Количество диалогов и клиентов на оператора\n",
      "                operator   id  user_id\n",
      "0       haithem.bekakra   40       39\n",
      "1  hamza.rashid.chattha   26       25\n",
      "2           ilya.ryabov   29       29\n",
      "3          kamila.singh  114       96\n",
      "4      valeria.kovaleva    9        8\n",
      "\n",
      "Количество сообщений на диалог\n",
      "             median       mean\n",
      "status                       \n",
      "pending        1.0   1.062500\n",
      "resolved      11.0  13.705645\n",
      "unresolved    13.0  21.785714\n",
      "\n",
      "Количество диалогов по статусу\n",
      "        status  count\n",
      "0    resolved    248\n",
      "1  unresolved     42\n",
      "2     pending     16\n"
     ]
    }
   ],
   "source": [
    "print(f'Количество юзеров', dialogs_df['user_id'].nunique())\n",
    "print('')\n",
    "print(f'Количество диалогов', dialogs_df['id'].nunique())\n",
    "print('')\n",
    "print(f'Количество диалогов и клиентов на оператора\\n', \n",
    "      dialogs_df.groupby('operator')[['id', 'user_id']].nunique().reset_index())\n",
    "print('')\n",
    "print(f'Количество сообщений на диалог\\n', dialogs_df.groupby('status')['cnt_messages'].agg(['median', 'mean']))\n",
    "print('')\n",
    "print(f'Количество диалогов по статусу\\n', dialogs_df['status'].value_counts().reset_index())"
   ]
  },
  {
   "cell_type": "markdown",
   "id": "8f187dab",
   "metadata": {},
   "source": [
    "##### С какого канала связи пришел к нам человек"
   ]
  },
  {
   "cell_type": "code",
   "execution_count": 36,
   "id": "b28828b0",
   "metadata": {},
   "outputs": [
    {
     "data": {
      "image/png": "[encoded data removed]",
      "text/plain": [
       "<Figure size 640x480 with 1 Axes>"
      ]
     },
     "metadata": {},
     "output_type": "display_data"
    }
   ],
   "source": [
    "dialogs_df.drop_duplicates(subset='user_id').pivot_table(columns='segments',\n",
    "                        aggfunc='nunique', values='user_id').T.plot(kind='bar', legend=False)\n",
    "\n",
    "plt.xlabel('Источники')\n",
    "plt.ylabel('Количество юзеров')\n",
    "plt.title('Источник привлечения юзера в чат')\n",
    "plt.xticks(rotation=45)  # Поворот подписей для читаемости\n",
    "\n",
    "# Отображение графика\n",
    "plt.show()"
   ]
  },
  {
   "cell_type": "markdown",
   "id": "3565ccd0",
   "metadata": {},
   "source": [
    "##### Был ли ответ саппорта перед закрытием диалога"
   ]
  },
  {
   "cell_type": "code",
   "execution_count": 73,
   "id": "8cf86792",
   "metadata": {},
   "outputs": [],
   "source": [
    "dialogs_df['is_ftd'] = np.where(dialogs_df['sum ftd'] == 'without ftd', 0, 1)"
   ]
  },
  {
   "cell_type": "code",
   "execution_count": 532,
   "id": "8a252a55",
   "metadata": {},
   "outputs": [
    {
     "name": "stdout",
     "output_type": "stream",
     "text": [
      "Ответ оператора был в 60.78 % случаев\n",
      "\n",
      "Ответа оператора не было в 0.98 % случаев\n"
     ]
    }
   ],
   "source": [
    "print(f'Ответ оператора был в', round((dialogs_df[(dialogs_df['cnt_operator_messages'] != 0) &\n",
    "                 (dialogs_df['status'] == 'resolved')]['id'].count() / 306) * 100, 2), '% случаев')\n",
    "print('')\n",
    "print(f'Ответа оператора не было в', \n",
    "      round((not_bot_dialogs[(not_bot_dialogs['cnt_operator_messages'] == 0) &\n",
    "                 (not_bot_dialogs['status'] == 'resolved')]['id'].count() / 306) * 100, 2),\n",
    "      '% случаев')"
   ]
  },
  {
   "cell_type": "code",
   "execution_count": 510,
   "id": "61f40b86",
   "metadata": {},
   "outputs": [],
   "source": [
    "unique_dialogs_list = messages_df[messages_df['author_type'] == 'bot']['conversation_id'].unique()"
   ]
  },
  {
   "cell_type": "code",
   "execution_count": 522,
   "id": "0b1ff4d5",
   "metadata": {},
   "outputs": [],
   "source": [
    "not_bot_dialogs = dialogs_df.query('id not in @unique_dialogs_list')"
   ]
  },
  {
   "cell_type": "code",
   "execution_count": 98,
   "id": "e669e52a",
   "metadata": {},
   "outputs": [
    {
     "name": "stdout",
     "output_type": "stream",
     "text": [
      "Ответ бота был 211 раз\n",
      "\n",
      "Ответа бота не было 37 раз\n"
     ]
    }
   ],
   "source": [
    "print(f'Ответ бота был', dialogs_df[(dialogs_df['cnt_bot_messages'] != 0) &\n",
    "                 (dialogs_df['status'] == 'resolved')]['cnt_operator_messages'].count(), 'раз')\n",
    "print('')\n",
    "print(f'Ответа бота не было', \n",
    "      dialogs_df[(dialogs_df['cnt_bot_messages'] == 0) &\n",
    "                 (dialogs_df['status'] == 'resolved')]['cnt_operator_messages'].count(), 'раз')"
   ]
  },
  {
   "cell_type": "code",
   "execution_count": 100,
   "id": "b430fb91",
   "metadata": {},
   "outputs": [
    {
     "name": "stdout",
     "output_type": "stream",
     "text": [
      "Конверсия в FTD c ответом оператора (для закрытых диалогов) 27.42 %\n",
      "\n",
      "Конверсия в FTD без ответа оператора (для закрытых диалогов) 4.84 %\n"
     ]
    }
   ],
   "source": [
    "print(f'Конверсия в FTD c ответом оператора (для закрытых диалогов)', \n",
    "      round(dialogs_df[(dialogs_df['cnt_operator_messages'] != 0) &\n",
    "                 (dialogs_df['status'] == 'resolved')]['is_ftd'].mean()*100,2), '%')\n",
    "print('')\n",
    "print(f'Конверсия в FTD без ответа оператора (для закрытых диалогов)', \n",
    "      round(dialogs_df[(dialogs_df['cnt_operator_messages'] == 0) &\n",
    "                 (dialogs_df['status'] == 'resolved')]['is_ftd'].mean()*100,2), '%')"
   ]
  },
  {
   "cell_type": "code",
   "execution_count": 534,
   "id": "7e29362a",
   "metadata": {},
   "outputs": [
    {
     "name": "stdout",
     "output_type": "stream",
     "text": [
      "Конверсия в FTD c ответом оператора 27.42 %\n",
      "\n",
      "Конверсия в FTD без ответа оператора 0.0 %\n"
     ]
    }
   ],
   "source": [
    "print(f'Конверсия в FTD c ответом оператора', \n",
    "      round(dialogs_df[(dialogs_df['cnt_operator_messages'] != 0) &\n",
    "                 (dialogs_df['status'] == 'resolved')]['is_ftd'].mean()*100,2), '%')\n",
    "print('')\n",
    "print(f'Конверсия в FTD без ответа оператора', \n",
    "      round(not_bot_dialogs[(not_bot_dialogs['cnt_operator_messages'] == 0) &\n",
    "                 (not_bot_dialogs['status'] == 'resolved')]['is_ftd'].mean()*100,2), '%')"
   ]
  },
  {
   "cell_type": "markdown",
   "id": "ec8a23ad",
   "metadata": {},
   "source": [
    "##### Если был ответ саппорта, был ли ответ клиента на ответ саппорта"
   ]
  },
  {
   "cell_type": "code",
   "execution_count": 120,
   "id": "f47b2a92",
   "metadata": {},
   "outputs": [
    {
     "name": "stdout",
     "output_type": "stream",
     "text": [
      "Процент случаев, где был ответ клиента после ответа суппорта - 37.91 %\n"
     ]
    }
   ],
   "source": [
    "print(f'Процент случаев, где был ответ клиента после ответа суппорта -', \n",
    "      (round(dialogs_df['operator_followed_by_user'].mean()*100, 2)), '%')"
   ]
  },
  {
   "cell_type": "markdown",
   "id": "44a9a4bb",
   "metadata": {},
   "source": [
    "##### Гео"
   ]
  },
  {
   "cell_type": "code",
   "execution_count": 128,
   "id": "98ed78b6",
   "metadata": {},
   "outputs": [],
   "source": [
    "def iso2_to_country(iso2):\n",
    "    if not isinstance(iso2, str) or not iso2.strip():  # Проверяем на пустые и None\n",
    "        return None  \n",
    "    try:\n",
    "        return pycountry.countries.get(alpha_2=iso2.upper()).name  # Приводим к верхнему регистру\n",
    "    except AttributeError:\n",
    "        return None"
   ]
  },
  {
   "cell_type": "code",
   "execution_count": 133,
   "id": "c2e38c8b",
   "metadata": {},
   "outputs": [],
   "source": [
    "dialogs_df['geo_full'] = dialogs_df['geo'].apply(iso2_to_country)"
   ]
  },
  {
   "cell_type": "code",
   "execution_count": 188,
   "id": "d23b8e13",
   "metadata": {},
   "outputs": [
    {
     "data": {
      "image/png": "[encoded data removed]",
      "text/plain": [
       "<Figure size 640x480 with 1 Axes>"
      ]
     },
     "metadata": {},
     "output_type": "display_data"
    }
   ],
   "source": [
    "top_geos = (dialogs_df.drop_duplicates(subset='user_id')\n",
    "                 .groupby('geo_full')['id']\n",
    "                 .count()\n",
    "                 .reset_index()\n",
    "                 .sort_values(by='id', ascending=False)\n",
    "                 [:10])\n",
    "top_geos.plot(x='geo_full', y='id', kind='barh', legend=False)\n",
    "\n",
    "# Настройка подписей\n",
    "plt.ylabel('Страна')  # Подпись оси X\n",
    "plt.xlabel('Количество пользователей')  # Подпись оси Y\n",
    "plt.title('Топ-10 стран по количеству пользователей (Crysp)')\n",
    "for index, value in enumerate(top_geos['id']):\n",
    "    plt.text(value + max(top_geos['id']) * 0.01, index, str(value), va='center')\n",
    "\n",
    "plt.show()"
   ]
  },
  {
   "cell_type": "code",
   "execution_count": 179,
   "id": "1d562faf",
   "metadata": {},
   "outputs": [],
   "source": [
    "def iso3_to_country(iso3):\n",
    "    if not isinstance(iso3, str) or not iso3.strip():  # Проверяем на пустые и None\n",
    "        return None  \n",
    "    try:\n",
    "        return pycountry.countries.get(alpha_3=iso3.upper()).name  # Приводим к верхнему регистру\n",
    "    except AttributeError:\n",
    "        return None"
   ]
  },
  {
   "cell_type": "code",
   "execution_count": 182,
   "id": "23157d5f",
   "metadata": {},
   "outputs": [],
   "source": [
    "dialogs_df['country_full'] = \n",
    "dialogs_df['country'].apply(iso3_to_country)"
   ]
  },
  {
   "cell_type": "code",
   "execution_count": 192,
   "id": "b8b3deb6",
   "metadata": {},
   "outputs": [
    {
     "data": {
      "image/png": "[encoded data removed]",
      "text/plain": [
       "<Figure size 1400x600 with 2 Axes>"
      ]
     },
     "metadata": {},
     "output_type": "display_data"
    }
   ],
   "source": [
    "# Подготовка данных\n",
    "top_geos = (dialogs_df.drop_duplicates(subset='user_id')\n",
    "                 .groupby('geo_full')['id']\n",
    "                 .count()\n",
    "                 .reset_index()\n",
    "                 .sort_values(by='id', ascending=False)\n",
    "                 [:10])\n",
    "\n",
    "top_countries = (dialogs_df.drop_duplicates(subset='user_id')\n",
    "                 .groupby('country_full')['id']\n",
    "                 .count()\n",
    "                 .reset_index()\n",
    "                 .sort_values(by='id', ascending=False)\n",
    "                 [:10])\n",
    "\n",
    "# Создаем фигуру с двумя графиками\n",
    "fig, (ax1, ax2) = plt.subplots(1, 2, figsize=(14, 6))  # Один ряд, два столбца\n",
    "\n",
    "# 🔹 График 1: Топ-10 стран (Crysp)\n",
    "top_geos.plot(x='geo_full', y='id', kind='barh', legend=False, ax=ax1, color='royalblue')\n",
    "ax1.set_ylabel('Страна')\n",
    "ax1.set_xlabel('Количество пользователей')\n",
    "ax1.set_title('Топ-10 стран по количеству пользователей (Crysp)')\n",
    "\n",
    "# Добавляем подписи значений\n",
    "for index, value in enumerate(top_geos['id']):\n",
    "    ax1.text(value + max(top_geos['id']) * 0.01, index, str(value), va='center')\n",
    "\n",
    "# 🔹 График 2: Топ-10 стран (CA)\n",
    "top_countries.plot(x='country_full', y='id', kind='barh', legend=False, ax=ax2, color='darkorange')\n",
    "ax2.set_ylabel('Страна')\n",
    "ax2.set_xlabel('Количество пользователей')\n",
    "ax2.set_title('Топ-10 стран по количеству пользователей (CA)')\n",
    "\n",
    "# Добавляем подписи значений\n",
    "for index, value in enumerate(top_countries['id']):\n",
    "    ax2.text(value + max(top_countries['id']) * 0.01, index, str(value), va='center')\n",
    "\n",
    "# Убираем наложения\n",
    "plt.tight_layout()\n",
    "plt.show()\n"
   ]
  },
  {
   "cell_type": "markdown",
   "id": "e8487080",
   "metadata": {},
   "source": [
    "##### Домен почты"
   ]
  },
  {
   "cell_type": "code",
   "execution_count": 197,
   "id": "5b7b0c35",
   "metadata": {},
   "outputs": [],
   "source": [
    "dialogs_df['domain'] = dialogs_df['email'].str.split('@').str[1]"
   ]
  },
  {
   "cell_type": "code",
   "execution_count": 203,
   "id": "46f371bb",
   "metadata": {},
   "outputs": [],
   "source": [
    "domains = dialogs_df['domain'].value_counts().reset_index()"
   ]
  },
  {
   "cell_type": "code",
   "execution_count": 207,
   "id": "34577220",
   "metadata": {},
   "outputs": [],
   "source": [
    "domains_plot = domains[domains['count'] > 1]"
   ]
  },
  {
   "cell_type": "code",
   "execution_count": 218,
   "id": "8816b4e6",
   "metadata": {},
   "outputs": [
    {
     "name": "stdout",
     "output_type": "stream",
     "text": [
      "Топ доменов (встречается чаще раза)\n",
      "            domain  count\n",
      "0       gmail.com    267\n",
      "1     hotmail.com      6\n",
      "2   peoplelabs.io      2\n",
      "3  the-bithub.com      2\n",
      "4      icloud.com      2\n",
      "5       proton.me      2\n",
      "6  sub4unlock.com      2\n",
      "7  levelq.finance      2\n"
     ]
    }
   ],
   "source": [
    "print(f'Топ доменов (встречается чаще раза)\\n', domains_plot)"
   ]
  },
  {
   "cell_type": "markdown",
   "id": "89d3f383",
   "metadata": {},
   "source": [
    "##### Контакты"
   ]
  },
  {
   "cell_type": "code",
   "execution_count": 257,
   "id": "648f5f0b",
   "metadata": {},
   "outputs": [],
   "source": [
    "messengers = dialogs_df.merge(pd.read_csv('D:\\\\Users\\\\aleksandr.radionov\\\\Desktop\\\\users2.csv',\n",
    "sep=';', on_bad_lines='skip')[['user_id', 'messenger']],\n",
    "     on='user_id', how='left', suffixes=('x','_pivot'))['messenger_pivot'].value_counts(dropna=False).reset_index()"
   ]
  },
  {
   "cell_type": "code",
   "execution_count": 545,
   "id": "875db189",
   "metadata": {},
   "outputs": [
    {
     "data": {
      "image/png": "[encoded data removed]",
      "text/plain": [
       "<Figure size 640x480 with 1 Axes>"
      ]
     },
     "metadata": {},
     "output_type": "display_data"
    }
   ],
   "source": [
    "messengers.plot(kind='bar', x='messenger_pivot', y='count', legend=False)\n",
    "\n",
    "plt.xlabel('Мессенджер')\n",
    "plt.ylabel('Количество юзеров')\n",
    "plt.title('Мессенджеры')\n",
    "plt.xticks(rotation=30)\n",
    "plt.grid(axis='y', alpha=0.3, linestyle='--')\n",
    "# Поворот подписей для читаемости\n",
    "\n",
    "# Отображение графика\n",
    "plt.show()"
   ]
  },
  {
   "cell_type": "markdown",
   "id": "e4a282a5",
   "metadata": {},
   "source": [
    "#### Исследование диалогов"
   ]
  },
  {
   "cell_type": "markdown",
   "id": "a0d04fbc",
   "metadata": {},
   "source": [
    "##### Подключение к БД Крисп"
   ]
  },
  {
   "cell_type": "code",
   "execution_count": 11,
   "id": "29d65bfe",
   "metadata": {},
   "outputs": [],
   "source": [
    "import sqlalchemy as sql\n",
    "from sqlalchemy import create_engine"
   ]
  },
  {
   "cell_type": "code",
   "execution_count": 12,
   "id": "77d66457",
   "metadata": {},
   "outputs": [],
   "source": [
    "db_config = {\n",
    "'host': 'host',\n",
    "'port' : 3306,\n",
    "'db' : 'db',\n",
    "'user' : 'user',\n",
    "'pass' : 'pass',\n",
    "}"
   ]
  },
  {
   "cell_type": "code",
   "execution_count": 13,
   "id": "ce07bf1f",
   "metadata": {},
   "outputs": [],
   "source": [
    "connection_string = 'mysql+pymysql://{}:{}@{}/{}'.format(\n",
    "    db_config['user'],\n",
    "    db_config['pass'],\n",
    "    db_config['host'],\n",
    "    db_config['db'],\n",
    ")"
   ]
  },
  {
   "cell_type": "code",
   "execution_count": 14,
   "id": "856d0d0f",
   "metadata": {},
   "outputs": [],
   "source": [
    "engine = create_engine(connection_string)"
   ]
  },
  {
   "cell_type": "code",
   "execution_count": 15,
   "id": "ac9fa70b",
   "metadata": {},
   "outputs": [],
   "source": [
    "def select(sql):\n",
    "  return pd.read_sql(sql, con=engine)"
   ]
  },
  {
   "cell_type": "code",
   "execution_count": 16,
   "id": "54309141",
   "metadata": {},
   "outputs": [],
   "source": [
    "sql = '''\n",
    "SELECT m.*,\n",
    "o.username,\n",
    "p.user_id\n",
    "FROM messages m\n",
    "LEFT JOIN operators o ON m.author_id = o.id AND m.author_type = 'operator'\n",
    "LEFT JOIN people p ON m.author_id = p.id AND m.author_type = 'user'\n",
    "WHERE conversation_id IN ('12', '18', '76', '77', '94', '110', '114', '134', '147', '167', '211', '212', '231', '232', '239', '273', '306', '333', '346', '347', '348', '349', '350', '351', '370', '389', '393', '404', '414', '428', '453', '479', '494', '501', '503', '504', '506', '507', '524', '533', '547', '577', '580', '594', '614', '623', '651', '660', '688', '696', '699', '712', '713', '735', '783', '794', '796', '797', '836', '860', '900', '917', '950', '953', '957', '977', '980', '1023', '1029', '1034', '1043', '1044', '1049', '1056', '1057', '1089', '1115', '1154', '1163', '1194', '1204', '1234', '1278', '1294', '1299', '1300', '1397', '1401', '1444', '1446', '1448', '1457', '1513', '1516', '1525', '1547', '1559', '1561', '1568', '1581', '1586', '1591', '1620', '1648', '1650', '1678', '1685', '1706', '1714', '1715', '1716', '1721', '1728', '1774', '1787', '1790', '1793', '1794', '1795', '1796', '1808', '1811', '1820', '1833', '1877', '1933', '1976', '1979', '1993', '2022', '2024', '2036', '2104', '2112', '2131', '2147', '2150', '2153', '2173', '2174', '2200', '2206', '2209', '2230', '2240', '2244', '2257', '2271', '2274', '2283', '2299', '2326', '2328', '2344', '2367', '2370', '2379', '2387', '2411', '2429', '2442', '2446', '2510', '2567', '2568', '2581', '2601', '2611', '2649', '2659', '2660', '2661', '2662', '2663', '2664', '2665', '2682', '2683', '2684', '2702', '2704', '2710', '2716', '2717', '2723', '2748', '2752', '2796', '2815', '2847', '2874', '2887', '2903', '3000', '3025', '3026', '3033', '3040', '3059', '3063', '3070', '3083', '3114', '3117', '3118', '3138', '3156', '3158', '3163', '3176', '3177', '3182', '3188', '3263', '3266', '3276', '3279', '3289', '3290', '3292', '3317', '3336', '3349', '3351', '3356', '3357', '3361', '3376', '3385', '3390', '3391', '3424', '3429', '3431', '3446', '3466', '3474', '3481', '3482', '3483', '3493', '3506', '3507', '3508', '3513', '3515', '3521', '3522', '3536', '3540', '3546', '3547', '3550', '3551', '3555', '3556', '3558', '3580', '3581', '3582', '3583', '3589', '3596', '3598', '3599', '3617', '3618', '3620', '3622', '3623', '3625', '3629', '3637', '3639', '3640', '3646', '3685', '3686', '3759', '3780', '3792', '3806', '3825', '3873', '3874', '3911', '3922', '4036', '4043', '4049', '4063', '4077', '4092', '4191', '4221', '4227', '4302', '4311', '4345', '4355', '4386', '4419', '4461', '4466')\n",
    "'''"
   ]
  },
  {
   "cell_type": "code",
   "execution_count": 19,
   "id": "3b2ac83b",
   "metadata": {},
   "outputs": [],
   "source": [
    "messages_df = select(sql)"
   ]
  },
  {
   "cell_type": "code",
   "execution_count": 20,
   "id": "2b385bb6",
   "metadata": {},
   "outputs": [],
   "source": [
    "messages_df_copy = messages_df.copy()"
   ]
  },
  {
   "cell_type": "code",
   "execution_count": 21,
   "id": "f2bd99c1",
   "metadata": {},
   "outputs": [
    {
     "name": "stdout",
     "output_type": "stream",
     "text": [
      "<class 'pandas.core.frame.DataFrame'>\n",
      "RangeIndex: 4594 entries, 0 to 4593\n",
      "Data columns (total 11 columns):\n",
      " #   Column            Non-Null Count  Dtype         \n",
      "---  ------            --------------  -----         \n",
      " 0   id                4594 non-null   int64         \n",
      " 1   author_type       4594 non-null   object        \n",
      " 2   author_id         2709 non-null   object        \n",
      " 3   conversation_id   4594 non-null   int64         \n",
      " 4   text              4594 non-null   object        \n",
      " 5   read              4594 non-null   object        \n",
      " 6   delivered         4594 non-null   object        \n",
      " 7   internal_message  4594 non-null   int64         \n",
      " 8   created_at        4594 non-null   datetime64[ns]\n",
      " 9   username          841 non-null    object        \n",
      " 10  user_id           1606 non-null   float64       \n",
      "dtypes: datetime64[ns](1), float64(1), int64(3), object(6)\n",
      "memory usage: 394.9+ KB\n"
     ]
    }
   ],
   "source": [
    "messages_df.info()"
   ]
  },
  {
   "cell_type": "markdown",
   "id": "64dbbf4a",
   "metadata": {},
   "source": [
    "##### Обработка данных"
   ]
  },
  {
   "cell_type": "code",
   "execution_count": 22,
   "id": "959f6ba0",
   "metadata": {},
   "outputs": [],
   "source": [
    "users_messages = messages_df[messages_df['author_type'] == 'user']"
   ]
  },
  {
   "cell_type": "code",
   "execution_count": 23,
   "id": "40e4068e",
   "metadata": {},
   "outputs": [
    {
     "name": "stderr",
     "output_type": "stream",
     "text": [
      "D:\\Users\\aleksandr.radionov\\AppData\\Local\\Temp\\1\\ipykernel_9128\\4074746986.py:1: SettingWithCopyWarning: \n",
      "A value is trying to be set on a copy of a slice from a DataFrame.\n",
      "Try using .loc[row_indexer,col_indexer] = value instead\n",
      "\n",
      "See the caveats in the documentation: https://pandas.pydata.org/pandas-docs/stable/user_guide/indexing.html#returning-a-view-versus-a-copy\n",
      "  users_messages['user_id'] = users_messages['user_id'].astype(int)\n"
     ]
    }
   ],
   "source": [
    "users_messages['user_id'] = users_messages['user_id'].astype(int)"
   ]
  },
  {
   "cell_type": "code",
   "execution_count": 24,
   "id": "2a74a124",
   "metadata": {},
   "outputs": [
    {
     "name": "stdout",
     "output_type": "stream",
     "text": [
      "<class 'pandas.core.frame.DataFrame'>\n",
      "Index: 1606 entries, 0 to 4590\n",
      "Data columns (total 11 columns):\n",
      " #   Column            Non-Null Count  Dtype         \n",
      "---  ------            --------------  -----         \n",
      " 0   id                1606 non-null   int64         \n",
      " 1   author_type       1606 non-null   object        \n",
      " 2   author_id         1606 non-null   object        \n",
      " 3   conversation_id   1606 non-null   int64         \n",
      " 4   text              1606 non-null   object        \n",
      " 5   read              1606 non-null   object        \n",
      " 6   delivered         1606 non-null   object        \n",
      " 7   internal_message  1606 non-null   int64         \n",
      " 8   created_at        1606 non-null   datetime64[ns]\n",
      " 9   username          0 non-null      object        \n",
      " 10  user_id           1606 non-null   int32         \n",
      "dtypes: datetime64[ns](1), int32(1), int64(3), object(6)\n",
      "memory usage: 144.3+ KB\n"
     ]
    }
   ],
   "source": [
    "users_messages.info()"
   ]
  },
  {
   "cell_type": "code",
   "execution_count": 25,
   "id": "c36ae706",
   "metadata": {},
   "outputs": [],
   "source": [
    "first_3 = users_messages.sort_values(by=['conversation_id',\n",
    "                               'created_at']).groupby('conversation_id').head(3).reset_index(drop=True)"
   ]
  },
  {
   "cell_type": "code",
   "execution_count": 26,
   "id": "ce0db86a",
   "metadata": {},
   "outputs": [
    {
     "data": {
      "text/html": [
       "<div>\n",
       "<style scoped>\n",
       "    .dataframe tbody tr th:only-of-type {\n",
       "        vertical-align: middle;\n",
       "    }\n",
       "\n",
       "    .dataframe tbody tr th {\n",
       "        vertical-align: top;\n",
       "    }\n",
       "\n",
       "    .dataframe thead th {\n",
       "        text-align: right;\n",
       "    }\n",
       "</style>\n",
       "<table border=\"1\" class=\"dataframe\">\n",
       "  <thead>\n",
       "    <tr style=\"text-align: right;\">\n",
       "      <th></th>\n",
       "      <th>id</th>\n",
       "      <th>author_type</th>\n",
       "      <th>author_id</th>\n",
       "      <th>conversation_id</th>\n",
       "      <th>text</th>\n",
       "      <th>read</th>\n",
       "      <th>delivered</th>\n",
       "      <th>internal_message</th>\n",
       "      <th>created_at</th>\n",
       "      <th>username</th>\n",
       "      <th>user_id</th>\n",
       "    </tr>\n",
       "  </thead>\n",
       "  <tbody>\n",
       "    <tr>\n",
       "      <th>0</th>\n",
       "      <td>156</td>\n",
       "      <td>user</td>\n",
       "      <td>03dad69f-b1e4-4e5a-8d02-cee14afac5a5</td>\n",
       "      <td>12</td>\n",
       "      <td>Hi,</td>\n",
       "      <td>chat</td>\n",
       "      <td></td>\n",
       "      <td>0</td>\n",
       "      <td>2025-03-07 11:26:51</td>\n",
       "      <td>None</td>\n",
       "      <td>176221</td>\n",
       "    </tr>\n",
       "    <tr>\n",
       "      <th>1</th>\n",
       "      <td>165</td>\n",
       "      <td>user</td>\n",
       "      <td>03dad69f-b1e4-4e5a-8d02-cee14afac5a5</td>\n",
       "      <td>12</td>\n",
       "      <td>customer</td>\n",
       "      <td>chat</td>\n",
       "      <td></td>\n",
       "      <td>0</td>\n",
       "      <td>2025-03-07 11:27:46</td>\n",
       "      <td>None</td>\n",
       "      <td>176221</td>\n",
       "    </tr>\n",
       "    <tr>\n",
       "      <th>2</th>\n",
       "      <td>169</td>\n",
       "      <td>user</td>\n",
       "      <td>03dad69f-b1e4-4e5a-8d02-cee14afac5a5</td>\n",
       "      <td>12</td>\n",
       "      <td>customer representative</td>\n",
       "      <td>chat</td>\n",
       "      <td></td>\n",
       "      <td>0</td>\n",
       "      <td>2025-03-07 11:28:07</td>\n",
       "      <td>None</td>\n",
       "      <td>176221</td>\n",
       "    </tr>\n",
       "    <tr>\n",
       "      <th>3</th>\n",
       "      <td>255</td>\n",
       "      <td>user</td>\n",
       "      <td>0c26f985-40dd-4b00-8bae-ad0e0373537c</td>\n",
       "      <td>18</td>\n",
       "      <td>Почему у меня на компании # 376801 написано чт...</td>\n",
       "      <td>chat</td>\n",
       "      <td></td>\n",
       "      <td>0</td>\n",
       "      <td>2025-03-06 15:03:23</td>\n",
       "      <td>None</td>\n",
       "      <td>173996</td>\n",
       "    </tr>\n",
       "    <tr>\n",
       "      <th>4</th>\n",
       "      <td>261</td>\n",
       "      <td>user</td>\n",
       "      <td>0c26f985-40dd-4b00-8bae-ad0e0373537c</td>\n",
       "      <td>18</td>\n",
       "      <td>?</td>\n",
       "      <td>chat</td>\n",
       "      <td></td>\n",
       "      <td>0</td>\n",
       "      <td>2025-03-06 15:18:44</td>\n",
       "      <td>None</td>\n",
       "      <td>173996</td>\n",
       "    </tr>\n",
       "    <tr>\n",
       "      <th>5</th>\n",
       "      <td>262</td>\n",
       "      <td>user</td>\n",
       "      <td>0c26f985-40dd-4b00-8bae-ad0e0373537c</td>\n",
       "      <td>18</td>\n",
       "      <td>вопрос снят, спасибо</td>\n",
       "      <td>chat</td>\n",
       "      <td></td>\n",
       "      <td>0</td>\n",
       "      <td>2025-03-06 15:21:52</td>\n",
       "      <td>None</td>\n",
       "      <td>173996</td>\n",
       "    </tr>\n",
       "    <tr>\n",
       "      <th>6</th>\n",
       "      <td>1270</td>\n",
       "      <td>user</td>\n",
       "      <td>3f3cd1c8-2a37-4cc9-947b-03f5d4fa82b2</td>\n",
       "      <td>76</td>\n",
       "      <td>hello</td>\n",
       "      <td>chat</td>\n",
       "      <td></td>\n",
       "      <td>0</td>\n",
       "      <td>2025-03-04 11:51:12</td>\n",
       "      <td>None</td>\n",
       "      <td>175504</td>\n",
       "    </tr>\n",
       "    <tr>\n",
       "      <th>7</th>\n",
       "      <td>1277</td>\n",
       "      <td>user</td>\n",
       "      <td>3f3cd1c8-2a37-4cc9-947b-03f5d4fa82b2</td>\n",
       "      <td>76</td>\n",
       "      <td>{\"name\":\"Screen Shot 2025-03-04 at 11.51.27.pn...</td>\n",
       "      <td>email</td>\n",
       "      <td>email</td>\n",
       "      <td>0</td>\n",
       "      <td>2025-03-04 11:52:08</td>\n",
       "      <td>None</td>\n",
       "      <td>175504</td>\n",
       "    </tr>\n",
       "    <tr>\n",
       "      <th>8</th>\n",
       "      <td>1283</td>\n",
       "      <td>user</td>\n",
       "      <td>3f3cd1c8-2a37-4cc9-947b-03f5d4fa82b2</td>\n",
       "      <td>76</td>\n",
       "      <td>hello</td>\n",
       "      <td>chat</td>\n",
       "      <td></td>\n",
       "      <td>0</td>\n",
       "      <td>2025-03-07 14:16:05</td>\n",
       "      <td>None</td>\n",
       "      <td>175504</td>\n",
       "    </tr>\n",
       "  </tbody>\n",
       "</table>\n",
       "</div>"
      ],
      "text/plain": [
       "     id author_type                             author_id  conversation_id  \\\n",
       "0   156        user  03dad69f-b1e4-4e5a-8d02-cee14afac5a5               12   \n",
       "1   165        user  03dad69f-b1e4-4e5a-8d02-cee14afac5a5               12   \n",
       "2   169        user  03dad69f-b1e4-4e5a-8d02-cee14afac5a5               12   \n",
       "3   255        user  0c26f985-40dd-4b00-8bae-ad0e0373537c               18   \n",
       "4   261        user  0c26f985-40dd-4b00-8bae-ad0e0373537c               18   \n",
       "5   262        user  0c26f985-40dd-4b00-8bae-ad0e0373537c               18   \n",
       "6  1270        user  3f3cd1c8-2a37-4cc9-947b-03f5d4fa82b2               76   \n",
       "7  1277        user  3f3cd1c8-2a37-4cc9-947b-03f5d4fa82b2               76   \n",
       "8  1283        user  3f3cd1c8-2a37-4cc9-947b-03f5d4fa82b2               76   \n",
       "\n",
       "                                                text   read delivered  \\\n",
       "0                                                Hi,   chat             \n",
       "1                                           customer   chat             \n",
       "2                            customer representative   chat             \n",
       "3  Почему у меня на компании # 376801 написано чт...   chat             \n",
       "4                                                  ?   chat             \n",
       "5                               вопрос снят, спасибо   chat             \n",
       "6                                              hello   chat             \n",
       "7  {\"name\":\"Screen Shot 2025-03-04 at 11.51.27.pn...  email     email   \n",
       "8                                              hello   chat             \n",
       "\n",
       "   internal_message          created_at username  user_id  \n",
       "0                 0 2025-03-07 11:26:51     None   176221  \n",
       "1                 0 2025-03-07 11:27:46     None   176221  \n",
       "2                 0 2025-03-07 11:28:07     None   176221  \n",
       "3                 0 2025-03-06 15:03:23     None   173996  \n",
       "4                 0 2025-03-06 15:18:44     None   173996  \n",
       "5                 0 2025-03-06 15:21:52     None   173996  \n",
       "6                 0 2025-03-04 11:51:12     None   175504  \n",
       "7                 0 2025-03-04 11:52:08     None   175504  \n",
       "8                 0 2025-03-07 14:16:05     None   175504  "
      ]
     },
     "execution_count": 26,
     "metadata": {},
     "output_type": "execute_result"
    }
   ],
   "source": [
    "first_3.head(9)"
   ]
  },
  {
   "cell_type": "markdown",
   "id": "853bb0ed",
   "metadata": {},
   "source": [
    "Данные корректны для анализа"
   ]
  },
  {
   "cell_type": "markdown",
   "id": "04595f16",
   "metadata": {},
   "source": [
    "##### Посмотрим на язык сообщений"
   ]
  },
  {
   "cell_type": "code",
   "execution_count": 6,
   "id": "3fc2d989",
   "metadata": {},
   "outputs": [],
   "source": [
    "model = fasttext.load_model(\"lid.176.bin\")"
   ]
  },
  {
   "cell_type": "code",
   "execution_count": 30,
   "id": "552ab941",
   "metadata": {},
   "outputs": [],
   "source": [
    "# Функция для определения языка\n",
    "def detect_language_fasttext(text):\n",
    "    text = str(text).replace(\"\\n\", \" \").strip()  # Убираем переносы строк\n",
    "    lang, confidence = model.predict(text, k=1)\n",
    "    return lang[0].replace(\"__label__\", \"\"), confidence[0]"
   ]
  },
  {
   "cell_type": "code",
   "execution_count": 29,
   "id": "4888b17e",
   "metadata": {},
   "outputs": [],
   "source": [
    "first_3[['fasttext_lang', 'fasttext_confidence']] = first_3['text'].apply(lambda x:\n",
    "                                                                    pd.Series(detect_language_fasttext(str(x))))"
   ]
  },
  {
   "cell_type": "code",
   "execution_count": 34,
   "id": "4dafabd6",
   "metadata": {},
   "outputs": [],
   "source": [
    "# Функция для преобразования кода языка в прилагательное (английский формат)\n",
    "def get_language_adjective(lang_code):\n",
    "    try:\n",
    "        lang_name = pycountry.languages.get(alpha_2=lang_code).name  # Полное название языка\n",
    "        return lang_name.lower()  # Например, \"russian\", \"english\"\n",
    "    except AttributeError:\n",
    "        return 'other'"
   ]
  },
  {
   "cell_type": "code",
   "execution_count": 35,
   "id": "1b2eff3f",
   "metadata": {},
   "outputs": [],
   "source": [
    "first_3['language'] = first_3['fasttext_lang'].apply(get_language_adjective)"
   ]
  },
  {
   "cell_type": "code",
   "execution_count": 39,
   "id": "51f3d7c6",
   "metadata": {
    "scrolled": true
   },
   "outputs": [
    {
     "name": "stdout",
     "output_type": "stream",
     "text": [
      "Топ 10 языков сообщений:\n",
      "      language  count\n",
      "0     english    459\n",
      "1     russian     30\n",
      "2     catalan     20\n",
      "3  indonesian     17\n",
      "4     spanish     16\n",
      "5     persian     14\n",
      "6      french     13\n",
      "7      german      8\n",
      "8      arabic      8\n",
      "9     italian      4\n"
     ]
    }
   ],
   "source": [
    "print(f'Топ 10 языков сообщений:\\n', first_3['language'].value_counts()[:10].reset_index())"
   ]
  },
  {
   "cell_type": "markdown",
   "id": "948525b1",
   "metadata": {},
   "source": [
    "##### Изучим самые повторяющиеся слова"
   ]
  },
  {
   "cell_type": "markdown",
   "id": "10ad2791",
   "metadata": {},
   "source": [
    "###### nltk"
   ]
  },
  {
   "cell_type": "code",
   "execution_count": 352,
   "id": "c1f851e0",
   "metadata": {},
   "outputs": [
    {
     "name": "stderr",
     "output_type": "stream",
     "text": [
      "[nltk_data] Downloading package stopwords to\n",
      "[nltk_data]     D:\\Users\\aleksandr.radionov\\AppData\\Roaming\\nltk_data.\n",
      "[nltk_data]     ..\n",
      "[nltk_data]   Unzipping corpora\\stopwords.zip.\n"
     ]
    }
   ],
   "source": [
    "nltk.download('stopwords')\n",
    "all_stopwords = set(stopwords.words('russian') + stopwords.words('english'))"
   ]
  },
  {
   "cell_type": "code",
   "execution_count": 353,
   "id": "e916843c",
   "metadata": {},
   "outputs": [],
   "source": [
    "# Функция для предобработки текста\n",
    "def preprocess_text(text):\n",
    "    text = text.lower()  # Нижний регистр\n",
    "    text = re.sub(r'[^\\w\\s]', '', text)  # Убираем знаки препинания\n",
    "    text = re.sub(r'\\d+', '', text)  # Убираем цифры\n",
    "    return text"
   ]
  },
  {
   "cell_type": "code",
   "execution_count": 438,
   "id": "1e67d7d6",
   "metadata": {},
   "outputs": [],
   "source": [
    "# Функция для подсчёта частотности слов\n",
    "def get_most_common_words(texts, n=30):\n",
    "    words = []\n",
    "    \n",
    "    for text in texts:\n",
    "        processed_text = preprocess_text(text)\n",
    "        words.extend(word for word in processed_text.split() if word not in all_stopwords)\n",
    "    \n",
    "    return Counter(words).most_common(n)"
   ]
  },
  {
   "cell_type": "code",
   "execution_count": 442,
   "id": "5d7b284e",
   "metadata": {
    "scrolled": false
   },
   "outputs": [
    {
     "name": "stdout",
     "output_type": "stream",
     "text": [
      "Топ 30 наиболее встречаемых слов в диалогах\n"
     ]
    },
    {
     "data": {
      "text/plain": [
       "[('hello', 80),\n",
       " ('onclicka', 64),\n",
       " ('hi', 57),\n",
       " ('ads', 54),\n",
       " ('want', 49),\n",
       " ('ad', 43),\n",
       " ('campaign', 40),\n",
       " ('account', 39),\n",
       " ('campaigns', 39),\n",
       " ('start', 34),\n",
       " ('wrote', 31),\n",
       " ('help', 31),\n",
       " ('im', 31),\n",
       " ('manager', 28),\n",
       " ('get', 28),\n",
       " ('clickadilla', 27),\n",
       " ('please', 27),\n",
       " ('telegram', 27),\n",
       " ('balance', 27),\n",
       " ('email', 26),\n",
       " ('code', 25),\n",
       " ('traffic', 24),\n",
       " ('dont', 24),\n",
       " ('image', 21),\n",
       " ('bonus', 20),\n",
       " ('money', 19),\n",
       " ('personal', 19),\n",
       " ('rachael', 19),\n",
       " ('welcome', 19),\n",
       " ('know', 18)]"
      ]
     },
     "execution_count": 442,
     "metadata": {},
     "output_type": "execute_result"
    }
   ],
   "source": [
    "print(f'Топ 30 наиболее встречаемых слов в диалогах') \n",
    "get_most_common_words(first_3['text'])"
   ]
  },
  {
   "cell_type": "markdown",
   "id": "7ada84ba",
   "metadata": {},
   "source": [
    "Аномалий в списке не видно, слово money встречается 19 раз.\n",
    "<p>Можем зафиксировать самый частый запрос/проблему : <b>ads/ad, campaign, manager, telegram, balance, email, code, traffic, image, bonus, money"
   ]
  },
  {
   "cell_type": "code",
   "execution_count": 481,
   "id": "9674a58a",
   "metadata": {},
   "outputs": [
    {
     "data": {
      "text/plain": [
       "19                                                                                                                                                                                                                                                                                                                                                                                                                                                                                 I deposited money but it did not arrive\n",
       "20                                                                                                                                                                                                                                                                                                                                                                                                                                                                                 I deposited money but it did not arrive\n",
       "73     Hi Rachel,\\n\\nI’m looking to create a CPA campaign on a monthly basis. My budget is\\naround 15-20K per month to attract more users and deposits into our vaults.\\n\\nI spoke with one of your colleagues and they said it’s not possible without\\ngoing through the CPC / CMC models first?\\n\\nI’m really looking to have a manager on your team to help me run this on a\\nmonthly basis, as im not full\\nIn tune on running these types of campaigns. I was hoping to just pay\\ndirectly to Onclika on a monthly...\n",
       "80     Hi Rachael,\\n\\nWe’re not an experienced advertiser can you maybe help us set up a Telegram\\ncampaign?\\n\\nOp wo 26 feb. 2025 om 13:46 schreef Rachael Terry <\\nrachael.terry@onclicka.com>\\n\\n```\\n> *Dear Erik!*\\n> *Welcome to OnClickA!*\\n> I’m Rachael, and I’m here to help you make your campaignsa success. *Let\\n> me guess — you’re either struggling to hit your campaign goals or just\\n> starting out, hoping to avoid wasting time and money.*\\n> We’ve got you.* That’s why OnClickA exists — to ma...\n",
       "189                                                                                                                                                                                                                                                                                                                                                                                                                                                                                              i want refund on my money\n",
       "205    Pls what is this Onclicka all about?\\n\\n```\\nOn Wed, Mar 5, 2025 at 12:46 Rachael Terry <rachael.terry@onclicka.com> wrote:\\n\\n> *Dear Grace Ohanedo!*\\n> *Welcome to OnClickA!*\\n> I’m Rachael, and I’m here to help you make your campaignsa success. *Let\\n> me guess — you’re either struggling to hit your campaign goals or just\\n> starting out, hoping to avoid wasting time and money.*\\n> We’ve got you.* That’s why OnClickA exists — to makeyour ad campaigns\\n> effective, simple, and worth every ...\n",
       "236                                                                                                                                                                                                                                                                                                                                                                                                                                                                             i want to deposit money give me promo code\n",
       "249    Please send me my login info.\\n\\n```\\nOn Sat, Mar 1, 2025 at 11:26 AM Rachael Terry <rachael.terry@onclicka.com> wrote:\\n\\n> *Dear Muhammad Mannan!*\\n> *Welcome to OnClickA!*\\n> I’m Rachael, and I’m here to help you make your campaigns a success. *Let\\n> me guess — you’re either struggling to hit your campaign goals or just\\n> starting out, hoping to avoid wasting time and money.*\\n> We’ve got you.* That’s why OnClickA exists — to make your ad campaigns\\n> effective, simple, and worth every ...\n",
       "257                                                                                                                                                                                                                                       Hello, I made a payment via USDT trc20 but the money has not arrived. Please check it. \\nI made 2 payments for 100 USDT and 3 USDT.\\nWhen I went to my account after the payment I saw a notification about the success of the payment, but I don't see any money on my account.\n",
       "258                                                                  Hello, I made a payment via USDT trc20 but the money has not arrived. Please check. \\nI made 2 payments for 100 USDT and 3 USDT.\\nWhen I went to my account after the payment I saw a notification about the success of the payment, but I don't see any money on my account. \\n\\nHere are the transaction hashes\\nb3a95c75c037d7f7368a80326a49e942b79fd58b40eea66ee536f6670ac6cea0\\n3aee531a1bf01a5399b0819129db7465fa4d6c993f58454a90084eaa41b5f074\n",
       "292    yes\\n\\n```\\n> Crisp Email\\n> Greetings!\\n> Please clarify, are you a publisher or an advertiser?\\n>\\n> --\\n>\\n> Eva from onclicka.\\n>\\n>\\n> On Fri, 07 Mar 2025 20:33:22 GMT M adil M adil wrote:\\n>\\n>> Ok can you gide me how to make money online\\n>>\\n>> On Wed, Mar 5, 2025, 8:43 PM Lewis - onclicka <lewis@mail.onclicka.com> wrote:\\n>>\\n>> > Hi there!\\n>> >\\n>> > My name is Lewis, and I’m your Customer Success Manager at OnClickA. It’s\\n>> > a pleasure to meet you!\\n>> > I’ll be happy to assis...\n",
       "332    I haven't fund to add, and to continue,if it's possible for your company I\\nwant fund to do with you are\\n\\n```\\nOn Tue, Feb 25, 2025, 10:01 PM Rachael Terry <rachael.terry@onclicka.com> wrote:\\n\\n> *Dear Siyum Olana!*\\n> *Welcome to OnClickA!*\\n> I’m Rachael, and I’m here to help you make your campaigns a success. *Let\\n> me guess — you’re either struggling to hit your campaign goals or just\\n> starting out, hoping to avoid wasting time and money.*\\n> We’ve got you.* That’s why OnClickA exi...\n",
       "352    [image: Screenshot (215).png]\\nhow to add image here and which image can i keep here ??\\n\\n```\\nOn Fri, Feb 21, 2025 at 6:24 PM sujan bagale <sujanbagale58@gmail.com> wrote:\\n\\n> okay i have to pay first or what i don't understand\\n>\\n>\\n> On Fri, Feb 21, 2025 at 6:16 PM Rachael Terry <rachael.terry@onclicka.com>\\n> wrote:\\n>\\n>> *Dear sujan bagale!*\\n>> *Welcome to OnClickA!*\\n>> I’m Rachael, and I’m here to help you make your campaigns a success. *Let\\n>> me guess — you’re either strugglin...\n",
       "354    okay i have to pay first or what i don't understand\\n\\n```\\nOn Fri, Feb 21, 2025 at 6:16 PM Rachael Terry <rachael.terry@onclicka.com> wrote:\\n\\n> *Dear sujan bagale!*\\n> *Welcome to OnClickA!*\\n> I’m Rachael, and I’m here to help you make your campaigns a success. *Let\\n> me guess — you’re either struggling to hit your campaign goals or just\\n> starting out, hoping to avoid wasting time and money.*\\n> We’ve got you.* That’s why OnClickA exists — to make your ad campaigns\\n> effective, simpl...\n",
       "440                                                                                                                                                                                                                                                                                                                                                                                                        **Telegram mini app**\\n\\nHello, good day.🌹\\nI want to earn money through my Telegram mini app. Can you help me?\n",
       "447                                                                                                                                                                                                                                                                                                                                                                                                                 May I Bill to T.LY Shortener Payment Me Faster Bitcoin BTC to Money Paper USD or Indonesian Rupiah Now\n",
       "542                                                                                                                                                                                                                                                                                                                                                                                                                                                                                       how much money do I have to pay?\n",
       "Name: text, dtype: object"
      ]
     },
     "execution_count": 481,
     "metadata": {},
     "output_type": "execute_result"
    }
   ],
   "source": [
    "first_3[first_3['text'].str.contains(r'\\bmoney\\b', case=False, na=False, regex=True)]['text']"
   ]
  },
  {
   "cell_type": "markdown",
   "id": "dc8e187a",
   "metadata": {},
   "source": [
    "Видим слово money встречается только в контексте пополнений, так же нашли один refund"
   ]
  },
  {
   "cell_type": "markdown",
   "id": "ee7262f9",
   "metadata": {},
   "source": [
    "###### Sklearn"
   ]
  },
  {
   "cell_type": "code",
   "execution_count": 43,
   "id": "0959560d",
   "metadata": {},
   "outputs": [],
   "source": [
    "custom_stop_words = [\n",
    "    'the', 'and', 'you',\n",
    "    'but', 'or', 'for', 'your', 'it', 'or', 'not', 'am', 'this', 'are', 'no', 'that', 'what', 'we',\n",
    "    'on', 'at', 'by', 'in', 'to', 'of', 'a', 'an', 'my', 'me', 'is', 'with', 'how', 'can', 'our',  # Английские предлоги\n",
    "    'в', 'на', 'с', 'по', 'к', 'из', 'для', 'от', 'и', 'но', 'или', 'для', 'за', 'о'  # Русские предлоги\n",
    "]"
   ]
  },
  {
   "cell_type": "code",
   "execution_count": 44,
   "id": "f8e3b2e6",
   "metadata": {},
   "outputs": [],
   "source": [
    "vectorizer = TfidfVectorizer(\n",
    "    stop_words=custom_stop_words,  # Убираем стоп-слова\n",
    "    ngram_range=(1, 2),  # Учитываем и слова, и биграммы (двухсловные сочетания)\n",
    "    max_features=30  # Оставляем топ-30 самых значимых\n",
    ")"
   ]
  },
  {
   "cell_type": "code",
   "execution_count": 45,
   "id": "10c91e7d",
   "metadata": {},
   "outputs": [],
   "source": [
    "X = vectorizer.fit_transform(first_3['text'])"
   ]
  },
  {
   "cell_type": "code",
   "execution_count": 46,
   "id": "7c29ee4a",
   "metadata": {},
   "outputs": [],
   "source": [
    "words = vectorizer.get_feature_names_out()\n",
    "importance = X.toarray().sum(axis=0)"
   ]
  },
  {
   "cell_type": "code",
   "execution_count": 49,
   "id": "fdb09372",
   "metadata": {},
   "outputs": [
    {
     "name": "stdout",
     "output_type": "stream",
     "text": [
      "Слова расставленые в порядке важности \n",
      "             word  importance\n",
      "0          hello   53.576330\n",
      "1             hi   42.017448\n",
      "2           want   36.254761\n",
      "3            ads   34.763834\n",
      "4       onclicka   23.549535\n",
      "5          https   22.045275\n",
      "6           have   21.423623\n",
      "7          start   21.330950\n",
      "8            com   19.840823\n",
      "9             ad   18.506372\n",
      "10       account   18.401265\n",
      "11      campaign   17.591891\n",
      "12      telegram   16.462307\n",
      "13         image   11.445103\n",
      "14          help   10.905364\n",
      "15  onclicka com    9.901251\n",
      "16          here    9.738577\n",
      "17           png    9.523890\n",
      "18       support    7.934068\n",
      "19   clickadilla    7.689623\n",
      "20     campaigns    7.559644\n",
      "21          2025    6.086717\n"
     ]
    }
   ],
   "source": [
    "print(f'Слова расставленые в порядке важности \\n', \n",
    "pd.DataFrame({'word': words,\n",
    "'importance': importance}).sort_values(by='importance', ascending=False).reset_index(drop=True).head(22))"
   ]
  },
  {
   "cell_type": "markdown",
   "id": "5f853182",
   "metadata": {},
   "source": [
    "Как интерпретировать диапазон 5–50 (важность)?\n",
    "Значение TF-IDF\tИнтерпретация\n",
    "40–50\tСуперважные слова – определяют главные темы\n",
    "20–39\tЗначимые фразы – часто встречаются, но не во всех текстах\n",
    "5–19\tМенее важные, но полезные слова – встречаются в нескольких текстах"
   ]
  },
  {
   "cell_type": "markdown",
   "id": "cae04f7c",
   "metadata": {},
   "source": [
    "Среди важных слов нет слова money. <p> Какие слова можем выделить как важные : <b>ads/ad, start, campaign, account, telegram, image, png, support"
   ]
  },
  {
   "cell_type": "markdown",
   "id": "7f16063f",
   "metadata": {},
   "source": [
    "##### Изучим тональность сообщений"
   ]
  },
  {
   "cell_type": "code",
   "execution_count": 52,
   "id": "c7b3c61c",
   "metadata": {
    "scrolled": false
   },
   "outputs": [
    {
     "name": "stderr",
     "output_type": "stream",
     "text": [
      "Device set to use cpu\n"
     ]
    }
   ],
   "source": [
    "# Загружаем модель для анализа тональности\n",
    "sentiment_pipeline = pipeline(\"sentiment-analysis\", model=\"cardiffnlp/twitter-xlm-roberta-base-sentiment\")"
   ]
  },
  {
   "cell_type": "code",
   "execution_count": 50,
   "id": "ca9e21a5",
   "metadata": {},
   "outputs": [],
   "source": [
    "# Функция анализа тональности с BERT\n",
    "def analyze_sentiment_bert(text):\n",
    "    truncated_text = text[:512]  # Обрезаем текст до 512 символов\n",
    "    result = sentiment_pipeline(truncated_text)[0]  # Берём первый результат\n",
    "    label = result['label']  # 'positive', 'neutral' или 'negative'\n",
    "    score = result['score']  # Уверенность модели (0.5 - 1.0)\n",
    "    \n",
    "    # Преобразуем в числовые значения\n",
    "    sentiment_map = {'positive': 1, 'neutral': 0, 'negative': -1}\n",
    "    return sentiment_map[label], round(score, 2)"
   ]
  },
  {
   "cell_type": "code",
   "execution_count": 53,
   "id": "221f1701",
   "metadata": {},
   "outputs": [],
   "source": [
    "# Анализируем тональность\n",
    "first_3[['sentiment_score', \n",
    "         'confidence']] = first_3['text'].apply(lambda x: pd.Series(analyze_sentiment_bert(x)))"
   ]
  },
  {
   "cell_type": "code",
   "execution_count": 60,
   "id": "5bed147a",
   "metadata": {
    "scrolled": true
   },
   "outputs": [
    {
     "name": "stdout",
     "output_type": "stream",
     "text": [
      "Средняя тональность сообщений -0.07\n"
     ]
    }
   ],
   "source": [
    "print(f'Средняя тональность сообщений', round(first_3['sentiment_score'].mean(), 3))"
   ]
  },
  {
   "cell_type": "code",
   "execution_count": 59,
   "id": "32cc86db",
   "metadata": {},
   "outputs": [
    {
     "name": "stdout",
     "output_type": "stream",
     "text": [
      "Уверенность модели в результате 0.62\n"
     ]
    }
   ],
   "source": [
    "print(f'Уверенность модели в результате', round(first_3['confidence'].mean(), 2))"
   ]
  },
  {
   "cell_type": "markdown",
   "id": "e58618d4",
   "metadata": {},
   "source": [
    "Мы поделили с помощью модели машинного обучения каждое сообщение на три группы по тональности : позитивное, нейтральное, негативное.<p> В итоге мы получили среднюю тональность -0.069, что говорит о том, что в общем сообщения близки к нейтральным, со склонностью к негативу. <p> Здесь стоит добавить, что уверенность модели в своей оценке в среднем составляет 62.3%, что говорит о том, что модель зачастую сомневается в оценке"
   ]
  },
  {
   "cell_type": "markdown",
   "id": "019db16d",
   "metadata": {},
   "source": [
    "##### Анализ вопросов"
   ]
  },
  {
   "cell_type": "code",
   "execution_count": 428,
   "id": "27bcc43e",
   "metadata": {},
   "outputs": [],
   "source": [
    "question_words = {\n",
    "    'who', 'what', 'where', 'when', 'why', 'how', 'which', 'whose', 'whom',  # Классические вопросительные слова\n",
    "    'do', 'does', 'did', 'can', 'could', 'should', 'would', 'will', 'is', 'are', 'was', 'were', 'may', 'might',  # Вопросительные глаголы\n",
    "    'am', 'have', 'has', 'had', 'shall', 'must', 'ought', 'need', 'dare',  # Дополнительные модальные глаголы\n",
    "    'what kind', 'how much', 'how many', 'how long', 'how far', 'how old', 'how come',  # Вопросительные фразы\n",
    "}"
   ]
  },
  {
   "cell_type": "code",
   "execution_count": 464,
   "id": "dde832e4",
   "metadata": {},
   "outputs": [],
   "source": [
    "# Функция для определения вопросов\n",
    "def is_question(text):\n",
    "    text = text.lower()\n",
    "    return any(word in text.split() for word in question_words) or '?' in text"
   ]
  },
  {
   "cell_type": "code",
   "execution_count": 465,
   "id": "e9452e89",
   "metadata": {},
   "outputs": [],
   "source": [
    "# Фильтруем вопросы\n",
    "df_questions = first_3[first_3['text'].apply(is_question)]\n",
    "\n",
    "# Очистка текста\n",
    "def clean_text(text):\n",
    "    text = text.lower()  # Приводим к нижнему регистру\n",
    "    text = re.sub(r'[^\\w\\s?]', '', text)  # Убираем всё, кроме `?`\n",
    "    return text"
   ]
  },
  {
   "cell_type": "code",
   "execution_count": 432,
   "id": "40c312e5",
   "metadata": {},
   "outputs": [
    {
     "name": "stderr",
     "output_type": "stream",
     "text": [
      "D:\\Users\\aleksandr.radionov\\AppData\\Local\\Temp\\1\\ipykernel_6740\\1305742692.py:1: SettingWithCopyWarning: \n",
      "A value is trying to be set on a copy of a slice from a DataFrame.\n",
      "Try using .loc[row_indexer,col_indexer] = value instead\n",
      "\n",
      "See the caveats in the documentation: https://pandas.pydata.org/pandas-docs/stable/user_guide/indexing.html#returning-a-view-versus-a-copy\n",
      "  df_questions['clean_text'] = df_questions['text'].apply(clean_text)\n"
     ]
    }
   ],
   "source": [
    "df_questions['clean_text'] = df_questions['text'].apply(clean_text)"
   ]
  },
  {
   "cell_type": "code",
   "execution_count": 437,
   "id": "e3fcb448",
   "metadata": {},
   "outputs": [
    {
     "name": "stdout",
     "output_type": "stream",
     "text": [
      "\n",
      "🔹 Топ-15 самых значимых слов/фраз в вопросительных предложениях:\n",
      "           word     tfidf\n",
      "0           ads  6.076593\n",
      "1          work  4.895910\n",
      "2      onclicka  4.442881\n",
      "3       traffic  4.263395\n",
      "4          help  4.220852\n",
      "5            ad  4.096310\n",
      "6          want  3.973196\n",
      "7     publisher  3.963516\n",
      "8      telegram  3.887918\n",
      "9       account  3.778207\n",
      "10         need  3.504785\n",
      "11     campaign  3.128056\n",
      "12      website  2.938904\n",
      "13          add  2.867812\n",
      "14          get  2.802060\n",
      "15      balance  2.704236\n",
      "16         know  2.627872\n",
      "17       refund  2.482284\n",
      "18         code  2.482250\n",
      "19    campaigns  2.411856\n",
      "20         link  2.404689\n",
      "21        adult  2.243548\n",
      "22      manager  2.212031\n",
      "23  clickadilla  2.160123\n",
      "24      support  2.159250\n",
      "25        bonus  2.130573\n",
      "26         2025  2.128899\n",
      "27        email  2.127662\n",
      "28          use  2.125638\n",
      "29          pay  2.119797\n"
     ]
    }
   ],
   "source": [
    "# Загружаем стандартные стоп-слова\n",
    "stop_words = set(stopwords.words('english'))\n",
    "\n",
    "# Добавляем кастомные слова, которые мешают анализу\n",
    "custom_stopwords = {'your', 'you', 'i', 'my', 'is', 'are', 'can', 'on', 'in', 'the', 'to', 'a', 'and', 'hi', \n",
    "                    'hello', 'im'}\n",
    "stop_words.update(custom_stopwords)\n",
    "\n",
    "# Векторизация вопросов с учетом TF-IDF\n",
    "vectorizer = TfidfVectorizer(stop_words=list(stop_words), ngram_range=(1, 2))\n",
    "X = vectorizer.fit_transform(df_questions['clean_text'])\n",
    "\n",
    "# Получаем слова и их значения TF-IDF\n",
    "tfidf_scores = np.asarray(X.sum(axis=0)).flatten()\n",
    "words = vectorizer.get_feature_names_out()\n",
    "\n",
    "# Создаём DataFrame с результатами\n",
    "word_tfidf = pd.DataFrame({'word': words, 'tfidf': tfidf_scores})\n",
    "word_tfidf = word_tfidf.sort_values(by=\"tfidf\", ascending=False)\n",
    "\n",
    "# Выводим топ-30 значимых слов и фраз\n",
    "print(\"\\n🔹 Топ-30 самых значимых слов/фраз в вопросительных предложениях:\")\n",
    "print(word_tfidf.head(30).reset_index(drop=True))\n"
   ]
  },
  {
   "cell_type": "markdown",
   "id": "a6dc7277",
   "metadata": {},
   "source": [
    "Если говорить о самых важных словах в вопросах, то это : <b>ads/ad, work, traffic, help"
   ]
  },
  {
   "cell_type": "code",
   "execution_count": 480,
   "id": "db4c8eb9",
   "metadata": {
    "scrolled": false
   },
   "outputs": [
    {
     "data": {
      "text/plain": [
       "16                                                                                                                                                                                                                                                                                                                                                                                                                   My tracker is Binom and I set up postback but it doesn't work and I don't see installs in my dashbord\n",
       "71                                                                                                                                                                                                                                                                                                                                                                                                                                                                                             how does this platform work\n",
       "98     Hi.explaine me about Work online by Using SmartPhone/Android\\nPhone/Laptop/Tab.Send to me A Video\\n\\n```\\nOn Fri, 28 Feb 2025, 1:03 am Rachael Terry, <rachael.terry@onclicka.com> wrote:\\n\\n> *Dear BIKSHAPATHI PERMANI!*\\n> *I’ve got a special offer to get you started!* Top up *$100* or more\\n> within the next *48 hours* and get *a 10% *bonus.\\n> Your bonus could help you reach many additional impressions, making it the\\n> perfect way to test and optimize your first campaign.\\n> Use the code:\\...\n",
       "119                                                                                                                                                                                                                                                                                                                                                                                                         Hello, I am from Iran, can I work with onclicka? Is there no limit? And can I receive an amount in usdt trc20?\n",
       "120                                                                                                                                                                                                                                                                                                                                                                                                         Hello, I am from Iran, can I work with onclicka? Is there no limit? And can I receive an amount in usdt trc20?\n",
       "169                                                                                                                                                                                                                                                                                                                                                              Good evening guys, I hope you are all well, I am very excited to work with you, I want to work as a publisher, can I get a direct link to send visits to?\n",
       "310                                                                                                                                                                                                                                                                                                                                                                                                                                                                                                           what is work\n",
       "318                                                                                                                                                                                                                                                                                                                                                                  i create mainstream links bt it shows adult ads plz can you plz clean my links completely from adult ads so i can work with these links tension free?\n",
       "343                                                                                                                                                                                                                                                                                                                                                                                                                                                     I am doing a little bit.\\nBut I don't know if it will work or not.\n",
       "361                                                                                                                                                                                                                                                                                                                                                                                                                            hey, do you think a campaign can work for APP games? Like the ones with referral rewards..?\n",
       "376                                                                                                                                                                                                                                                                                                                                                                       hi I deposited funds into Clickadilla using Cryptomus. When will those funds be visible in my Clickadilla account, or does this method not work?\n",
       "377                                                                                                                                                                                                                                                                                                       I deposited funds into Clickadilla using Cryptomus. I actually wrote in on March 7th, but I still don't see the funds in my Clickadilla account. When will those funds be visible, or does this method not work?\n",
       "441                                                                                                                                                                                                                                                                                                                                                                                                                                                                                                            how work it\n",
       "507                                                                                                                                                                                                                                                                                                                                                                                                                                            How to add ad codes to my website? and once added will they work instantly?\n",
       "509                                                                                                                                                                                                                                                                                                                                                                                                                                                                                 i just want to know how you guys work?\n",
       "599                                                                                                                                                                                                                                                                                                                                                                                                                                                                          i need to know about the ads how it will work\n",
       "Name: text, dtype: object"
      ]
     },
     "execution_count": 480,
     "metadata": {},
     "output_type": "execute_result"
    }
   ],
   "source": [
    "first_3[first_3['text'].str.contains(r'\\bwork\\b', case=False, na=False, regex=True)]['text']"
   ]
  },
  {
   "cell_type": "markdown",
   "id": "97860732",
   "metadata": {},
   "source": [
    "Видим что слово work используется только в контексте вопросов касающихся платформы"
   ]
  },
  {
   "cell_type": "markdown",
   "id": "f8f6ff28",
   "metadata": {},
   "source": [
    "##### Анализ капслока"
   ]
  },
  {
   "cell_type": "code",
   "execution_count": 458,
   "id": "61c9b0a3",
   "metadata": {},
   "outputs": [],
   "source": [
    "# Функция для детекции капслока\n",
    "def detect_capslock(text):\n",
    "    words = text.split()\n",
    "    total_words = len(words)\n",
    "    \n",
    "    if total_words == 0:\n",
    "        return \"No Text\"\n",
    "    \n",
    "    caps_words = sum(1 for word in words if word.isupper())  # Считаем капслочные слова\n",
    "    caps_ratio = caps_words / total_words  # Доля капслочных слов в тексте\n",
    "\n",
    "    if text.isupper():  # Если весь текст в капсе\n",
    "        return \"1\"\n",
    "    elif caps_ratio > 0.5:  # Если больше половины слов в капсе\n",
    "        return \">0.5\"\n",
    "    elif caps_ratio > 0:  # Если есть отдельные слова в капсе\n",
    "        return \">0\"\n",
    "    else:\n",
    "        return \"No Caps\"\n"
   ]
  },
  {
   "cell_type": "code",
   "execution_count": 460,
   "id": "06d261cb",
   "metadata": {},
   "outputs": [],
   "source": [
    "first_3['capslock_status'] = first_3['text'].apply(detect_capslock)"
   ]
  },
  {
   "cell_type": "code",
   "execution_count": 463,
   "id": "0068b256",
   "metadata": {},
   "outputs": [
    {
     "name": "stdout",
     "output_type": "stream",
     "text": [
      "Количество закапслоченных сообщений\n",
      " capslock_status\n",
      "No Caps    469\n",
      ">0         142\n",
      "1            6\n",
      ">0.5         1\n",
      "Name: count, dtype: int64\n"
     ]
    }
   ],
   "source": [
    "print(f'Количество закапслоченных сообщений\\n', first_3['capslock_status'].value_counts())"
   ]
  },
  {
   "cell_type": "markdown",
   "id": "eba88b0e",
   "metadata": {},
   "source": [
    "Три четверти сообщений написана без капслока, четверть с ним. Так же встречаются сообщения, полностью написанные капслоком"
   ]
  },
  {
   "cell_type": "code",
   "execution_count": 483,
   "id": "5adc87e5",
   "metadata": {},
   "outputs": [
    {
     "data": {
      "text/plain": [
       "171                               JUJU JIJI\n",
       "185    CAN YOU IGVE ME YOUR TRAFFIC QUALITY\n",
       "186                                DETAISLS\n",
       "278                                    BRUH\n",
       "323                                  TLG500\n",
       "415                                      HI\n",
       "Name: text, dtype: object"
      ]
     },
     "execution_count": 483,
     "metadata": {},
     "output_type": "execute_result"
    }
   ],
   "source": [
    "first_3[first_3['text'].str.isupper()]['text']"
   ]
  },
  {
   "cell_type": "markdown",
   "id": "ed04adf1",
   "metadata": {},
   "source": [
    "#### Выводы"
   ]
  },
  {
   "cell_type": "markdown",
   "id": "cd0a855e",
   "metadata": {},
   "source": [
    "Новореги поступают с логичными запросами к платформе, аномальных запросов не выявлено."
   ]
  }
 ],
 "metadata": {
  "kernelspec": {
   "display_name": "Python 3 (ipykernel)",
   "language": "python",
   "name": "python3"
  },
  "language_info": {
   "codemirror_mode": {
    "name": "ipython",
    "version": 3
   },
   "file_extension": ".py",
   "mimetype": "text/x-python",
   "name": "python",
   "nbconvert_exporter": "python",
   "pygments_lexer": "ipython3",
   "version": "3.12.3"
  },
  "toc": {
   "base_numbering": 1,
   "nav_menu": {},
   "number_sections": true,
   "sideBar": true,
   "skip_h1_title": false,
   "title_cell": "Table of Contents",
   "title_sidebar": "Contents",
   "toc_cell": false,
   "toc_position": {
    "height": "calc(100% - 180px)",
    "left": "10px",
    "top": "150px",
    "width": "384px"
   },
   "toc_section_display": true,
   "toc_window_display": true
  }
 },
 "nbformat": 4,
 "nbformat_minor": 5
}
