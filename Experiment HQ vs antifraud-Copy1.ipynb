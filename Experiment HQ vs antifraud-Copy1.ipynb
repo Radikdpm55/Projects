{
 "cells": [
  {
   "cell_type": "markdown",
   "id": "087eaac6",
   "metadata": {},
   "source": [
    "<font size=\"3\"> Анализ эксперимента HQ vs Antifraud </font>\n",
    "<br> <a href=\"https://docs.google.com/spreadsheets/d/14yqejqrCe4H1WuczPXyxnCKLIPP5MdQy/edit?gid=667110603#gid=667110603\">Отчет</a> "
   ]
  },
  {
   "cell_type": "markdown",
   "id": "737a6ea2",
   "metadata": {},
   "source": [
    "#### Подключение к базе"
   ]
  },
  {
   "cell_type": "code",
   "execution_count": 1,
   "id": "065e6d5d",
   "metadata": {},
   "outputs": [],
   "source": [
    "import os\n",
    "import pandas as pd\n",
    "import numpy as np\n",
    "import sqlalchemy as sql\n",
    "from sqlalchemy import create_engine"
   ]
  },
  {
   "cell_type": "code",
   "execution_count": 2,
   "id": "c561f5a6",
   "metadata": {},
   "outputs": [],
   "source": [
    "db_config = {\n",
    "'host': host,\n",
    "'port' : 3306,\n",
    "'db' : 'db',\n",
    "'user' : os.getenv('MYSQL_USER'),\n",
    "'pass' : os.getenv('MYSQL_PASSWORD'),\n",
    "}\n",
    " \n",
    "# connection_string = \"mysql+pymysql://<dbuser>:<pwd>@<server_ip>/<db_instance>\"\n",
    "connection_string = 'mysql+pymysql://{}:{}@{}/{}'.format(\n",
    "    db_config['user'],\n",
    "    db_config['pass'],\n",
    "    db_config['host'],\n",
    "    db_config['db'],\n",
    ")"
   ]
  },
  {
   "cell_type": "code",
   "execution_count": 3,
   "id": "3b068d60",
   "metadata": {},
   "outputs": [],
   "source": [
    "engine = create_engine(connection_string)"
   ]
  },
  {
   "cell_type": "code",
   "execution_count": 4,
   "id": "ef6a4328",
   "metadata": {},
   "outputs": [],
   "source": [
    "def select(sql):\n",
    "  return pd.read_sql(sql, con=engine)"
   ]
  },
  {
   "cell_type": "markdown",
   "id": "b4705f40",
   "metadata": {},
   "source": [
    "#### Sql-запросы"
   ]
  },
  {
   "cell_type": "markdown",
   "id": "c7b7c0a5",
   "metadata": {},
   "source": [
    "##### Для списка кампаний, учавствовавших в эксперименте"
   ]
  },
  {
   "cell_type": "code",
   "execution_count": 9,
   "id": "ad8ce241",
   "metadata": {},
   "outputs": [],
   "source": [
    "sql = '''\n",
    "select id\n",
    "FROM (SELECT DISTINCT campaigns.id,\n",
    "an.`name`,\n",
    "category_groups.name as category_group\n",
    "FROM campaigns\n",
    "JOIN campaign_statistics cs ON campaigns.id = cs.campaign_id\n",
    "LEFT JOIN category_group_targets on campaigns.id = category_group_targets.targetable_id AND category_group_targets.targetable_type LIKE '%%Campaign'\n",
    "LEFT JOIN category_group_category_group_target on category_group_targets.id = category_group_category_group_target.category_group_target_id\n",
    "LEFT JOIN category_groups on category_groups.id = category_group_category_group_target.category_group_id\n",
    "LEFT JOIN users u ON campaigns.user_id = u.id\n",
    "LEFT JOIN ad_networks an ON u.ad_network_id = an.id\n",
    "WHERE category_group_targets.deleted_at IS NULL\n",
    "AND campaigns.ad_format = 'popunder'\n",
    "AND campaigns.created_at >= '2025-04-28'\n",
    "AND date(cs.date) >= '2025-04-28'\n",
    "AND u.id NOT IN (SELECT DISTINCT user_id\n",
    "FROM networks)\n",
    "AND u.email NOT LIKE '%%onlinesup%%'\n",
    "AND campaigns.sale_type != 'direct sale'\n",
    "AND campaigns.id NOT IN (SELECT campaign_id\n",
    "          FROM antifraud_targets\n",
    "          WHERE enabled = 1\n",
    "            AND deleted_at IS NULL\n",
    "            AND created_at >= '2025-04-28'\n",
    "      )\n",
    "HAVING category_group = 'Adult'\n",
    "AND NAME = 'Clickadilla'\n",
    "AND campaigns.id NOT IN (SELECT campaign_id\n",
    "          FROM antifraud_targets\n",
    "          WHERE enabled = 1\n",
    "            AND deleted_at IS NULL\n",
    "            AND created_at >= '2025-04-28'\n",
    "      )) AS t\n",
    "      '''"
   ]
  },
  {
   "cell_type": "code",
   "execution_count": 12,
   "id": "e1845ad2",
   "metadata": {},
   "outputs": [],
   "source": [
    "df_id = select(sql)"
   ]
  },
  {
   "cell_type": "code",
   "execution_count": 114,
   "id": "bec07bfd",
   "metadata": {},
   "outputs": [],
   "source": [
    "import clickhouse_connect\n",
    "\n",
    "client = clickhouse_connect.get_client(\n",
    "    host='host',\n",
    "    port=8123,\n",
    "    username='name',\n",
    "    password='pass'\n",
    ")"
   ]
  },
  {
   "cell_type": "markdown",
   "id": "ecff2e60",
   "metadata": {},
   "source": [
    "##### Подключение к Кликхаусу"
   ]
  },
  {
   "cell_type": "code",
   "execution_count": 13,
   "id": "e95ee188",
   "metadata": {},
   "outputs": [],
   "source": [
    "id_list = df_id['id'].tolist()"
   ]
  },
  {
   "cell_type": "code",
   "execution_count": 142,
   "id": "26a4658b",
   "metadata": {},
   "outputs": [],
   "source": [
    "# функция для обработки списка из 18000 айди и фильтра для другого запроса"
   ]
  },
  {
   "cell_type": "code",
   "execution_count": 16,
   "id": "e904d8da",
   "metadata": {},
   "outputs": [],
   "source": [
    "# Чанки по 1000 ID\n",
    "chunk_size = 1000\n",
    "id_chunks = [id_list[i:i+chunk_size] for i in range(0, len(id_list), chunk_size)]\n",
    "\n",
    "results = []\n",
    "\n",
    "# Запросы по чанкам\n",
    "for chunk in id_chunks:\n",
    "    ids_str = ','.join(str(i) for i in chunk)\n",
    "    query = f\"\"\"\n",
    "    select clickadilla_campaign_id,\n",
    "count() as shows,\n",
    "sum(clickadilla_price/10000) as spend,\n",
    "(uniq(ip) / count()) * 100 as uniqs,\n",
    "if(countIf(browser_family in ('chrome','spartan','opera','','yandex'))>1000,(countIf(is_sec=0 and browser_family in ('chrome','spartan','opera','','yandex'))/countIf(browser_family in ('chrome','spartan','opera','','yandex')))*100 , 0) as bots,\n",
    "(countIf(usage_type in ('CDN', 'Commercial', 'Datacentre/Hosting')) / count()) * 100 as bad_ip\n",
    "from visitstats.tds_out\n",
    "prewhere clickadilla_campaign_id in ({ids_str})\n",
    "where stats_day >= '2025-04-28'\n",
    "and is_external_ssp != 1\n",
    "group by clickadilla_campaign_id\n",
    "    \"\"\"\n",
    "    df_part = client.query_df(query)\n",
    "    results.append(df_part)\n",
    "\n",
    "# Объединить все части\n",
    "final_df = pd.concat(results, ignore_index=True)\n"
   ]
  },
  {
   "cell_type": "code",
   "execution_count": 19,
   "id": "0465192e",
   "metadata": {},
   "outputs": [],
   "source": [
    "final_df['shows'] = final_df['shows'].astype('int64')"
   ]
  },
  {
   "cell_type": "code",
   "execution_count": 22,
   "id": "997db73b",
   "metadata": {},
   "outputs": [],
   "source": [
    "final_df['spend_true'] = final_df['spend'] * 10"
   ]
  },
  {
   "cell_type": "code",
   "execution_count": 24,
   "id": "ff1bdd9f",
   "metadata": {},
   "outputs": [
    {
     "data": {
      "text/plain": [
       "78175.40822943501"
      ]
     },
     "execution_count": 24,
     "metadata": {},
     "output_type": "execute_result"
    }
   ],
   "source": [
    "final_df['spend_true']"
   ]
  },
  {
   "cell_type": "markdown",
   "id": "abc41d1e",
   "metadata": {},
   "source": [
    "##### Запрос для Онклика"
   ]
  },
  {
   "cell_type": "code",
   "execution_count": 39,
   "id": "753b8ed3",
   "metadata": {},
   "outputs": [],
   "source": [
    "query_on = '''\n",
    "select id\n",
    "FROM (SELECT DISTINCT campaigns.id,\n",
    "an.`name`,\n",
    "category_groups.name as category_group\n",
    "FROM campaigns\n",
    "JOIN campaign_statistics cs ON campaigns.id = cs.campaign_id\n",
    "LEFT JOIN category_group_targets on campaigns.id = category_group_targets.targetable_id AND category_group_targets.targetable_type LIKE '%%Campaign'\n",
    "LEFT JOIN category_group_category_group_target on category_group_targets.id = category_group_category_group_target.category_group_target_id\n",
    "LEFT JOIN category_groups on category_groups.id = category_group_category_group_target.category_group_id\n",
    "LEFT JOIN users u ON campaigns.user_id = u.id\n",
    "LEFT JOIN ad_networks an ON u.ad_network_id = an.id\n",
    "WHERE category_group_targets.deleted_at IS NULL\n",
    "AND campaigns.ad_format = 'popunder'\n",
    "AND campaigns.created_at >= '2025-04-28'\n",
    "AND date(cs.date) >= '2025-04-28'\n",
    "AND u.id NOT IN (SELECT DISTINCT user_id\n",
    "FROM networks)\n",
    "AND u.email NOT LIKE '%%onlinesup%%'\n",
    "AND campaigns.sale_type != 'direct sale'\n",
    "AND campaigns.id IN (SELECT campaign_id\n",
    "          FROM antifraud_targets\n",
    "          WHERE enabled = 1\n",
    "            AND deleted_at IS NULL\n",
    "            AND created_at >= '2025-04-28'\n",
    "      )\n",
    "HAVING category_group = 'Adult' AND an.name = 'Onclicka') AS t\n",
    "'''"
   ]
  },
  {
   "cell_type": "code",
   "execution_count": 40,
   "id": "a3e84133",
   "metadata": {},
   "outputs": [],
   "source": [
    "df_on = select(query_on)"
   ]
  },
  {
   "cell_type": "code",
   "execution_count": 41,
   "id": "1f268520",
   "metadata": {},
   "outputs": [],
   "source": [
    "id_list2 = df_on['id'].tolist()"
   ]
  },
  {
   "cell_type": "code",
   "execution_count": 42,
   "id": "a2d320b8",
   "metadata": {},
   "outputs": [],
   "source": [
    "# Чанки по 1000 ID\n",
    "chunk_size = 1000\n",
    "id_chunks = [id_list2[i:i+chunk_size] for i in range(0, len(id_list2), chunk_size)]\n",
    "\n",
    "results = []\n",
    "\n",
    "# Запросы по чанкам\n",
    "for chunk in id_chunks:\n",
    "    ids_str = ','.join(str(i) for i in chunk)\n",
    "    query = f\"\"\"\n",
    "    select clickadilla_campaign_id,\n",
    "count() as shows,\n",
    "sum(clickadilla_price/1000) as spend,\n",
    "(uniq(ip) / count()) * 100 as uniqs,\n",
    "if(countIf(browser_family in ('chrome','spartan','opera','','yandex'))>1000,(countIf(is_sec=0 and browser_family in ('chrome','spartan','opera','','yandex'))/countIf(browser_family in ('chrome','spartan','opera','','yandex')))*100 , 0) as bots,\n",
    "(countIf(usage_type in ('CDN', 'Commercial', 'Datacentre/Hosting')) / count()) * 100 as bad_ip\n",
    "from visitstats.tds_out\n",
    "prewhere clickadilla_campaign_id in ({ids_str})\n",
    "where stats_day >= '2025-04-28'\n",
    "and is_external_ssp != 1\n",
    "group by clickadilla_campaign_id\n",
    "    \"\"\"\n",
    "    df_part = client.query_df(query)\n",
    "    results.append(df_part)\n",
    "\n",
    "# Объединить все части\n",
    "df_on_final = pd.concat(results, ignore_index=True)"
   ]
  },
  {
   "cell_type": "code",
   "execution_count": 43,
   "id": "4e0c637d",
   "metadata": {
    "scrolled": false
   },
   "outputs": [
    {
     "data": {
      "text/html": [
       "<div>\n",
       "<style scoped>\n",
       "    .dataframe tbody tr th:only-of-type {\n",
       "        vertical-align: middle;\n",
       "    }\n",
       "\n",
       "    .dataframe tbody tr th {\n",
       "        vertical-align: top;\n",
       "    }\n",
       "\n",
       "    .dataframe thead th {\n",
       "        text-align: right;\n",
       "    }\n",
       "</style>\n",
       "<table border=\"1\" class=\"dataframe\">\n",
       "  <thead>\n",
       "    <tr style=\"text-align: right;\">\n",
       "      <th></th>\n",
       "      <th>clickadilla_campaign_id</th>\n",
       "      <th>shows</th>\n",
       "      <th>spend</th>\n",
       "      <th>uniqs</th>\n",
       "      <th>bots</th>\n",
       "      <th>bad_ip</th>\n",
       "    </tr>\n",
       "  </thead>\n",
       "  <tbody>\n",
       "    <tr>\n",
       "      <th>0</th>\n",
       "      <td>392614</td>\n",
       "      <td>4304</td>\n",
       "      <td>0.60256</td>\n",
       "      <td>95.655204</td>\n",
       "      <td>7.363876</td>\n",
       "      <td>1.881970</td>\n",
       "    </tr>\n",
       "    <tr>\n",
       "      <th>1</th>\n",
       "      <td>393640</td>\n",
       "      <td>5408</td>\n",
       "      <td>0.75712</td>\n",
       "      <td>93.047337</td>\n",
       "      <td>10.243902</td>\n",
       "      <td>2.496302</td>\n",
       "    </tr>\n",
       "    <tr>\n",
       "      <th>2</th>\n",
       "      <td>391158</td>\n",
       "      <td>30226</td>\n",
       "      <td>3.02260</td>\n",
       "      <td>41.087144</td>\n",
       "      <td>10.606974</td>\n",
       "      <td>4.635082</td>\n",
       "    </tr>\n",
       "    <tr>\n",
       "      <th>3</th>\n",
       "      <td>392546</td>\n",
       "      <td>5513</td>\n",
       "      <td>0.77182</td>\n",
       "      <td>97.206603</td>\n",
       "      <td>7.402549</td>\n",
       "      <td>1.251587</td>\n",
       "    </tr>\n",
       "    <tr>\n",
       "      <th>4</th>\n",
       "      <td>392295</td>\n",
       "      <td>4638</td>\n",
       "      <td>0.64932</td>\n",
       "      <td>95.709357</td>\n",
       "      <td>8.121374</td>\n",
       "      <td>0.927124</td>\n",
       "    </tr>\n",
       "    <tr>\n",
       "      <th>...</th>\n",
       "      <td>...</td>\n",
       "      <td>...</td>\n",
       "      <td>...</td>\n",
       "      <td>...</td>\n",
       "      <td>...</td>\n",
       "      <td>...</td>\n",
       "    </tr>\n",
       "    <tr>\n",
       "      <th>3729</th>\n",
       "      <td>405846</td>\n",
       "      <td>4043</td>\n",
       "      <td>0.36387</td>\n",
       "      <td>76.057383</td>\n",
       "      <td>14.061592</td>\n",
       "      <td>6.826614</td>\n",
       "    </tr>\n",
       "    <tr>\n",
       "      <th>3730</th>\n",
       "      <td>404649</td>\n",
       "      <td>7030</td>\n",
       "      <td>0.70300</td>\n",
       "      <td>92.574680</td>\n",
       "      <td>15.650768</td>\n",
       "      <td>9.274538</td>\n",
       "    </tr>\n",
       "    <tr>\n",
       "      <th>3731</th>\n",
       "      <td>405460</td>\n",
       "      <td>2028</td>\n",
       "      <td>0.18252</td>\n",
       "      <td>96.992110</td>\n",
       "      <td>14.716981</td>\n",
       "      <td>5.571992</td>\n",
       "    </tr>\n",
       "    <tr>\n",
       "      <th>3732</th>\n",
       "      <td>404958</td>\n",
       "      <td>2030</td>\n",
       "      <td>0.18270</td>\n",
       "      <td>95.320197</td>\n",
       "      <td>18.950749</td>\n",
       "      <td>7.389163</td>\n",
       "    </tr>\n",
       "    <tr>\n",
       "      <th>3733</th>\n",
       "      <td>414617</td>\n",
       "      <td>203233</td>\n",
       "      <td>132.10145</td>\n",
       "      <td>86.581904</td>\n",
       "      <td>11.200283</td>\n",
       "      <td>2.550275</td>\n",
       "    </tr>\n",
       "  </tbody>\n",
       "</table>\n",
       "<p>3734 rows × 6 columns</p>\n",
       "</div>"
      ],
      "text/plain": [
       "      clickadilla_campaign_id   shows      spend      uniqs       bots  \\\n",
       "0                      392614    4304    0.60256  95.655204   7.363876   \n",
       "1                      393640    5408    0.75712  93.047337  10.243902   \n",
       "2                      391158   30226    3.02260  41.087144  10.606974   \n",
       "3                      392546    5513    0.77182  97.206603   7.402549   \n",
       "4                      392295    4638    0.64932  95.709357   8.121374   \n",
       "...                       ...     ...        ...        ...        ...   \n",
       "3729                   405846    4043    0.36387  76.057383  14.061592   \n",
       "3730                   404649    7030    0.70300  92.574680  15.650768   \n",
       "3731                   405460    2028    0.18252  96.992110  14.716981   \n",
       "3732                   404958    2030    0.18270  95.320197  18.950749   \n",
       "3733                   414617  203233  132.10145  86.581904  11.200283   \n",
       "\n",
       "        bad_ip  \n",
       "0     1.881970  \n",
       "1     2.496302  \n",
       "2     4.635082  \n",
       "3     1.251587  \n",
       "4     0.927124  \n",
       "...        ...  \n",
       "3729  6.826614  \n",
       "3730  9.274538  \n",
       "3731  5.571992  \n",
       "3732  7.389163  \n",
       "3733  2.550275  \n",
       "\n",
       "[3734 rows x 6 columns]"
      ]
     },
     "execution_count": 43,
     "metadata": {},
     "output_type": "execute_result"
    }
   ],
   "source": [
    "df_on_final"
   ]
  },
  {
   "cell_type": "markdown",
   "id": "fa4bd698",
   "metadata": {},
   "source": [
    "#### Скоринг качества трафика"
   ]
  },
  {
   "cell_type": "code",
   "execution_count": null,
   "id": "a26f0422",
   "metadata": {},
   "outputs": [],
   "source": [
    "# функция для определения качества трафика"
   ]
  },
  {
   "cell_type": "code",
   "execution_count": 137,
   "id": "6c865fd3",
   "metadata": {},
   "outputs": [],
   "source": [
    "def calculate_quality_score(df, thresholds=None):\n",
    "    \"\"\"\n",
    "    Расчёт quality_score_2 с метриками:\n",
    "    - 'uniqs': more is better\n",
    "    - 'bad_ip': less is better\n",
    "    - 'bots': less is better (идеально — 0)\n",
    "    Используется сглаженное отклонение от порогов:\n",
    "    - score = 0.5 → на пороге\n",
    "    - >0.5 → лучше нормы\n",
    "    - <0.5 → хуже нормы\n",
    "    \"\"\"\n",
    "\n",
    "    if thresholds is None:\n",
    "        thresholds = {'uniqs': 80, 'bad_ip': 60, 'bots': 5}\n",
    "\n",
    "    def normalize_metric(value, threshold, direction):\n",
    "        if value == 0:\n",
    "            value = 1e-6  # защита от деления на 0\n",
    "\n",
    "        if direction == 'less_is_better':\n",
    "            ratio = threshold / value\n",
    "        elif direction == 'more_is_better':\n",
    "            ratio = value / threshold\n",
    "        else:\n",
    "            return None\n",
    "\n",
    "        score = (ratio ** 0.5) / 2\n",
    "        return min(score, 1.0)\n",
    "\n",
    "    def compute_score(row):\n",
    "        scores = [\n",
    "            normalize_metric(row['uniqs'], thresholds['uniqs'], 'more_is_better'),\n",
    "            normalize_metric(row['bad_ip'], thresholds['bad_ip'], 'less_is_better'),\n",
    "            1.0 if row['bots'] == 0 else normalize_metric(row['bots'], thresholds['bots'], 'less_is_better')\n",
    "        ]\n",
    "        avg_score = sum(scores) / len(scores)\n",
    "        spend = row['spend']\n",
    "        good_spend = avg_score * spend\n",
    "        bad_spend = spend - good_spend\n",
    "        return pd.Series({\n",
    "            'quality_score': avg_score,\n",
    "            'good_spend': good_spend,\n",
    "            'bad_spend': bad_spend\n",
    "        })\n",
    "\n",
    "    scores = df.apply(compute_score, axis=1)\n",
    "    return pd.concat([df, scores], axis=1)\n"
   ]
  },
  {
   "cell_type": "code",
   "execution_count": 47,
   "id": "84e68e7f",
   "metadata": {
    "scrolled": true
   },
   "outputs": [
    {
     "name": "stdout",
     "output_type": "stream",
     "text": [
      "29842.74395081965\n",
      "11042.104763377492\n",
      "18800.639187442153\n"
     ]
    }
   ],
   "source": [
    "scored_df_on = calculate_quality_score(df_on_final)"
   ]
  },
  {
   "cell_type": "code",
   "execution_count": 134,
   "id": "ba702059",
   "metadata": {},
   "outputs": [],
   "source": [
    "scored_ca = calculate_quality_score(final_df)\n",
    "\n",
    "# Получаем три новых колонки:\n",
    "# - quality_score\n",
    "# - good_spend\n",
    "# - bad_spend\n",
    "\n",
    "# Сводка:\n",
    "print(scored_ca['spend'].sum())\n",
    "print(scored_ca['good_spend'].sum())\n",
    "print(scored_ca['bad_spend'].sum())"
   ]
  },
  {
   "cell_type": "code",
   "execution_count": 135,
   "id": "df117ea6",
   "metadata": {},
   "outputs": [
    {
     "data": {
      "text/plain": [
       "0.782882352474988"
      ]
     },
     "execution_count": 135,
     "metadata": {},
     "output_type": "execute_result"
    }
   ],
   "source": [
    "scored_ca['quality_score'].mean()"
   ]
  },
  {
   "cell_type": "code",
   "execution_count": 138,
   "id": "815b60af",
   "metadata": {},
   "outputs": [],
   "source": [
    "scored_on = calculate_quality_score(df_on_final)"
   ]
  },
  {
   "cell_type": "code",
   "execution_count": 139,
   "id": "0133e54f",
   "metadata": {},
   "outputs": [
    {
     "data": {
      "text/plain": [
       "0.6459969001741136"
      ]
     },
     "execution_count": 139,
     "metadata": {},
     "output_type": "execute_result"
    }
   ],
   "source": [
    "scored_on['quality_score'].mean()"
   ]
  },
  {
   "cell_type": "markdown",
   "id": "34249196",
   "metadata": {},
   "source": [
    "#### Сравнение средних"
   ]
  },
  {
   "cell_type": "code",
   "execution_count": 59,
   "id": "a8b32ee7",
   "metadata": {},
   "outputs": [],
   "source": [
    "from scipy.stats import ttest_ind"
   ]
  },
  {
   "cell_type": "code",
   "execution_count": 140,
   "id": "3cdeb430",
   "metadata": {},
   "outputs": [
    {
     "name": "stdout",
     "output_type": "stream",
     "text": [
      "Group A (CA) mean: 0.7829\n",
      "Group B (ON) mean: 0.6460\n",
      "P-value: 0.0000\n",
      "Разница статистически значима (p < 0.05)\n"
     ]
    }
   ],
   "source": [
    "# T-test\n",
    "t_stat, p_val = ttest_ind(scored_ca['quality_score'], scored_on['quality_score'], equal_var=False)\n",
    "\n",
    "print(f\"Group A (CA) mean: {scored_ca['quality_score'].mean():.4f}\")\n",
    "print(f\"Group B (ON) mean: {scored_on['quality_score'].mean():.4f}\")\n",
    "print(f\"P-value: {p_val:.4f}\")\n",
    "if p_val < 0.05:\n",
    "    print(\"Разница статистически значима (p < 0.05)\")\n",
    "else:\n",
    "    print(\"Разница НЕ статистически значима\")\n"
   ]
  },
  {
   "cell_type": "markdown",
   "id": "79f2f130",
   "metadata": {},
   "source": [
    "##### Доверительные интервалы"
   ]
  },
  {
   "cell_type": "code",
   "execution_count": 68,
   "id": "1fb5671f",
   "metadata": {},
   "outputs": [],
   "source": [
    "import numpy as np\n",
    "import scipy.stats as stats\n",
    "\n",
    "def confidence_interval(series, confidence=0.95):\n",
    "    n = len(series)\n",
    "    mean = np.mean(series)\n",
    "    stderr = stats.sem(series)  # стандартная ошибка среднего\n",
    "    margin = stderr * stats.t.ppf((1 + confidence) / 2., n - 1)\n",
    "    return mean, mean - margin, mean + margin"
   ]
  },
  {
   "cell_type": "code",
   "execution_count": 141,
   "id": "7123c05a",
   "metadata": {},
   "outputs": [
    {
     "name": "stdout",
     "output_type": "stream",
     "text": [
      "Group A: mean=0.7829, 95% CI=(0.7814, 0.7844)\n",
      "Group B: mean=0.6460, 95% CI=(0.6437, 0.6483)\n"
     ]
    }
   ],
   "source": [
    "mean_a, ci_low_a, ci_high_a = confidence_interval(scored_ca['quality_score'])\n",
    "mean_b, ci_low_b, ci_high_b = confidence_interval(scored_on['quality_score'])\n",
    "\n",
    "print(f\"Group A: mean={mean_a:.4f}, 95% CI=({ci_low_a:.4f}, {ci_high_a:.4f})\")\n",
    "print(f\"Group B: mean={mean_b:.4f}, 95% CI=({ci_low_b:.4f}, {ci_high_b:.4f})\")\n"
   ]
  },
  {
   "cell_type": "markdown",
   "id": "2ea3ce87",
   "metadata": {},
   "source": [
    "**Интерпретация:**\n",
    "Интервалы не пересекаются:\n",
    "\n",
    "Верхняя граница Group B: 0.3496\n",
    "\n",
    "Нижняя граница Group A: 0.5303\n",
    "\n",
    "Разница между группами статистически значима\n",
    "\n",
    "Среднее значение в Group A существенно выше, чем в Group B\n",
    "\n",
    "Интервалы узкие → значит, выборки большие и/или разброс значений невелик\n",
    "Это делает сравнение надёжным и устойчивым\n",
    "\n",
    "**Вывод:**\n",
    "Трафик в группе A статистически и практически качественнее, чем в группе B по метрике quality_score\n",
    "\n",
    "Это не просто «на глаз», это подтверждено:\n",
    "\n",
    "строгим разделением интервалов,\n",
    "\n",
    "узкими границами (низкая ошибка),\n",
    "\n",
    "достаточным числом кампаний."
   ]
  }
 ],
 "metadata": {
  "kernelspec": {
   "display_name": "Python 3 (ipykernel)",
   "language": "python",
   "name": "python3"
  },
  "language_info": {
   "codemirror_mode": {
    "name": "ipython",
    "version": 3
   },
   "file_extension": ".py",
   "mimetype": "text/x-python",
   "name": "python",
   "nbconvert_exporter": "python",
   "pygments_lexer": "ipython3",
   "version": "3.12.3"
  },
  "toc": {
   "base_numbering": 1,
   "nav_menu": {},
   "number_sections": true,
   "sideBar": true,
   "skip_h1_title": false,
   "title_cell": "Table of Contents",
   "title_sidebar": "Contents",
   "toc_cell": false,
   "toc_position": {},
   "toc_section_display": true,
   "toc_window_display": true
  }
 },
 "nbformat": 4,
 "nbformat_minor": 5
}
