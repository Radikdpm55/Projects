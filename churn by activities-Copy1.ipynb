{
 "cells": [
  {
   "cell_type": "markdown",
   "id": "7e4873ed",
   "metadata": {},
   "source": [
    "<font size=\"3\"> Проект <font size=\"4\"> \"Активность пользователя в ЛК - анализ оттока\""
   ]
  },
  {
   "cell_type": "markdown",
   "id": "3c928209",
   "metadata": {},
   "source": [
    "_Описание_\n",
    "\n",
    "**Проверяем 2 гипотезы:**\n",
    "\n",
    "активный пользователь более опытен, знает как получить желаемое, не склонен быстро уходить с платформы\n",
    "\n",
    "активный пользователь быстрее понимает, что результаты плохие - и уходит\n",
    "\n",
    "**Группы по признакам:**\n",
    "\n",
    "частота захода в ЛК (по логам авторизации) - исключаем админов и авторизацию с офисного IP\n",
    "\n",
    "количество используемых форматов. Разделяем popunder, banner, in-stream, in-page, web-push и other (в other относим native ad, gallery, notification widget и прочую мелочь. ТМА в отдельный формат не выделяем\n",
    "\n",
    "количество созданных кампаний\n",
    "\n",
    "количество редактирований кампании (любых) - по логам, редактирование только юзером\n",
    "\n",
    "количество редактирований ставки (price) - аналогично. Автоаджаст не в счет. Если в какой-то когорте много юзеров на автоаджасте - возможно стоит их выделить в отдельную группу.\n",
    "\n",
    "количество редактирований таргетов (target) - аналогично\n",
    "\n",
    "Все действия (заход в ЛК, создание кампании или редактирование) должны происходить именно в тот период, когда мы присвоили пользователю метку - churned / not churned, то есть по сути совпадать с границами когорты.\n",
    "Пример: когорта июня (01.06.2025) - для кадого пользователя этой когорты нам нужно посчитать сколько кампаний он создал за период с 01.06.2025 по 30.06.2025 включительно. Все, что происходило за рамками этого периода - нам не интересно.\n",
    "Для задачи с редактированием кампаний, цен и таргетов - нас интересуют действия пользователя, произошедшие в границах когорты. Ограничения по дате создания кампании нет. Здесь количество когорт ограничится теми месяцами, которые попали в логи. По сути мы можем проанализировать только когорту мая, июня и июля.\n",
    "\n",
    "Показатели считаем поюзерно. Далее вычисляем среднее значение по группе. \n",
    "\n",
    "Группы формируем по корзинам.\n",
    "Пример групп по количеству созданных капманий:\n",
    "\n",
    "1 кампания \n",
    "\n",
    "2 - 5 кампаний\n",
    "\n",
    "6 - 20 кампаний\n",
    "\n",
    "21+ кампаний (скорее всего работает через API)\n",
    "\n",
    "Размер корзин аналитик определяет экспертно исходя из распределения данных.\n",
    "\n",
    "_Итоговая цель: найти сегменты (группы, подгруппы), в которых доля оттока выше - там будем в последующем искать причины._\n",
    "\n",
    "**Методика работы:**\n",
    "\n",
    "Делим клиентов на группы\n",
    "\n",
    "Считаем размер групп в юзерах и в %.\n",
    "\n",
    "Считаем долю оттока в каждой группе.\n",
    "\n",
    "Выделяем группы, которые кажутся нам аномальными, описываем, делаем выводы"
   ]
  },
  {
   "cell_type": "markdown",
   "id": "fa9d5483",
   "metadata": {},
   "source": [
    "#### Подключение к БД и импорты библиотек"
   ]
  },
  {
   "cell_type": "code",
   "execution_count": 2,
   "id": "91afc34e",
   "metadata": {},
   "outputs": [],
   "source": [
    "import os\n",
    "import pandas as pd\n",
    "import numpy as np\n",
    "import sqlalchemy as sql\n",
    "from sqlalchemy import create_engine"
   ]
  },
  {
   "cell_type": "code",
   "execution_count": 3,
   "id": "2acff5bf",
   "metadata": {},
   "outputs": [],
   "source": [
    "db_config = {\n",
    "'host': 'host',\n",
    "'port' : 3306,\n",
    "'db' : 'db',\n",
    "'user' : os.getenv('MYSQL_USER'),\n",
    "'pass' : os.getenv('MYSQL_PASSWORD'),\n",
    "}\n",
    " \n",
    "# connection_string = \"mysql+pymysql://<dbuser>:<pwd>@<server_ip>/<db_instance>\"\n",
    "connection_string = 'mysql+pymysql://{}:{}@{}/{}'.format(\n",
    "    db_config['user'],\n",
    "    db_config['pass'],\n",
    "    db_config['host'],\n",
    "    db_config['db'],\n",
    ")"
   ]
  },
  {
   "cell_type": "code",
   "execution_count": 4,
   "id": "a7b8fd22",
   "metadata": {},
   "outputs": [],
   "source": [
    "engine = create_engine(connection_string)"
   ]
  },
  {
   "cell_type": "code",
   "execution_count": 5,
   "id": "53f6291d",
   "metadata": {},
   "outputs": [],
   "source": [
    "def select(sql):\n",
    "  return pd.read_sql(sql, con=engine)"
   ]
  },
  {
   "cell_type": "markdown",
   "id": "51b01b78",
   "metadata": {},
   "source": [
    "#### SQL-запросы"
   ]
  },
  {
   "cell_type": "code",
   "execution_count": 73,
   "id": "0ed58613",
   "metadata": {},
   "outputs": [],
   "source": [
    "sql = '''\n",
    "WITH first_spend AS (\n",
    "  SELECT \n",
    "    payments.user_id,\n",
    "    DATE_FORMAT(DATE_ADD(MIN(payments.created_at), INTERVAL 1 MONTH), '%%Y-%%m-01') AS cohort_month\n",
    "  FROM payments\n",
    "  LEFT JOIN users u ON payments.user_id = u.id\n",
    "  WHERE payments.type = 'campaign'\n",
    "    AND DATE(u.created_at) BETWEEN %(start_date)s AND %(end_date)s\n",
    "  GROUP BY payments.user_id\n",
    "  HAVING DATE_FORMAT(DATE_ADD(MIN(payments.created_at), INTERVAL 1 MONTH), '%%Y-%%m-01') <= DATE_FORMAT(CURDATE(), '%%Y-%%m-01')\n",
    "),\n",
    "\n",
    "cohort_checkpoints AS (\n",
    "  SELECT \n",
    "    user_id,\n",
    "    cohort_month,\n",
    "    cohort_month AS check_month_start,\n",
    "    LAST_DAY(cohort_month) AS check_month_end\n",
    "  FROM first_spend\n",
    "),\n",
    "\n",
    "recent_spend AS (\n",
    "  SELECT \n",
    "    cc.user_id,\n",
    "    cc.cohort_month,\n",
    "    cc.check_month_end,\n",
    "    MAX(p.created_at) AS last_spend\n",
    "  FROM cohort_checkpoints cc\n",
    "  LEFT JOIN payments p\n",
    "    ON p.user_id = cc.user_id\n",
    "   AND p.type = 'campaign'\n",
    "   AND p.created_at BETWEEN cc.check_month_start AND cc.check_month_end\n",
    "  GROUP BY cc.user_id, cc.cohort_month, cc.check_month_end\n",
    "),\n",
    "\n",
    "classified AS (\n",
    "  SELECT \n",
    "    cohort_month,\n",
    "    user_id,\n",
    "    CASE \n",
    "      WHEN last_spend >= DATE_SUB(check_month_end, INTERVAL 14 DAY) THEN 0\n",
    "      ELSE 1\n",
    "    END AS is_churned\n",
    "  FROM recent_spend\n",
    "),\n",
    "\n",
    "first_spend_true AS (\n",
    "  SELECT \n",
    "    payments.user_id,\n",
    "    MIN(payments.created_at) AS first_spend\n",
    "  FROM payments\n",
    "  LEFT JOIN users u ON payments.user_id = u.id\n",
    "  WHERE payments.type = 'campaign'\n",
    "    AND DATE(u.created_at) BETWEEN '2024-12-01' AND '2025-06-30'\n",
    "  GROUP BY payments.user_id\n",
    "),\n",
    "\n",
    "logins_window AS (\n",
    "  SELECT \n",
    "    al.user_id,\n",
    "    COUNT(*) AS cnt_logins\n",
    "  FROM auth_logins al\n",
    "  JOIN first_spend_true fs ON al.user_id = fs.user_id\n",
    "  JOIN first_spend fsp ON al.user_id = fsp.user_id\n",
    "  WHERE al.user_type LIKE '%%User%%'\n",
    "    AND al.created_at <= LAST_DAY(fsp.cohort_month)\n",
    "    AND al.ip_address NOT IN ('52.18.41.245', '54.194.2.114', '99.80.49.98', '109.206.170.203')\n",
    "  GROUP BY al.user_id\n",
    "),\n",
    "\n",
    "camps_window AS (\n",
    "  SELECT \n",
    "    c.user_id,\n",
    "    COUNT(DISTINCT c.ad_format) AS cnt_formats,\n",
    "    COUNT(*) AS cnt_camps_created\n",
    "  FROM campaigns c\n",
    "  JOIN first_spend_true fs ON c.user_id = fs.user_id\n",
    "  JOIN first_spend fsp ON c.user_id = fsp.user_id\n",
    "  WHERE c.created_at <= LAST_DAY(fsp.cohort_month)\n",
    "  GROUP BY c.user_id\n",
    ")\n",
    "\n",
    "SELECT \n",
    "  classified.user_id,\n",
    "  classified.cohort_month,\n",
    "  classified.is_churned,\n",
    "  COALESCE(logins_window.cnt_logins, 0) AS cnt_logins,\n",
    "  camps_window.cnt_formats,\n",
    "  camps_window.cnt_camps_created,\n",
    "  camps_window.cnt_camps_created/camps_window.cnt_formats AS avg_camps_on_format\n",
    "FROM classified\n",
    "LEFT JOIN users u ON classified.user_id = u.id\n",
    "LEFT JOIN logins_window ON classified.user_id = logins_window.user_id\n",
    "LEFT JOIN camps_window ON classified.user_id = camps_window.user_id\n",
    "WHERE u.email NOT LIKE '%%onlinesup%%'\n",
    "'''"
   ]
  },
  {
   "cell_type": "code",
   "execution_count": 17,
   "id": "f47f0e7f",
   "metadata": {},
   "outputs": [],
   "source": [
    "params = {\n",
    "    'start_date': '2024-12-01',\n",
    "    'end_date': '2025-06-30'\n",
    "}"
   ]
  },
  {
   "cell_type": "code",
   "execution_count": 74,
   "id": "1da20c31",
   "metadata": {},
   "outputs": [],
   "source": [
    "df = pd.read_sql(sql, con=engine, params=params)"
   ]
  },
  {
   "cell_type": "code",
   "execution_count": 40,
   "id": "ebe38495",
   "metadata": {},
   "outputs": [
    {
     "data": {
      "text/html": [
       "<div>\n",
       "<style scoped>\n",
       "    .dataframe tbody tr th:only-of-type {\n",
       "        vertical-align: middle;\n",
       "    }\n",
       "\n",
       "    .dataframe tbody tr th {\n",
       "        vertical-align: top;\n",
       "    }\n",
       "\n",
       "    .dataframe thead th {\n",
       "        text-align: right;\n",
       "    }\n",
       "</style>\n",
       "<table border=\"1\" class=\"dataframe\">\n",
       "  <thead>\n",
       "    <tr style=\"text-align: right;\">\n",
       "      <th></th>\n",
       "      <th>user_id</th>\n",
       "      <th>cohort_month</th>\n",
       "      <th>is_churned</th>\n",
       "      <th>cnt_logins</th>\n",
       "      <th>cnt_formats</th>\n",
       "      <th>cnt_camps_created</th>\n",
       "    </tr>\n",
       "  </thead>\n",
       "  <tbody>\n",
       "    <tr>\n",
       "      <th>0</th>\n",
       "      <td>173476</td>\n",
       "      <td>2025-03-01</td>\n",
       "      <td>1</td>\n",
       "      <td>8</td>\n",
       "      <td>1</td>\n",
       "      <td>1</td>\n",
       "    </tr>\n",
       "    <tr>\n",
       "      <th>1</th>\n",
       "      <td>173335</td>\n",
       "      <td>2025-04-01</td>\n",
       "      <td>1</td>\n",
       "      <td>26</td>\n",
       "      <td>1</td>\n",
       "      <td>1</td>\n",
       "    </tr>\n",
       "    <tr>\n",
       "      <th>2</th>\n",
       "      <td>169627</td>\n",
       "      <td>2025-02-01</td>\n",
       "      <td>1</td>\n",
       "      <td>24</td>\n",
       "      <td>2</td>\n",
       "      <td>4</td>\n",
       "    </tr>\n",
       "    <tr>\n",
       "      <th>3</th>\n",
       "      <td>170711</td>\n",
       "      <td>2025-03-01</td>\n",
       "      <td>1</td>\n",
       "      <td>2</td>\n",
       "      <td>1</td>\n",
       "      <td>4</td>\n",
       "    </tr>\n",
       "    <tr>\n",
       "      <th>4</th>\n",
       "      <td>180385</td>\n",
       "      <td>2025-05-01</td>\n",
       "      <td>0</td>\n",
       "      <td>50</td>\n",
       "      <td>1</td>\n",
       "      <td>5</td>\n",
       "    </tr>\n",
       "  </tbody>\n",
       "</table>\n",
       "</div>"
      ],
      "text/plain": [
       "   user_id cohort_month  is_churned  cnt_logins  cnt_formats  \\\n",
       "0   173476   2025-03-01           1           8            1   \n",
       "1   173335   2025-04-01           1          26            1   \n",
       "2   169627   2025-02-01           1          24            2   \n",
       "3   170711   2025-03-01           1           2            1   \n",
       "4   180385   2025-05-01           0          50            1   \n",
       "\n",
       "   cnt_camps_created  \n",
       "0                  1  \n",
       "1                  1  \n",
       "2                  4  \n",
       "3                  4  \n",
       "4                  5  "
      ]
     },
     "execution_count": 40,
     "metadata": {},
     "output_type": "execute_result"
    }
   ],
   "source": [
    "df.head()"
   ]
  },
  {
   "cell_type": "code",
   "execution_count": 41,
   "id": "20ae50b2",
   "metadata": {},
   "outputs": [
    {
     "name": "stdout",
     "output_type": "stream",
     "text": [
      "<class 'pandas.core.frame.DataFrame'>\n",
      "RangeIndex: 1651 entries, 0 to 1650\n",
      "Data columns (total 6 columns):\n",
      " #   Column             Non-Null Count  Dtype \n",
      "---  ------             --------------  ----- \n",
      " 0   user_id            1651 non-null   int64 \n",
      " 1   cohort_month       1651 non-null   object\n",
      " 2   is_churned         1651 non-null   int64 \n",
      " 3   cnt_logins         1651 non-null   int64 \n",
      " 4   cnt_formats        1651 non-null   int64 \n",
      " 5   cnt_camps_created  1651 non-null   int64 \n",
      "dtypes: int64(5), object(1)\n",
      "memory usage: 77.5+ KB\n"
     ]
    }
   ],
   "source": [
    "df.info()"
   ]
  },
  {
   "cell_type": "markdown",
   "id": "0be37d60",
   "metadata": {},
   "source": [
    "#### Анализ групп"
   ]
  },
  {
   "cell_type": "markdown",
   "id": "b2237bff",
   "metadata": {},
   "source": [
    "##### Распределение групп"
   ]
  },
  {
   "cell_type": "markdown",
   "id": "ecf94fa8",
   "metadata": {},
   "source": [
    "Распределение данных для установления групп"
   ]
  },
  {
   "cell_type": "code",
   "execution_count": 94,
   "id": "9491ad0f",
   "metadata": {},
   "outputs": [
    {
     "data": {
      "text/html": [
       "<div>\n",
       "<style scoped>\n",
       "    .dataframe tbody tr th:only-of-type {\n",
       "        vertical-align: middle;\n",
       "    }\n",
       "\n",
       "    .dataframe tbody tr th {\n",
       "        vertical-align: top;\n",
       "    }\n",
       "\n",
       "    .dataframe thead th {\n",
       "        text-align: right;\n",
       "    }\n",
       "</style>\n",
       "<table border=\"1\" class=\"dataframe\">\n",
       "  <thead>\n",
       "    <tr style=\"text-align: right;\">\n",
       "      <th></th>\n",
       "      <th>user_id</th>\n",
       "      <th>is_churned</th>\n",
       "      <th>cnt_logins</th>\n",
       "      <th>cnt_formats</th>\n",
       "      <th>cnt_camps_created</th>\n",
       "      <th>avg_camps_on_format</th>\n",
       "    </tr>\n",
       "  </thead>\n",
       "  <tbody>\n",
       "    <tr>\n",
       "      <th>count</th>\n",
       "      <td>1651.000000</td>\n",
       "      <td>1651.000000</td>\n",
       "      <td>1651.000000</td>\n",
       "      <td>1651.000000</td>\n",
       "      <td>1651.000000</td>\n",
       "      <td>1651.000000</td>\n",
       "    </tr>\n",
       "    <tr>\n",
       "      <th>mean</th>\n",
       "      <td>173991.357965</td>\n",
       "      <td>0.774682</td>\n",
       "      <td>22.456693</td>\n",
       "      <td>1.734706</td>\n",
       "      <td>12.067838</td>\n",
       "      <td>7.416290</td>\n",
       "    </tr>\n",
       "    <tr>\n",
       "      <th>std</th>\n",
       "      <td>10354.884410</td>\n",
       "      <td>0.417918</td>\n",
       "      <td>32.936133</td>\n",
       "      <td>1.089287</td>\n",
       "      <td>79.000600</td>\n",
       "      <td>40.974131</td>\n",
       "    </tr>\n",
       "    <tr>\n",
       "      <th>min</th>\n",
       "      <td>157310.000000</td>\n",
       "      <td>0.000000</td>\n",
       "      <td>0.000000</td>\n",
       "      <td>1.000000</td>\n",
       "      <td>1.000000</td>\n",
       "      <td>1.000000</td>\n",
       "    </tr>\n",
       "    <tr>\n",
       "      <th>25%</th>\n",
       "      <td>164603.000000</td>\n",
       "      <td>1.000000</td>\n",
       "      <td>6.000000</td>\n",
       "      <td>1.000000</td>\n",
       "      <td>2.000000</td>\n",
       "      <td>1.250000</td>\n",
       "    </tr>\n",
       "    <tr>\n",
       "      <th>50%</th>\n",
       "      <td>173417.000000</td>\n",
       "      <td>1.000000</td>\n",
       "      <td>13.000000</td>\n",
       "      <td>1.000000</td>\n",
       "      <td>4.000000</td>\n",
       "      <td>2.000000</td>\n",
       "    </tr>\n",
       "    <tr>\n",
       "      <th>75%</th>\n",
       "      <td>182902.500000</td>\n",
       "      <td>1.000000</td>\n",
       "      <td>26.000000</td>\n",
       "      <td>2.000000</td>\n",
       "      <td>8.000000</td>\n",
       "      <td>5.000000</td>\n",
       "    </tr>\n",
       "    <tr>\n",
       "      <th>max</th>\n",
       "      <td>193389.000000</td>\n",
       "      <td>1.000000</td>\n",
       "      <td>551.000000</td>\n",
       "      <td>8.000000</td>\n",
       "      <td>2232.000000</td>\n",
       "      <td>1116.000000</td>\n",
       "    </tr>\n",
       "  </tbody>\n",
       "</table>\n",
       "</div>"
      ],
      "text/plain": [
       "             user_id   is_churned   cnt_logins  cnt_formats  \\\n",
       "count    1651.000000  1651.000000  1651.000000  1651.000000   \n",
       "mean   173991.357965     0.774682    22.456693     1.734706   \n",
       "std     10354.884410     0.417918    32.936133     1.089287   \n",
       "min    157310.000000     0.000000     0.000000     1.000000   \n",
       "25%    164603.000000     1.000000     6.000000     1.000000   \n",
       "50%    173417.000000     1.000000    13.000000     1.000000   \n",
       "75%    182902.500000     1.000000    26.000000     2.000000   \n",
       "max    193389.000000     1.000000   551.000000     8.000000   \n",
       "\n",
       "       cnt_camps_created  avg_camps_on_format  \n",
       "count        1651.000000          1651.000000  \n",
       "mean           12.067838             7.416290  \n",
       "std            79.000600            40.974131  \n",
       "min             1.000000             1.000000  \n",
       "25%             2.000000             1.250000  \n",
       "50%             4.000000             2.000000  \n",
       "75%             8.000000             5.000000  \n",
       "max          2232.000000          1116.000000  "
      ]
     },
     "execution_count": 94,
     "metadata": {},
     "output_type": "execute_result"
    }
   ],
   "source": [
    "df.describe()"
   ]
  },
  {
   "cell_type": "code",
   "execution_count": 99,
   "id": "e58dafa5",
   "metadata": {},
   "outputs": [
    {
     "data": {
      "text/html": [
       "<div>\n",
       "<style scoped>\n",
       "    .dataframe tbody tr th:only-of-type {\n",
       "        vertical-align: middle;\n",
       "    }\n",
       "\n",
       "    .dataframe tbody tr th {\n",
       "        vertical-align: top;\n",
       "    }\n",
       "\n",
       "    .dataframe thead th {\n",
       "        text-align: right;\n",
       "    }\n",
       "</style>\n",
       "<table border=\"1\" class=\"dataframe\">\n",
       "  <thead>\n",
       "    <tr style=\"text-align: right;\">\n",
       "      <th></th>\n",
       "      <th>user_id</th>\n",
       "      <th>cohort_month</th>\n",
       "      <th>is_churned</th>\n",
       "      <th>cnt_logins</th>\n",
       "      <th>cnt_formats</th>\n",
       "      <th>cnt_camps_created</th>\n",
       "      <th>avg_camps_on_format</th>\n",
       "      <th>camps_on_format_group</th>\n",
       "    </tr>\n",
       "  </thead>\n",
       "  <tbody>\n",
       "    <tr>\n",
       "      <th>546</th>\n",
       "      <td>167478</td>\n",
       "      <td>2025-02-01</td>\n",
       "      <td>0</td>\n",
       "      <td>0</td>\n",
       "      <td>1</td>\n",
       "      <td>2</td>\n",
       "      <td>2.0</td>\n",
       "      <td>2</td>\n",
       "    </tr>\n",
       "    <tr>\n",
       "      <th>608</th>\n",
       "      <td>170935</td>\n",
       "      <td>2025-03-01</td>\n",
       "      <td>0</td>\n",
       "      <td>0</td>\n",
       "      <td>1</td>\n",
       "      <td>4</td>\n",
       "      <td>4.0</td>\n",
       "      <td>4</td>\n",
       "    </tr>\n",
       "  </tbody>\n",
       "</table>\n",
       "</div>"
      ],
      "text/plain": [
       "     user_id cohort_month  is_churned  cnt_logins  cnt_formats  \\\n",
       "546   167478   2025-02-01           0           0            1   \n",
       "608   170935   2025-03-01           0           0            1   \n",
       "\n",
       "     cnt_camps_created  avg_camps_on_format camps_on_format_group  \n",
       "546                  2                  2.0                     2  \n",
       "608                  4                  4.0                     4  "
      ]
     },
     "execution_count": 99,
     "metadata": {},
     "output_type": "execute_result"
    }
   ],
   "source": [
    "df.query('cnt_logins == 0')"
   ]
  },
  {
   "cell_type": "markdown",
   "id": "1a592006",
   "metadata": {},
   "source": [
    "##### Отток по группам, разбитым по кол-ву авторизаций"
   ]
  },
  {
   "cell_type": "markdown",
   "id": "c942ed8e",
   "metadata": {},
   "source": [
    "Функция для присвоения группы по кол-ву авторизаций"
   ]
  },
  {
   "cell_type": "code",
   "execution_count": 102,
   "id": "05195567",
   "metadata": {},
   "outputs": [],
   "source": [
    "def get_group(cnt):\n",
    "        if cnt == 0:\n",
    "            return '0'\n",
    "        elif 1 <= cnt <= 6:\n",
    "            return '1-6'\n",
    "        elif 7 <= cnt <= 13:\n",
    "            return '7-13'\n",
    "        elif 14 <= cnt <= 26:\n",
    "            return '14-26'\n",
    "        else:\n",
    "            return '>26'"
   ]
  },
  {
   "cell_type": "markdown",
   "id": "2ad31a9b",
   "metadata": {},
   "source": [
    "Группы разбиты по квантилям : до 25% данных, 25-50, 50-75, и 75-100%\n",
    "\n",
    "В финальной таблице убираем группу, где 0 авторизаций - в ней только два наблюдения"
   ]
  },
  {
   "cell_type": "code",
   "execution_count": 103,
   "id": "52ce14bf",
   "metadata": {},
   "outputs": [],
   "source": [
    "df['login_group'] = df['cnt_logins'].apply(get_group)"
   ]
  },
  {
   "cell_type": "code",
   "execution_count": 104,
   "id": "4c31ed1f",
   "metadata": {
    "scrolled": true
   },
   "outputs": [
    {
     "name": "stdout",
     "output_type": "stream",
     "text": [
      "Отток по кол-ву логов\n"
     ]
    },
    {
     "data": {
      "text/html": [
       "<div>\n",
       "<style scoped>\n",
       "    .dataframe tbody tr th:only-of-type {\n",
       "        vertical-align: middle;\n",
       "    }\n",
       "\n",
       "    .dataframe tbody tr th {\n",
       "        vertical-align: top;\n",
       "    }\n",
       "\n",
       "    .dataframe thead th {\n",
       "        text-align: right;\n",
       "    }\n",
       "</style>\n",
       "<table border=\"1\" class=\"dataframe\">\n",
       "  <thead>\n",
       "    <tr style=\"text-align: right;\">\n",
       "      <th></th>\n",
       "      <th>login_group</th>\n",
       "      <th>count</th>\n",
       "      <th>proportion</th>\n",
       "      <th>is_churned</th>\n",
       "    </tr>\n",
       "  </thead>\n",
       "  <tbody>\n",
       "    <tr>\n",
       "      <th>0</th>\n",
       "      <td>1-6</td>\n",
       "      <td>444</td>\n",
       "      <td>26.89</td>\n",
       "      <td>93.92</td>\n",
       "    </tr>\n",
       "    <tr>\n",
       "      <th>2</th>\n",
       "      <td>7-13</td>\n",
       "      <td>404</td>\n",
       "      <td>24.47</td>\n",
       "      <td>87.62</td>\n",
       "    </tr>\n",
       "    <tr>\n",
       "      <th>1</th>\n",
       "      <td>14-26</td>\n",
       "      <td>413</td>\n",
       "      <td>25.02</td>\n",
       "      <td>73.12</td>\n",
       "    </tr>\n",
       "    <tr>\n",
       "      <th>3</th>\n",
       "      <td>&gt;26</td>\n",
       "      <td>388</td>\n",
       "      <td>23.50</td>\n",
       "      <td>53.09</td>\n",
       "    </tr>\n",
       "  </tbody>\n",
       "</table>\n",
       "</div>"
      ],
      "text/plain": [
       "  login_group  count  proportion  is_churned\n",
       "0         1-6    444       26.89       93.92\n",
       "2        7-13    404       24.47       87.62\n",
       "1       14-26    413       25.02       73.12\n",
       "3         >26    388       23.50       53.09"
      ]
     },
     "execution_count": 104,
     "metadata": {},
     "output_type": "execute_result"
    }
   ],
   "source": [
    "print('Отток по кол-ву логов')\n",
    "df['login_group'].value_counts().reset_index().merge(round(df['login_group'].value_counts(normalize=True) * 100, 2),\n",
    "on='login_group', how='left').merge(round(df.groupby('login_group')['is_churned'].mean() * 100, 2).sort_values(ascending=False).reset_index(),\n",
    "                             on='login_group', how='left').sort_values(by='is_churned', ascending=False)[:4]"
   ]
  },
  {
   "cell_type": "markdown",
   "id": "9eb8b4d1",
   "metadata": {},
   "source": [
    "Самый высокий отток в первых двух группах"
   ]
  },
  {
   "cell_type": "markdown",
   "id": "ccf25f25",
   "metadata": {},
   "source": [
    "##### Отток по группам, разбитым по кол-ву используемых форматов"
   ]
  },
  {
   "cell_type": "code",
   "execution_count": 105,
   "id": "247b6719",
   "metadata": {
    "scrolled": true
   },
   "outputs": [
    {
     "name": "stdout",
     "output_type": "stream",
     "text": [
      "Распределение данных по кол-ву используемых форматов\n"
     ]
    },
    {
     "data": {
      "text/plain": [
       "cnt_formats\n",
       "1    950\n",
       "2    380\n",
       "3    202\n",
       "4     75\n",
       "5     27\n",
       "6     10\n",
       "8      4\n",
       "7      3\n",
       "Name: count, dtype: int64"
      ]
     },
     "execution_count": 105,
     "metadata": {},
     "output_type": "execute_result"
    }
   ],
   "source": [
    "print('Распределение данных по кол-ву используемых форматов')\n",
    "df['cnt_formats'].value_counts()"
   ]
  },
  {
   "cell_type": "markdown",
   "id": "25e7c05e",
   "metadata": {},
   "source": [
    "Видим что в основном используют от 1 до 3 форматов. Всё, что больше - объединяем в одну группу"
   ]
  },
  {
   "cell_type": "code",
   "execution_count": 70,
   "id": "046da12f",
   "metadata": {},
   "outputs": [],
   "source": [
    "def get_group_formats(cnt):\n",
    "        if cnt == 1:\n",
    "            return '1'\n",
    "        elif cnt == 2:\n",
    "            return '2'\n",
    "        elif cnt == 3:\n",
    "            return '3'\n",
    "        else:\n",
    "            return '>= 4'"
   ]
  },
  {
   "cell_type": "code",
   "execution_count": 71,
   "id": "d18a143d",
   "metadata": {},
   "outputs": [],
   "source": [
    "df['format_group'] = df['cnt_formats'].apply(get_group_formats)"
   ]
  },
  {
   "cell_type": "code",
   "execution_count": 72,
   "id": "7250180c",
   "metadata": {},
   "outputs": [
    {
     "name": "stdout",
     "output_type": "stream",
     "text": [
      "Отток по кол-ву логов\n"
     ]
    },
    {
     "data": {
      "text/html": [
       "<div>\n",
       "<style scoped>\n",
       "    .dataframe tbody tr th:only-of-type {\n",
       "        vertical-align: middle;\n",
       "    }\n",
       "\n",
       "    .dataframe tbody tr th {\n",
       "        vertical-align: top;\n",
       "    }\n",
       "\n",
       "    .dataframe thead th {\n",
       "        text-align: right;\n",
       "    }\n",
       "</style>\n",
       "<table border=\"1\" class=\"dataframe\">\n",
       "  <thead>\n",
       "    <tr style=\"text-align: right;\">\n",
       "      <th></th>\n",
       "      <th>format_group</th>\n",
       "      <th>count</th>\n",
       "      <th>proportion</th>\n",
       "      <th>is_churned</th>\n",
       "    </tr>\n",
       "  </thead>\n",
       "  <tbody>\n",
       "    <tr>\n",
       "      <th>0</th>\n",
       "      <td>1</td>\n",
       "      <td>950</td>\n",
       "      <td>57.54</td>\n",
       "      <td>83.89</td>\n",
       "    </tr>\n",
       "    <tr>\n",
       "      <th>1</th>\n",
       "      <td>2</td>\n",
       "      <td>380</td>\n",
       "      <td>23.02</td>\n",
       "      <td>72.37</td>\n",
       "    </tr>\n",
       "    <tr>\n",
       "      <th>3</th>\n",
       "      <td>&gt;= 4</td>\n",
       "      <td>119</td>\n",
       "      <td>7.21</td>\n",
       "      <td>68.07</td>\n",
       "    </tr>\n",
       "    <tr>\n",
       "      <th>2</th>\n",
       "      <td>3</td>\n",
       "      <td>202</td>\n",
       "      <td>12.24</td>\n",
       "      <td>62.38</td>\n",
       "    </tr>\n",
       "  </tbody>\n",
       "</table>\n",
       "</div>"
      ],
      "text/plain": [
       "  format_group  count  proportion  is_churned\n",
       "0            1    950       57.54       83.89\n",
       "1            2    380       23.02       72.37\n",
       "3         >= 4    119        7.21       68.07\n",
       "2            3    202       12.24       62.38"
      ]
     },
     "execution_count": 72,
     "metadata": {},
     "output_type": "execute_result"
    }
   ],
   "source": [
    "print('Отток по кол-ву логов')\n",
    "df['format_group'].value_counts().reset_index().merge(round(df['format_group'].value_counts(normalize=True) * 100, 2),\n",
    "on='format_group', how='left').merge(round(df.groupby('format_group')['is_churned'].mean() * 100, 2).sort_values(ascending=False).reset_index(),\n",
    "                             on='format_group', how='left').sort_values(by='is_churned', ascending=False)"
   ]
  },
  {
   "cell_type": "markdown",
   "id": "7c5990f8",
   "metadata": {},
   "source": [
    "Самый высокий отток в первых двух группах"
   ]
  },
  {
   "cell_type": "markdown",
   "id": "9835d8c9",
   "metadata": {},
   "source": [
    "##### Отток по группам, разбитым по кол-ву созданных кампаний"
   ]
  },
  {
   "cell_type": "code",
   "execution_count": 61,
   "id": "792554e0",
   "metadata": {},
   "outputs": [
    {
     "data": {
      "text/plain": [
       "count    1651.000000\n",
       "mean       12.067838\n",
       "std        79.000600\n",
       "min         1.000000\n",
       "25%         2.000000\n",
       "50%         4.000000\n",
       "75%         8.000000\n",
       "max      2232.000000\n",
       "Name: cnt_camps_created, dtype: float64"
      ]
     },
     "execution_count": 61,
     "metadata": {},
     "output_type": "execute_result"
    }
   ],
   "source": [
    "df['cnt_camps_created'].describe()"
   ]
  },
  {
   "cell_type": "code",
   "execution_count": 62,
   "id": "0049bab1",
   "metadata": {},
   "outputs": [],
   "source": [
    "def get_group_camps(cnt):\n",
    "        if cnt == 1:\n",
    "            return '1'\n",
    "        elif cnt == 2:\n",
    "            return '2'\n",
    "        elif 3 <= cnt <= 4:\n",
    "            return '3-4'\n",
    "        elif 5 <= cnt <= 8:\n",
    "            return '5-8'\n",
    "        else:\n",
    "            return '>8'"
   ]
  },
  {
   "cell_type": "markdown",
   "id": "47d96037",
   "metadata": {},
   "source": [
    "Так же логичным кажется деление на группы по квантилям"
   ]
  },
  {
   "cell_type": "code",
   "execution_count": 63,
   "id": "57e6ce91",
   "metadata": {},
   "outputs": [],
   "source": [
    "df['camps_group'] = df['cnt_camps_created'].apply(get_group_camps)"
   ]
  },
  {
   "cell_type": "code",
   "execution_count": 66,
   "id": "471e800b",
   "metadata": {},
   "outputs": [
    {
     "data": {
      "text/html": [
       "<div>\n",
       "<style scoped>\n",
       "    .dataframe tbody tr th:only-of-type {\n",
       "        vertical-align: middle;\n",
       "    }\n",
       "\n",
       "    .dataframe tbody tr th {\n",
       "        vertical-align: top;\n",
       "    }\n",
       "\n",
       "    .dataframe thead th {\n",
       "        text-align: right;\n",
       "    }\n",
       "</style>\n",
       "<table border=\"1\" class=\"dataframe\">\n",
       "  <thead>\n",
       "    <tr style=\"text-align: right;\">\n",
       "      <th></th>\n",
       "      <th>camps_group</th>\n",
       "      <th>count</th>\n",
       "      <th>proportion</th>\n",
       "      <th>is_churned</th>\n",
       "    </tr>\n",
       "  </thead>\n",
       "  <tbody>\n",
       "    <tr>\n",
       "      <th>3</th>\n",
       "      <td>1</td>\n",
       "      <td>284</td>\n",
       "      <td>17.20</td>\n",
       "      <td>92.25</td>\n",
       "    </tr>\n",
       "    <tr>\n",
       "      <th>4</th>\n",
       "      <td>2</td>\n",
       "      <td>267</td>\n",
       "      <td>16.17</td>\n",
       "      <td>89.51</td>\n",
       "    </tr>\n",
       "    <tr>\n",
       "      <th>0</th>\n",
       "      <td>3-4</td>\n",
       "      <td>383</td>\n",
       "      <td>23.20</td>\n",
       "      <td>82.77</td>\n",
       "    </tr>\n",
       "    <tr>\n",
       "      <th>2</th>\n",
       "      <td>5-8</td>\n",
       "      <td>352</td>\n",
       "      <td>21.32</td>\n",
       "      <td>73.58</td>\n",
       "    </tr>\n",
       "    <tr>\n",
       "      <th>1</th>\n",
       "      <td>&gt;8</td>\n",
       "      <td>365</td>\n",
       "      <td>22.11</td>\n",
       "      <td>55.34</td>\n",
       "    </tr>\n",
       "  </tbody>\n",
       "</table>\n",
       "</div>"
      ],
      "text/plain": [
       "  camps_group  count  proportion  is_churned\n",
       "3           1    284       17.20       92.25\n",
       "4           2    267       16.17       89.51\n",
       "0         3-4    383       23.20       82.77\n",
       "2         5-8    352       21.32       73.58\n",
       "1          >8    365       22.11       55.34"
      ]
     },
     "execution_count": 66,
     "metadata": {},
     "output_type": "execute_result"
    }
   ],
   "source": [
    "df['camps_group'].value_counts().reset_index().merge(round(df['camps_group'].value_counts(normalize=True) * 100, 2),\n",
    "on='camps_group', how='left').merge(round(df.groupby('camps_group')['is_churned'].mean() * 100, 2).sort_values(ascending=False).reset_index(),\n",
    "                             on='camps_group', how='left').sort_values(by='is_churned', ascending=False)"
   ]
  },
  {
   "cell_type": "markdown",
   "id": "ecb056e0",
   "metadata": {},
   "source": [
    "Тоже видим что склонны к оттоку чаще пользователи, у которых не так много кампаний"
   ]
  },
  {
   "cell_type": "markdown",
   "id": "a5a5e078",
   "metadata": {},
   "source": [
    "##### Отток по группам, разбитым по кол-ву кампаний на один формат"
   ]
  },
  {
   "cell_type": "markdown",
   "id": "2987e075",
   "metadata": {},
   "source": [
    "Так же поступил запрос на изучение оттока в группах по использованию кампаний на одном формате\n",
    "\n",
    "В данном случае мы просто делим кол-во кампаний юзера на кол-во используемых им форматов, и получаем кол-во кампаний, приходящих на один формат"
   ]
  },
  {
   "cell_type": "code",
   "execution_count": 75,
   "id": "c82c7786",
   "metadata": {},
   "outputs": [
    {
     "data": {
      "text/plain": [
       "count    1651.000000\n",
       "mean        7.416290\n",
       "std        40.974131\n",
       "min         1.000000\n",
       "25%         1.250000\n",
       "50%         2.000000\n",
       "75%         5.000000\n",
       "max      1116.000000\n",
       "Name: avg_camps_on_format, dtype: float64"
      ]
     },
     "execution_count": 75,
     "metadata": {},
     "output_type": "execute_result"
    }
   ],
   "source": [
    "df['avg_camps_on_format'].describe()"
   ]
  },
  {
   "cell_type": "code",
   "execution_count": 106,
   "id": "e62dc5f9",
   "metadata": {},
   "outputs": [],
   "source": [
    "def get_group_camps_on_format(cnt):\n",
    "        if 1 <= cnt < 1.5:\n",
    "            return '1'\n",
    "        elif 1.5 <= cnt < 2.5:\n",
    "            return '2'\n",
    "        elif 2.5 <= cnt < 3.5:\n",
    "            return '3'\n",
    "        elif 3.5 <= cnt < 4.5:\n",
    "            return '4'\n",
    "        elif 4.5 <= cnt < 5.5:\n",
    "            return '5'\n",
    "        else:\n",
    "            return '>5'"
   ]
  },
  {
   "cell_type": "markdown",
   "id": "9afef7fb",
   "metadata": {},
   "source": [
    "Так же разделим группы по квантилям. \n",
    "\n",
    "Так как наша метрика не всегда целочисленная, округлим дробные части до целых чисел в группах"
   ]
  },
  {
   "cell_type": "code",
   "execution_count": 107,
   "id": "26132a2a",
   "metadata": {},
   "outputs": [],
   "source": [
    "df['camps_on_format_group'] = df['avg_camps_on_format'].apply(get_group_camps_on_format)"
   ]
  },
  {
   "cell_type": "code",
   "execution_count": 108,
   "id": "0e2f9964",
   "metadata": {},
   "outputs": [
    {
     "data": {
      "text/html": [
       "<div>\n",
       "<style scoped>\n",
       "    .dataframe tbody tr th:only-of-type {\n",
       "        vertical-align: middle;\n",
       "    }\n",
       "\n",
       "    .dataframe tbody tr th {\n",
       "        vertical-align: top;\n",
       "    }\n",
       "\n",
       "    .dataframe thead th {\n",
       "        text-align: right;\n",
       "    }\n",
       "</style>\n",
       "<table border=\"1\" class=\"dataframe\">\n",
       "  <thead>\n",
       "    <tr style=\"text-align: right;\">\n",
       "      <th></th>\n",
       "      <th>camps_on_format_group</th>\n",
       "      <th>count</th>\n",
       "      <th>proportion</th>\n",
       "      <th>is_churned</th>\n",
       "    </tr>\n",
       "  </thead>\n",
       "  <tbody>\n",
       "    <tr>\n",
       "      <th>0</th>\n",
       "      <td>1</td>\n",
       "      <td>451</td>\n",
       "      <td>27.32</td>\n",
       "      <td>88.25</td>\n",
       "    </tr>\n",
       "    <tr>\n",
       "      <th>1</th>\n",
       "      <td>2</td>\n",
       "      <td>411</td>\n",
       "      <td>24.89</td>\n",
       "      <td>82.73</td>\n",
       "    </tr>\n",
       "    <tr>\n",
       "      <th>4</th>\n",
       "      <td>4</td>\n",
       "      <td>148</td>\n",
       "      <td>8.96</td>\n",
       "      <td>77.03</td>\n",
       "    </tr>\n",
       "    <tr>\n",
       "      <th>3</th>\n",
       "      <td>3</td>\n",
       "      <td>206</td>\n",
       "      <td>12.48</td>\n",
       "      <td>74.76</td>\n",
       "    </tr>\n",
       "    <tr>\n",
       "      <th>5</th>\n",
       "      <td>5</td>\n",
       "      <td>88</td>\n",
       "      <td>5.33</td>\n",
       "      <td>64.77</td>\n",
       "    </tr>\n",
       "    <tr>\n",
       "      <th>2</th>\n",
       "      <td>&gt;5</td>\n",
       "      <td>347</td>\n",
       "      <td>21.02</td>\n",
       "      <td>62.25</td>\n",
       "    </tr>\n",
       "  </tbody>\n",
       "</table>\n",
       "</div>"
      ],
      "text/plain": [
       "  camps_on_format_group  count  proportion  is_churned\n",
       "0                     1    451       27.32       88.25\n",
       "1                     2    411       24.89       82.73\n",
       "4                     4    148        8.96       77.03\n",
       "3                     3    206       12.48       74.76\n",
       "5                     5     88        5.33       64.77\n",
       "2                    >5    347       21.02       62.25"
      ]
     },
     "execution_count": 108,
     "metadata": {},
     "output_type": "execute_result"
    }
   ],
   "source": [
    "df['camps_on_format_group'].value_counts().reset_index().merge(round(df['camps_on_format_group'].value_counts(normalize=True) * 100, 2),\n",
    "on='camps_on_format_group', how='left').merge(round(df.groupby('camps_on_format_group')['is_churned'].mean() * 100, 2).sort_values(ascending=False).reset_index(),\n",
    "                             on='camps_on_format_group', how='left').sort_values(by='is_churned', ascending=False)"
   ]
  },
  {
   "cell_type": "markdown",
   "id": "db89b711",
   "metadata": {},
   "source": [
    "Видим похожую картину как и в случае с кампаниями\n",
    "\n",
    "Самая лучшая стратегия - использовать множество кампаний на многих или одном формате"
   ]
  }
 ],
 "metadata": {
  "kernelspec": {
   "display_name": "Python 3 (ipykernel)",
   "language": "python",
   "name": "python3"
  },
  "language_info": {
   "codemirror_mode": {
    "name": "ipython",
    "version": 3
   },
   "file_extension": ".py",
   "mimetype": "text/x-python",
   "name": "python",
   "nbconvert_exporter": "python",
   "pygments_lexer": "ipython3",
   "version": "3.12.3"
  },
  "toc": {
   "base_numbering": 1,
   "nav_menu": {},
   "number_sections": true,
   "sideBar": true,
   "skip_h1_title": false,
   "title_cell": "Table of Contents",
   "title_sidebar": "Contents",
   "toc_cell": false,
   "toc_position": {},
   "toc_section_display": true,
   "toc_window_display": false
  }
 },
 "nbformat": 4,
 "nbformat_minor": 5
}
